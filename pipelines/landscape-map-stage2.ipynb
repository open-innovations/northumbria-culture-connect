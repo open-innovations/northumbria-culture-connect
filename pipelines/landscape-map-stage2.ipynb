{
 "cells": [
  {
   "cell_type": "markdown",
   "metadata": {},
   "source": [
    "# Landscape Map - Stage 2\n",
    "\n",
    "This stage attempts to cleanse the data, match to other sources of data and tag with categories (such as Individuals)."
   ]
  },
  {
   "cell_type": "code",
   "execution_count": 7,
   "metadata": {},
   "outputs": [],
   "source": [
    "import duckdb\n",
    "import pandas as pd\n",
    "from thefuzz.process import extractOne, extractBests"
   ]
  },
  {
   "cell_type": "markdown",
   "metadata": {},
   "source": [
    "## Make direct matches to the company data"
   ]
  },
  {
   "cell_type": "markdown",
   "metadata": {},
   "source": [
    "First, lets load the company data database."
   ]
  },
  {
   "cell_type": "code",
   "execution_count": 8,
   "metadata": {},
   "outputs": [],
   "source": [
    "db = duckdb.connect('../raw/company-data.db', read_only=True)"
   ]
  },
  {
   "cell_type": "markdown",
   "metadata": {},
   "source": [
    "Then we'll load our raw longlist into a temporary table."
   ]
  },
  {
   "cell_type": "code",
   "execution_count": 9,
   "metadata": {},
   "outputs": [],
   "source": [
    "db.sql('''CREATE TEMP TABLE tRaw AS SELECT DISTINCT organisation FROM read_csv('../raw/landscape-longlist-raw.csv');''')"
   ]
  },
  {
   "cell_type": "code",
   "execution_count": 10,
   "metadata": {},
   "outputs": [
    {
     "data": {
      "text/plain": [
       "┌───────┐\n",
       "│ Count │\n",
       "│ int64 │\n",
       "├───────┤\n",
       "│   502 │\n",
       "└───────┘"
      ]
     },
     "execution_count": 10,
     "metadata": {},
     "output_type": "execute_result"
    }
   ],
   "source": [
    "db.sql('''SELECT COUNT(*) AS Count FROM tRaw''')"
   ]
  },
  {
   "cell_type": "markdown",
   "metadata": {},
   "source": [
    "We'll create a table of direct matches"
   ]
  },
  {
   "cell_type": "code",
   "execution_count": 11,
   "metadata": {},
   "outputs": [],
   "source": [
    "db.sql('''\n",
    "       CREATE TEMP TABLE tDirect as SELECT r.*,\n",
    "              CompanyName as registered_name,\n",
    "              CompanyNumber as company_number,\n",
    "              \"URI\" as uri,\n",
    "              \"RegAddress.PostTown\" as post_town,\n",
    "              \"RegAddress.PostCode\" as postcode,\n",
    "              CompanyCategory as company_category,\n",
    "              CompanyStatus as company_status,\n",
    "              [x for x in [\n",
    "                     \"SICCode.SicText_1\",\n",
    "                     \"SICCode.SicText_2\",\n",
    "                     \"SICCode.SicText_3\",\n",
    "                     \"SICCode.SicText_4\"\n",
    "              ] if x is not NULL] as sic_code,\n",
    "              IncorporationDate as incorporation_date,\n",
    "              DissolutionDate as dissolution_date,\n",
    "              \"Accounts.AccountCategory\" as accounts_category\n",
    "              -- , c.*\n",
    "                        \n",
    "       FROM tRaw r LEFT JOIN CompanyData c\n",
    "       ON upper(r.organisation) == c.CompanyName;\n",
    "''')"
   ]
  },
  {
   "cell_type": "code",
   "execution_count": 12,
   "metadata": {},
   "outputs": [],
   "source": [
    "direct_matches = db.sql('SELECT * from tDirect WHERE company_number IS NOT NULL').df()"
   ]
  },
  {
   "cell_type": "code",
   "execution_count": 13,
   "metadata": {},
   "outputs": [],
   "source": [
    "db.close()"
   ]
  },
  {
   "cell_type": "code",
   "execution_count": 14,
   "metadata": {},
   "outputs": [],
   "source": [
    "direct_matches.sort_values(by='organisation').to_csv('../raw/landscape-map-company-data.csv', index=False)"
   ]
  },
  {
   "cell_type": "markdown",
   "metadata": {},
   "source": [
    "## Fix typos in longlist"
   ]
  },
  {
   "cell_type": "markdown",
   "metadata": {},
   "source": [
    "Having matched the details, let's see if we can fuzzy match missing items in the longlist."
   ]
  },
  {
   "cell_type": "markdown",
   "metadata": {},
   "source": [
    "First, let's get a list of organisations that have been matched to Company House data."
   ]
  },
  {
   "cell_type": "code",
   "execution_count": 15,
   "metadata": {},
   "outputs": [],
   "source": [
    "matched_organisations = direct_matches.organisation.unique().tolist()"
   ]
  },
  {
   "cell_type": "markdown",
   "metadata": {},
   "source": [
    "Then load the raw longlist"
   ]
  },
  {
   "cell_type": "code",
   "execution_count": 16,
   "metadata": {},
   "outputs": [],
   "source": [
    "raw = pd.read_csv('../raw/landscape-longlist-raw.csv')"
   ]
  },
  {
   "cell_type": "code",
   "execution_count": 17,
   "metadata": {},
   "outputs": [
    {
     "data": {
      "text/html": [
       "<div>\n",
       "<style scoped>\n",
       "    .dataframe tbody tr th:only-of-type {\n",
       "        vertical-align: middle;\n",
       "    }\n",
       "\n",
       "    .dataframe tbody tr th {\n",
       "        vertical-align: top;\n",
       "    }\n",
       "\n",
       "    .dataframe thead th {\n",
       "        text-align: right;\n",
       "    }\n",
       "</style>\n",
       "<table border=\"1\" class=\"dataframe\">\n",
       "  <thead>\n",
       "    <tr style=\"text-align: right;\">\n",
       "      <th></th>\n",
       "      <th>match</th>\n",
       "    </tr>\n",
       "    <tr>\n",
       "      <th>organisation</th>\n",
       "      <th></th>\n",
       "    </tr>\n",
       "  </thead>\n",
       "  <tbody>\n",
       "    <tr>\n",
       "      <th>Monkfish Productions CIC</th>\n",
       "      <td>Monkfish Productions CIO</td>\n",
       "    </tr>\n",
       "    <tr>\n",
       "      <th>Moving Parts Arts</th>\n",
       "      <td>Moving Parts Arts CIO</td>\n",
       "    </tr>\n",
       "    <tr>\n",
       "      <th>tiny dragon Productins</th>\n",
       "      <td>tiny dragon Productions</td>\n",
       "    </tr>\n",
       "  </tbody>\n",
       "</table>\n",
       "</div>"
      ],
      "text/plain": [
       "                                             match\n",
       "organisation                                      \n",
       "Monkfish Productions CIC  Monkfish Productions CIO\n",
       "Moving Parts Arts            Moving Parts Arts CIO\n",
       "tiny dragon Productins     tiny dragon Productions"
      ]
     },
     "execution_count": 17,
     "metadata": {},
     "output_type": "execute_result"
    }
   ],
   "source": [
    "corrections = pd.concat(\n",
    "    [\n",
    "        raw,\n",
    "        raw.organisation.map(\n",
    "            lambda x: extractOne(x, matched_organisations, score_cutoff=90)\n",
    "        ).apply(\n",
    "            pd.Series, index=['match', 'score']\n",
    "        )\n",
    "    ], axis=1\n",
    ").query(\n",
    "    'score.notna() and score < 100'\n",
    ").loc[: ,['organisation', 'match']].set_index('organisation')\n",
    "corrections"
   ]
  },
  {
   "cell_type": "code",
   "execution_count": 18,
   "metadata": {},
   "outputs": [],
   "source": [
    "corrections.to_csv('../raw/landscape-map-corrections.csv')"
   ]
  },
  {
   "cell_type": "markdown",
   "metadata": {},
   "source": [
    "## Fuzzy match company data"
   ]
  },
  {
   "cell_type": "code",
   "execution_count": 19,
   "metadata": {},
   "outputs": [],
   "source": [
    "drop_list = pd.concat([direct_matches, corrections.reset_index()]).organisation"
   ]
  },
  {
   "cell_type": "code",
   "execution_count": 20,
   "metadata": {},
   "outputs": [],
   "source": [
    "db = duckdb.connect('../raw/company-data.db', read_only=True)"
   ]
  },
  {
   "cell_type": "code",
   "execution_count": 21,
   "metadata": {},
   "outputs": [],
   "source": [
    "companies = db.query('''\n",
    "                        SELECT DISTINCT CompanyName, CompanyNumber FROM CompanyData\n",
    "                        WHERE CompanyStatus == 'Active'\n",
    "                        AND \"RegAddress.PostCode\" SIMILAR TO '(NE|DH|SR).*'\n",
    "                        ORDER BY CompanyName;\n",
    "''').df()"
   ]
  },
  {
   "cell_type": "code",
   "execution_count": 22,
   "metadata": {},
   "outputs": [],
   "source": [
    "db.close()"
   ]
  },
  {
   "cell_type": "code",
   "execution_count": 23,
   "metadata": {},
   "outputs": [],
   "source": [
    "candidates = pd.read_csv('../raw/landscape-longlist-raw.csv', usecols=[0]).organisation"
   ]
  },
  {
   "cell_type": "code",
   "execution_count": 24,
   "metadata": {},
   "outputs": [],
   "source": [
    "candidate_list = candidates[~candidates.isin(drop_list)].unique().tolist()\n",
    "def matcher(c, choices):\n",
    "    return extractBests(c, choices, score_cutoff=80)\n"
   ]
  },
  {
   "cell_type": "code",
   "execution_count": 40,
   "metadata": {},
   "outputs": [],
   "source": [
    "matches = companies.CompanyName.str.replace(r'\\W+', ' ', regex=True).apply(matcher, choices=candidate_list).rename('Matches')"
   ]
  },
  {
   "cell_type": "code",
   "execution_count": 48,
   "metadata": {},
   "outputs": [],
   "source": [
    "res = pd.concat([companies, matches], axis=1).explode('Matches').dropna()\n",
    "res['match'], res['score'] = zip(*res.Matches)\n",
    "\n",
    "fuzzy_matches = res.loc[res.score > 90, ['match', 'CompanyName', 'CompanyNumber', 'score']]\n",
    "fuzzy_matches['type'] = 'fuzzy'\n",
    "fuzzy_matches.set_index('match').to_csv('../raw/landscape_fuzzy.csv')"
   ]
  },
  {
   "cell_type": "markdown",
   "metadata": {},
   "source": [
    "## Identify possible individuals"
   ]
  }
 ],
 "metadata": {
  "kernelspec": {
   "display_name": "northumbria-culture-connect-dQ7VTDtt",
   "language": "python",
   "name": "python3"
  },
  "language_info": {
   "codemirror_mode": {
    "name": "ipython",
    "version": 3
   },
   "file_extension": ".py",
   "mimetype": "text/x-python",
   "name": "python",
   "nbconvert_exporter": "python",
   "pygments_lexer": "ipython3",
   "version": "3.12.6"
  }
 },
 "nbformat": 4,
 "nbformat_minor": 2
}
