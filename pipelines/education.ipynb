{
 "cells": [
  {
   "cell_type": "code",
   "execution_count": 1,
   "metadata": {},
   "outputs": [],
   "source": [
    "from pathlib import Path\n",
    "\n",
    "import petl as etl"
   ]
  },
  {
   "cell_type": "code",
   "execution_count": 2,
   "metadata": {},
   "outputs": [],
   "source": [
    "ks2 = (\n",
    "    etl\n",
    "        .fromcsv('../data/dfes/ks2_regional_and_local_authority_2016_to_2024_provisional.csv')\n",
    ")"
   ]
  },
  {
   "cell_type": "code",
   "execution_count": 3,
   "metadata": {},
   "outputs": [],
   "source": [
    "ks2_reading_fields = ['time_period', 'geo_code', 'geo_name', 'pt_read_met_higher_standard', 'pt_read_met_expected_standard', 'pt_gps_met_expected_standard']\n",
    "\n",
    "ks2_reading = etl.cat(\n",
    "    ks2\n",
    "        .selecteq('gender', 'Total')\n",
    "        .selecteq('geographic_level', 'National')\n",
    "        .rename({\n",
    "            'country_code': 'geo_code',\n",
    "            'country_name': 'geo_name',\n",
    "        })\n",
    "        .cut(*ks2_reading_fields),\n",
    "    ks2\n",
    "        .selecteq('gender', 'Total')\n",
    "        .select(\n",
    "            lambda r: r.geographic_level == 'Regional' and r.region_code == 'E12000001'\n",
    "        )\n",
    "        .rename({\n",
    "            'region_code': 'geo_code',\n",
    "            'region_name': 'geo_name',\n",
    "        })\n",
    "        .cut(*ks2_reading_fields),\n",
    "    ks2\n",
    "        .selecteq('gender', 'Total')\n",
    "        .selecteq('new_la_code', 'E08000021')\n",
    "        .rename({\n",
    "            'new_la_code': 'geo_code',\n",
    "            'la_name': 'geo_name',\n",
    "        })\n",
    "        .cut(*ks2_reading_fields)\n",
    ").replaceall('x', None)"
   ]
  },
  {
   "cell_type": "code",
   "execution_count": 4,
   "metadata": {},
   "outputs": [],
   "source": [
    "OUT = Path('../src/data/education/_data/')\n",
    "OUT.mkdir(exist_ok=True, parents=True)"
   ]
  },
  {
   "cell_type": "code",
   "execution_count": 5,
   "metadata": {},
   "outputs": [],
   "source": [
    "ks2_reading.tocsv(OUT / 'ks2_reading.csv')"
   ]
  },
  {
   "cell_type": "code",
   "execution_count": null,
   "metadata": {},
   "outputs": [],
   "source": []
  }
 ],
 "metadata": {
  "kernelspec": {
   "display_name": "northumbria-culture-connect-dQ7VTDtt",
   "language": "python",
   "name": "python3"
  },
  "language_info": {
   "codemirror_mode": {
    "name": "ipython",
    "version": 3
   },
   "file_extension": ".py",
   "mimetype": "text/x-python",
   "name": "python",
   "nbconvert_exporter": "python",
   "pygments_lexer": "ipython3",
   "version": "3.12.7"
  }
 },
 "nbformat": 4,
 "nbformat_minor": 2
}
