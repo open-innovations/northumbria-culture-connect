{
 "cells": [
  {
   "cell_type": "markdown",
   "metadata": {},
   "source": [
    "# Culture Landscape map, stage 1\n",
    "\n",
    "The purpose of this stage is to process raw funding data into a candidate longlist broken down by local authority and source.\n",
    "\n",
    "Dependencies:\n",
    "\n",
    "* Downloaded funding data (see `get-data.py`)\n",
    "* `PYTHONPATH` environment variable must include `<PROJECT ROOT>/pipelines`."
   ]
  },
  {
   "cell_type": "markdown",
   "metadata": {},
   "source": [
    "## Setup"
   ]
  },
  {
   "cell_type": "markdown",
   "metadata": {},
   "source": [
    "Import some libraries and local utility functions. Ensure that `PYTHONPATH` is set correctly in the environment running this code."
   ]
  },
  {
   "cell_type": "code",
   "execution_count": 1,
   "metadata": {},
   "outputs": [],
   "source": [
    "import petl as etl\n",
    "from config import RAW, FUNDED_ORGS_LIST, la_names"
   ]
  },
  {
   "cell_type": "markdown",
   "metadata": {},
   "source": [
    "Configure a date parser"
   ]
  },
  {
   "cell_type": "code",
   "execution_count": 2,
   "metadata": {},
   "outputs": [],
   "source": [
    "date_parser = etl.dateparser('%Y-%m-%d 00:00:00')"
   ]
  },
  {
   "cell_type": "markdown",
   "metadata": {},
   "source": [
    "## Load data"
   ]
  },
  {
   "cell_type": "markdown",
   "metadata": {},
   "source": [
    "### Arts Council England Investment Programme"
   ]
  },
  {
   "cell_type": "code",
   "execution_count": 3,
   "metadata": {},
   "outputs": [],
   "source": [
    "ace_investment_programme = (\n",
    "    etl.fromcsv(RAW / 'arts-council-investment-programme.csv')\n",
    "    .rename({\n",
    "            'Applicant Name': 'organisation',\n",
    "            \"Type of organisation\\n(NPO/IPSO/Transfer)\": 'Source'\n",
    "            })\n",
    "    .addfield('Period', '2023/26')\n",
    "    .cut('organisation', 'Source', 'Local authority', 'Period')\n",
    ")"
   ]
  },
  {
   "cell_type": "markdown",
   "metadata": {},
   "source": [
    "### Arts Council England Project Grants"
   ]
  },
  {
   "cell_type": "code",
   "execution_count": 4,
   "metadata": {},
   "outputs": [],
   "source": [
    "ace_project_grants = (\n",
    "    etl.fromcsv(RAW / 'arts-council-project-grants.csv')\n",
    "    .convert('Award date', lambda d: date_parser(d).year)\n",
    "    .rename({\n",
    "            'Recipient': 'organisation',\n",
    "            'Award date': 'Period'\n",
    "            })\n",
    "    .addfield('Source', 'Project Grant')\n",
    "    .cut('organisation', 'Source', 'Local authority', 'Period')\n",
    ")"
   ]
  },
  {
   "cell_type": "markdown",
   "metadata": {},
   "source": [
    "## Combine data"
   ]
  },
  {
   "cell_type": "markdown",
   "metadata": {},
   "source": [
    "Combine all data into a single table,\n",
    "then select just the local authorities in the region.\n",
    "Filter out some missing organisations\n",
    "and finally aggregate by organisation / Local authority / Source."
   ]
  },
  {
   "cell_type": "code",
   "execution_count": 5,
   "metadata": {},
   "outputs": [],
   "source": [
    "data = etl.cat(\n",
    "    ace_investment_programme,\n",
    "    ace_project_grants\n",
    ").selectin(\n",
    "    'Local authority', la_names\n",
    ").selectnotin(\n",
    "    'organisation', ['-']\n",
    ").convert(\n",
    "    'organisation', lambda x: x.strip()\n",
    ").aggregate(\n",
    "    ('organisation', 'Local authority', 'Source'),\n",
    "    len,\n",
    "    field=\"Number\"\n",
    ").sort(\n",
    "    ['organisation', 'Local authority']\n",
    ")"
   ]
  },
  {
   "cell_type": "markdown",
   "metadata": {},
   "source": [
    "Save the funded organisation list."
   ]
  },
  {
   "cell_type": "code",
   "execution_count": 6,
   "metadata": {},
   "outputs": [],
   "source": [
    "data.tocsv(FUNDED_ORGS_LIST)"
   ]
  }
 ],
 "metadata": {
  "kernelspec": {
   "display_name": "northumbria-culture-connect-dQ7VTDtt",
   "language": "python",
   "name": "python3"
  },
  "language_info": {
   "codemirror_mode": {
    "name": "ipython",
    "version": 3
   },
   "file_extension": ".py",
   "mimetype": "text/x-python",
   "name": "python",
   "nbconvert_exporter": "python",
   "pygments_lexer": "ipython3",
   "version": "3.10.12"
  }
 },
 "nbformat": 4,
 "nbformat_minor": 2
}
