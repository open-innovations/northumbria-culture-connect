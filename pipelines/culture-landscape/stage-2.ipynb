{
 "cells": [
  {
   "cell_type": "markdown",
   "metadata": {},
   "source": [
    "# Landscape Map - Stage 2\n",
    "\n",
    "This stage attempts to cleanse the data, match to other sources of data and tag with categories (such as Individuals)."
   ]
  },
  {
   "cell_type": "code",
   "execution_count": 1,
   "metadata": {},
   "outputs": [],
   "source": [
    "import duckdb\n",
    "import pandas as pd\n",
    "from thefuzz.process import extractOne, extractBests\n",
    "\n",
    "from config import RAW, WORKING, FUNDED_ORGS_LIST"
   ]
  },
  {
   "cell_type": "markdown",
   "metadata": {},
   "source": [
    "## Make direct matches to the company data"
   ]
  },
  {
   "cell_type": "markdown",
   "metadata": {},
   "source": [
    "First, lets load the company data database."
   ]
  },
  {
   "cell_type": "code",
   "execution_count": 2,
   "metadata": {},
   "outputs": [],
   "source": [
    "db = duckdb.connect(RAW / 'company-data.db', read_only=True)"
   ]
  },
  {
   "cell_type": "markdown",
   "metadata": {},
   "source": [
    "Then we'll load our raw longlist into a temporary table."
   ]
  },
  {
   "cell_type": "code",
   "execution_count": 3,
   "metadata": {},
   "outputs": [],
   "source": [
    "db.sql(f'''CREATE TEMP TABLE tFundedOrgs AS SELECT DISTINCT organisation FROM read_csv('{FUNDED_ORGS_LIST}');''')"
   ]
  },
  {
   "cell_type": "code",
   "execution_count": null,
   "metadata": {},
   "outputs": [],
   "source": [
    "db.sql('''SELECT COUNT(*) AS Count FROM tFundedOrgs''')"
   ]
  },
  {
   "cell_type": "markdown",
   "metadata": {},
   "source": [
    "We'll create a table of direct matches"
   ]
  },
  {
   "cell_type": "code",
   "execution_count": 5,
   "metadata": {},
   "outputs": [],
   "source": [
    "db.sql('''\n",
    "       CREATE TEMP TABLE tDirect as SELECT r.*,\n",
    "              CompanyName as registered_name,\n",
    "              CompanyNumber as company_number,\n",
    "              \"URI\" as uri,\n",
    "              \"RegAddress.PostTown\" as post_town,\n",
    "              \"RegAddress.PostCode\" as postcode,\n",
    "              CompanyCategory as company_category,\n",
    "              CompanyStatus as company_status,\n",
    "              [x for x in [\n",
    "                     \"SICCode.SicText_1\",\n",
    "                     \"SICCode.SicText_2\",\n",
    "                     \"SICCode.SicText_3\",\n",
    "                     \"SICCode.SicText_4\"\n",
    "              ] if x is not NULL] as sic_code,\n",
    "              IncorporationDate as incorporation_date,\n",
    "              DissolutionDate as dissolution_date,\n",
    "              \"Accounts.AccountCategory\" as accounts_category\n",
    "              -- , c.*\n",
    "                        \n",
    "       FROM tFundedOrgs r LEFT JOIN CompanyData c\n",
    "       ON upper(r.organisation) == c.CompanyName;\n",
    "''')"
   ]
  },
  {
   "cell_type": "code",
   "execution_count": 6,
   "metadata": {},
   "outputs": [],
   "source": [
    "ignored_companies = [\n",
    "    'Paul Miller'\n",
    "]"
   ]
  },
  {
   "cell_type": "code",
   "execution_count": 7,
   "metadata": {},
   "outputs": [],
   "source": [
    "direct_matches = db.sql(\n",
    "    'SELECT * from tDirect WHERE company_number IS NOT NULL'\n",
    ").df().query('~organisation.isin(@ignored_companies)')"
   ]
  },
  {
   "cell_type": "code",
   "execution_count": 8,
   "metadata": {},
   "outputs": [],
   "source": [
    "db.close()"
   ]
  },
  {
   "cell_type": "code",
   "execution_count": 9,
   "metadata": {},
   "outputs": [],
   "source": [
    "direct_matches.sort_values(by='organisation').loc[: , ['organisation', 'company_number']].to_csv(WORKING / '2-company-match-direct.csv', index=False)"
   ]
  },
  {
   "cell_type": "markdown",
   "metadata": {},
   "source": [
    "## Fix typos in longlist"
   ]
  },
  {
   "cell_type": "markdown",
   "metadata": {},
   "source": [
    "Having matched the details, let's see if we can fuzzy match missing items in the longlist."
   ]
  },
  {
   "cell_type": "markdown",
   "metadata": {},
   "source": [
    "First, let's get a list of organisations that have been matched to Company House data."
   ]
  },
  {
   "cell_type": "code",
   "execution_count": 10,
   "metadata": {},
   "outputs": [],
   "source": [
    "matched_organisations = direct_matches.organisation.unique().tolist()"
   ]
  },
  {
   "cell_type": "markdown",
   "metadata": {},
   "source": [
    "Then load the raw longlist"
   ]
  },
  {
   "cell_type": "code",
   "execution_count": 11,
   "metadata": {},
   "outputs": [],
   "source": [
    "raw = pd.read_csv(FUNDED_ORGS_LIST)"
   ]
  },
  {
   "cell_type": "code",
   "execution_count": null,
   "metadata": {},
   "outputs": [],
   "source": [
    "corrections = pd.concat(\n",
    "    [\n",
    "        raw,\n",
    "        raw.organisation.map(\n",
    "            lambda x: extractOne(x, matched_organisations, score_cutoff=90)\n",
    "        ).apply(\n",
    "            pd.Series, index=['match', 'score']\n",
    "        )\n",
    "    ], axis=1\n",
    ").query(\n",
    "    'score.notna() and score < 100'\n",
    ").loc[: ,['organisation', 'match']].set_index('organisation')\n",
    "corrections"
   ]
  },
  {
   "cell_type": "code",
   "execution_count": 14,
   "metadata": {},
   "outputs": [],
   "source": [
    "corrections.to_csv(WORKING / '2-company-corrections.csv')"
   ]
  },
  {
   "cell_type": "markdown",
   "metadata": {},
   "source": [
    "## Fuzzy match company data"
   ]
  },
  {
   "cell_type": "code",
   "execution_count": 15,
   "metadata": {},
   "outputs": [],
   "source": [
    "drop_list = pd.concat([direct_matches, corrections.reset_index()]).organisation"
   ]
  },
  {
   "cell_type": "code",
   "execution_count": 17,
   "metadata": {},
   "outputs": [],
   "source": [
    "db = duckdb.connect(RAW / 'company-data.db', read_only=True)"
   ]
  },
  {
   "cell_type": "code",
   "execution_count": 18,
   "metadata": {},
   "outputs": [],
   "source": [
    "companies = db.query('''\n",
    "                        SELECT DISTINCT CompanyName, CompanyNumber FROM CompanyData\n",
    "                        WHERE CompanyStatus == 'Active'\n",
    "                        AND \"RegAddress.PostCode\" SIMILAR TO '(NE|DH|SR).*'\n",
    "                        ORDER BY CompanyName;\n",
    "''').df()"
   ]
  },
  {
   "cell_type": "code",
   "execution_count": 19,
   "metadata": {},
   "outputs": [],
   "source": [
    "db.close()"
   ]
  },
  {
   "cell_type": "code",
   "execution_count": 20,
   "metadata": {},
   "outputs": [],
   "source": [
    "candidates = pd.read_csv(FUNDED_ORGS_LIST, usecols=[0]).organisation"
   ]
  },
  {
   "cell_type": "code",
   "execution_count": 21,
   "metadata": {},
   "outputs": [],
   "source": [
    "def matcher(c, choices):\n",
    "    return extractBests(c, choices, score_cutoff=80)"
   ]
  },
  {
   "cell_type": "code",
   "execution_count": 22,
   "metadata": {},
   "outputs": [],
   "source": [
    "candidate_list = candidates[~candidates.isin(drop_list)].unique().tolist()"
   ]
  },
  {
   "cell_type": "code",
   "execution_count": 23,
   "metadata": {},
   "outputs": [],
   "source": [
    "matches = companies.CompanyName.str.replace(r'\\W+', ' ', regex=True).apply(matcher, choices=candidate_list).rename('Matches')"
   ]
  },
  {
   "cell_type": "code",
   "execution_count": 24,
   "metadata": {},
   "outputs": [],
   "source": [
    "res = pd.concat([companies, matches], axis=1).explode('Matches').dropna()\n",
    "res['match'], res['score'] = zip(*res.Matches)\n",
    "\n",
    "fuzzy_matches = res.loc[res.score > 90, ['match', 'CompanyName', 'CompanyNumber', 'score']]\n",
    "fuzzy_matches['type'] = 'fuzzy'\n",
    "fuzzy_matches.set_index('match').to_csv(WORKING / '2-company-match-fuzzy.csv')"
   ]
  },
  {
   "cell_type": "markdown",
   "metadata": {},
   "source": [
    "Direct match charities"
   ]
  },
  {
   "cell_type": "code",
   "execution_count": 25,
   "metadata": {},
   "outputs": [],
   "source": [
    "db = duckdb.connect(RAW / 'company-data.db', read_only=True)"
   ]
  },
  {
   "cell_type": "code",
   "execution_count": 26,
   "metadata": {},
   "outputs": [],
   "source": [
    "db.query(f'''\n",
    "         CREATE OR REPLACE TEMP TABLE tShortlist AS SELECT organisation FROM '{ FUNDED_ORGS_LIST }';\n",
    "         ''')"
   ]
  },
  {
   "cell_type": "code",
   "execution_count": 27,
   "metadata": {},
   "outputs": [],
   "source": [
    "charities = db.query('''\n",
    "         SELECT DISTINCT\n",
    "            s.*,\n",
    "            c.charity_name,\n",
    "            c.registered_charity_number,\n",
    "            c.charity_company_registration_number\n",
    "         FROM Charities c\n",
    "         JOIN tShortlist s\n",
    "         ON upper(s.organisation) == upper(c.charity_name)\n",
    "         ORDER BY charity_name\n",
    "         ''').df(\n",
    "         )\n",
    "charities.to_csv(WORKING / '2-charity-match-direct.csv')"
   ]
  },
  {
   "cell_type": "code",
   "execution_count": 28,
   "metadata": {},
   "outputs": [],
   "source": [
    "db.close()"
   ]
  },
  {
   "cell_type": "markdown",
   "metadata": {},
   "source": [
    "## SIC Codes"
   ]
  },
  {
   "cell_type": "code",
   "execution_count": 29,
   "metadata": {},
   "outputs": [],
   "source": [
    "db = duckdb.connect(RAW / 'company-data.db', read_only=True)"
   ]
  },
  {
   "cell_type": "markdown",
   "metadata": {},
   "source": [
    "Get all matched company numbers and store in a temp table."
   ]
  },
  {
   "cell_type": "code",
   "execution_count": 30,
   "metadata": {},
   "outputs": [],
   "source": [
    "db.query(\n",
    "    f'''\n",
    "    CREATE OR REPLACE TEMP TABLE tCompanyNumbers AS\n",
    "    SELECT *\n",
    "    FROM\n",
    "    (\n",
    "        SELECT company_number FROM read_csv('{ WORKING / '2-company-match-direct.csv' }')\n",
    "        UNION ALL\n",
    "        SELECT CompanyNumber AS company_number FROM read_csv('{ WORKING / '2-company-match-fuzzy.csv' }')\n",
    "        UNION ALL\n",
    "        SELECT charity_company_registration_number AS company_number FROM read_csv('{ WORKING / '2-charity-match-direct.csv' }')\n",
    "    )\n",
    "    '''\n",
    ")"
   ]
  },
  {
   "cell_type": "code",
   "execution_count": 31,
   "metadata": {},
   "outputs": [],
   "source": [
    "all_sic_codes = db.query(\n",
    "    '''\n",
    "    SELECT\n",
    "        [x for x in [\n",
    "            \"SICCode.SicText_1\",\n",
    "            \"SICCode.SicText_2\",\n",
    "            \"SICCode.SicText_3\",\n",
    "            \"SICCode.SicText_4\"\n",
    "        ] if x is not NULL] as sic_code\n",
    "    FROM CompanyData c\n",
    "    JOIN tCompanyNumbers n\n",
    "    ON c.CompanyNumber == n.company_number\n",
    "    '''\n",
    ")"
   ]
  },
  {
   "cell_type": "code",
   "execution_count": 32,
   "metadata": {},
   "outputs": [],
   "source": [
    "excluded_sic_codes = [\n",
    "    'None Supplied',\n",
    "    '47610 - Retail sale of books in specialised stores',\n",
    "    '47990 - Other retail sale not in stores, stalls or markets',\n",
    "    '56302 - Public houses and bars',\n",
    "    '70210 - Public relations and communications activities',\n",
    "    '82990 - Other business support service activities n.e.c.',\n",
    "    '84110 - General public administration activities',\n",
    "    '85590 - Other education n.e.c.',\n",
    "    '85600 - Educational support services',\n",
    "    '87900 - Other residential care activities n.e.c.',\n",
    "    '88100 - Social work activities without accommodation for the elderly and disabled',\n",
    "    '88990 - Other social work activities without accommodation n.e.c.',\n",
    "    '93120 - Activities of sport clubs',\n",
    "    '93290 - Other amusement and recreation activities n.e.c.',\n",
    "    '94110 - Activities of business and employers membership organizations',\n",
    "    '94990 - Activities of other membership organizations n.e.c.',\n",
    "    '96090 - Other service activities n.e.c.',\n",
    "]"
   ]
  },
  {
   "cell_type": "code",
   "execution_count": 33,
   "metadata": {},
   "outputs": [],
   "source": [
    "pd.Series(\n",
    "    all_sic_codes.df().sic_code.explode().unique(),\n",
    "    name='sic_code'\n",
    ").sort_values().pipe(\n",
    "    lambda s: s.loc[~s.isin(excluded_sic_codes)]\n",
    ").to_csv(\n",
    "    WORKING / '2-sic-codes.csv', index=False\n",
    ")"
   ]
  },
  {
   "cell_type": "markdown",
   "metadata": {},
   "source": [
    "## Identify possible individuals"
   ]
  }
 ],
 "metadata": {
  "kernelspec": {
   "display_name": "northumbria-culture-connect-dQ7VTDtt",
   "language": "python",
   "name": "python3"
  },
  "language_info": {
   "codemirror_mode": {
    "name": "ipython",
    "version": 3
   },
   "file_extension": ".py",
   "mimetype": "text/x-python",
   "name": "python",
   "nbconvert_exporter": "python",
   "pygments_lexer": "ipython3",
   "version": "3.10.12"
  }
 },
 "nbformat": 4,
 "nbformat_minor": 2
}
