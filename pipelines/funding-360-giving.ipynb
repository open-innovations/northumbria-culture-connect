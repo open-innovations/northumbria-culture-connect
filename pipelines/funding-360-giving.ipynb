{
 "cells": [
  {
   "cell_type": "code",
   "execution_count": 16,
   "metadata": {},
   "outputs": [],
   "source": [
    "import petl as etl\n",
    "\n",
    "from pipeline_utils.filesystem.paths import RAW_DATA, SITE"
   ]
  },
  {
   "cell_type": "code",
   "execution_count": 17,
   "metadata": {},
   "outputs": [],
   "source": [
    "OUT = SITE / 'data/360-giving/_data/'\n",
    "OUT.mkdir(exist_ok=True, parents=True)"
   ]
  },
  {
   "cell_type": "code",
   "execution_count": 36,
   "metadata": {},
   "outputs": [],
   "source": [
    "data=(\n",
    "    etl\n",
    "    .fromcsv(RAW_DATA / '360-giving.csv')\n",
    "    .cut(\n",
    "        'Title',\n",
    "        'Amount Awarded',\n",
    "        'Currency',\n",
    "        'Award Date',\n",
    "\n",
    "        'Recipient Org:Identifier',\n",
    "        'Recipient Org:Name',\n",
    "        'Recipient Org:Charity Number',\n",
    "        'Recipient Org:Company Number',\n",
    "        'Recipient Org:Postal Code',\n",
    "\n",
    "        'Funding Org:Identifier',\n",
    "        'Funding Org:Name',\n",
    "        'Funding Org:Postal Code',\n",
    "\n",
    "        'Grant Programme:Code',\n",
    "        'Grant Programme:Title',\n",
    "\n",
    "        'License (see note)',\n",
    "    )\n",
    "    .convert('Award Date', etl.dateparser('%Y-%m-%d'))\n",
    "    .cache()    \n",
    ")"
   ]
  },
  {
   "cell_type": "code",
   "execution_count": 48,
   "metadata": {},
   "outputs": [],
   "source": [
    "(\n",
    "    data\n",
    "        .cut('Amount Awarded', 'Funding Org:Name', 'Grant Programme:Title', 'Award Date')\n",
    "        .convertnumbers()\n",
    "        .aggregate(\n",
    "            ('Funding Org:Name', 'Grant Programme:Title'),\n",
    "            {\n",
    "                'Grants': len,\n",
    "                'Funding': ('Amount Awarded', sum),\n",
    "                'Earliest Award Date': ('Award Date', min),\n",
    "                'Latest Award Date': ('Award Date', max),\n",
    "            }\n",
    "        )\n",
    "        .addfield('Average Grant', lambda r: r.Funding / r.Grants)\n",
    "        .convert(('Funding', 'Average Grant'), round)\n",
    "        .sort('Grants', reverse=True)\n",
    ").tocsv(OUT / 'by_programme.csv')"
   ]
  },
  {
   "cell_type": "code",
   "execution_count": 52,
   "metadata": {},
   "outputs": [],
   "source": [
    "data.cut(\n",
    "    'Award Date', 'Amount Awarded'\n",
    ").convertnumbers().convert(\n",
    "    'Award Date', lambda d: d.replace(day=1)\n",
    ").aggregate(\n",
    "    'Award Date',\n",
    "    {\n",
    "        'Number': len,\n",
    "        'Amount Awarded': ('Amount Awarded', sum),\n",
    "    }\n",
    ").convert(\n",
    "    'Amount Awarded', round\n",
    ").tocsv(\n",
    "    OUT / 'summary_by_month.csv'\n",
    ")"
   ]
  },
  {
   "cell_type": "code",
   "execution_count": null,
   "metadata": {},
   "outputs": [],
   "source": []
  }
 ],
 "metadata": {
  "kernelspec": {
   "display_name": "northumbria-culture-connect-dQ7VTDtt",
   "language": "python",
   "name": "python3"
  },
  "language_info": {
   "codemirror_mode": {
    "name": "ipython",
    "version": 3
   },
   "file_extension": ".py",
   "mimetype": "text/x-python",
   "name": "python",
   "nbconvert_exporter": "python",
   "pygments_lexer": "ipython3",
   "version": "3.12.6"
  }
 },
 "nbformat": 4,
 "nbformat_minor": 2
}
