{
 "cells": [
  {
   "cell_type": "code",
   "execution_count": 1,
   "metadata": {},
   "outputs": [],
   "source": [
    "import json\n",
    "\n",
    "import petl as etl\n",
    "from pipeline_utils.filesystem.paths import DATA, RAW_DATA, REF_DATA, SITE"
   ]
  },
  {
   "cell_type": "code",
   "execution_count": 2,
   "metadata": {},
   "outputs": [],
   "source": [
    "OUT = SITE / 'data/360-giving/_data/'\n",
    "OUT.mkdir(exist_ok=True, parents=True)"
   ]
  },
  {
   "cell_type": "code",
   "execution_count": 3,
   "metadata": {},
   "outputs": [],
   "source": [
    "data=(\n",
    "    etl\n",
    "    .fromcsv(RAW_DATA / '360-giving.csv')\n",
    "    .cut(\n",
    "        'Title',\n",
    "        'Amount Awarded',\n",
    "        'Currency',\n",
    "        'Award Date',\n",
    "\n",
    "        'Recipient Org:Identifier',\n",
    "        'Recipient Org:Name',\n",
    "        'Recipient Org:Charity Number',\n",
    "        'Recipient Org:Company Number',\n",
    "        'Recipient Org:Postal Code',\n",
    "\n",
    "        'Funding Org:Identifier',\n",
    "        'Funding Org:Name',\n",
    "        'Funding Org:Postal Code',\n",
    "\n",
    "        'Grant Programme:Code',\n",
    "        'Grant Programme:Title',\n",
    "\n",
    "        'License (see note)',\n",
    "    )\n",
    "    .convert('Award Date', etl.dateparser('%Y-%m-%d'))\n",
    "    .cache()    \n",
    ")"
   ]
  },
  {
   "cell_type": "code",
   "execution_count": 4,
   "metadata": {},
   "outputs": [],
   "source": [
    "links = data.cut('Funding Org:Name', 'Grant Programme:Title', 'Recipient Org:Name').rename(\n",
    "    {\n",
    "        'Funding Org:Name': 'funder',\n",
    "        'Grant Programme:Title': 'grant_programme',\n",
    "        'Recipient Org:Name': 'recipient',\n",
    "    }\n",
    ").convertall('upper')"
   ]
  },
  {
   "cell_type": "code",
   "execution_count": 5,
   "metadata": {},
   "outputs": [],
   "source": [
    "links.aggregate(\n",
    "    key=\"recipient\",\n",
    "    aggregation={\n",
    "        \"total_grants\": len,\n",
    "    },\n",
    ").sort('total_grants', reverse=True).tocsv(DATA / 'grants_by_recipient.csv')"
   ]
  },
  {
   "cell_type": "code",
   "execution_count": 6,
   "metadata": {},
   "outputs": [],
   "source": [
    "links.aggregate(\n",
    "    key=(\"funder\", \"grant_programme\"),\n",
    "    aggregation={\n",
    "        \"total_grants\": len,\n",
    "    },\n",
    ").sort(('funder', 'grant_programme')).tocsv(DATA / 'grants_by_funder_and_grant_programme.csv')"
   ]
  },
  {
   "cell_type": "code",
   "execution_count": 7,
   "metadata": {},
   "outputs": [],
   "source": [
    "included_funders = list(etl.fromtext(REF_DATA / '360-giving/funders.txt', header=('funder',)).values('funder'))\n",
    "included_programmes = list(etl.fromtext(REF_DATA / '360-giving/programmes.txt', header=('programme',)).values('programme'))\n",
    "excluded_programmes = list(etl.fromtext(REF_DATA / '360-giving/programmes-exclude.txt', header=('programme',)).values('programme'))"
   ]
  },
  {
   "cell_type": "code",
   "execution_count": 8,
   "metadata": {},
   "outputs": [],
   "source": [
    "def limit_to_included(row):\n",
    "    return ((\n",
    "        row['Funding Org:Name'].upper() in included_funders\n",
    "    ) or (\n",
    "        row['Grant Programme:Title'].upper() in included_programmes\n",
    "    )) and (\n",
    "        row['Grant Programme:Title'].upper() not in excluded_programmes\n",
    "    )"
   ]
  },
  {
   "cell_type": "code",
   "execution_count": 9,
   "metadata": {},
   "outputs": [],
   "source": [
    "(\n",
    "    data\n",
    "        .select(limit_to_included)\n",
    "        .cut('Amount Awarded', 'Funding Org:Name', 'Grant Programme:Title', 'Award Date')\n",
    "        .convertnumbers()\n",
    "        .aggregate(\n",
    "            ('Funding Org:Name', 'Grant Programme:Title'),\n",
    "            {\n",
    "                'Grants': len,\n",
    "                'Funding': ('Amount Awarded', sum),\n",
    "                'Earliest Award Date': ('Award Date', min),\n",
    "                'Latest Award Date': ('Award Date', max),\n",
    "            }\n",
    "        )\n",
    "        .addfield('Average Grant', lambda r: r.Funding / r.Grants)\n",
    "        .convert(('Funding', 'Average Grant'), round)\n",
    "        .sort('Grants', reverse=True)\n",
    ").tocsv(OUT / 'by_programme.csv')"
   ]
  },
  {
   "cell_type": "code",
   "execution_count": 10,
   "metadata": {},
   "outputs": [],
   "source": [
    "data.select(\n",
    "    limit_to_included\n",
    ").cut(\n",
    "    'Award Date', 'Amount Awarded'\n",
    ").convertnumbers().convert(\n",
    "    'Award Date', lambda d: d.replace(day=1)\n",
    ").aggregate(\n",
    "    'Award Date',\n",
    "    {\n",
    "        'Number': len,\n",
    "        'Amount Awarded': ('Amount Awarded', sum),\n",
    "    }\n",
    ").convert(\n",
    "    'Amount Awarded', round\n",
    ").tocsv(\n",
    "    OUT / 'summary_by_month.csv'\n",
    ")"
   ]
  },
  {
   "cell_type": "code",
   "execution_count": 11,
   "metadata": {},
   "outputs": [],
   "source": [
    "with open(OUT / 'inclusions.json', 'w') as f:\n",
    "    json.dump({\n",
    "        'funders': included_funders,\n",
    "        'programmes': included_programmes,\n",
    "        'excluded_programmes': excluded_programmes,\n",
    "    }, fp=f, indent=2)"
   ]
  },
  {
   "cell_type": "code",
   "execution_count": null,
   "metadata": {},
   "outputs": [],
   "source": []
  }
 ],
 "metadata": {
  "kernelspec": {
   "display_name": "northumbria-culture-connect-dQ7VTDtt",
   "language": "python",
   "name": "python3"
  },
  "language_info": {
   "codemirror_mode": {
    "name": "ipython",
    "version": 3
   },
   "file_extension": ".py",
   "mimetype": "text/x-python",
   "name": "python",
   "nbconvert_exporter": "python",
   "pygments_lexer": "ipython3",
   "version": "3.12.6"
  }
 },
 "nbformat": 4,
 "nbformat_minor": 2
}
