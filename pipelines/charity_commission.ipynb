{
 "cells": [
  {
   "cell_type": "markdown",
   "metadata": {},
   "source": [
    "# Charity Commission - Register of Charities"
   ]
  },
  {
   "cell_type": "code",
   "execution_count": 1,
   "metadata": {},
   "outputs": [],
   "source": [
    "import pandas as pd\n",
    "from pathlib import Path\n",
    "import os\n",
    "from pipeline_utils.reference.onspd import normalise_postcode, postcode_lookup"
   ]
  },
  {
   "cell_type": "code",
   "execution_count": 2,
   "metadata": {},
   "outputs": [],
   "source": [
    "DATA_DIR = Path('../raw/charitydetails_2024.csv')\n",
    "OUT_DIR = Path('../src/data/charity-commission/_data/')\n",
    "\n",
    "data = pd.read_csv(DATA_DIR, usecols={'Charity Name', 'Charity Postcode', 'Charity Type', 'How the charity helps', 'What the charity does', 'Who the charity helps', 'Activities'})\n",
    "ons_pcd_lookup = pd.read_csv('../data/reference/pcd_lad_aug_2023_NE.csv').set_index('pcd')\n"
   ]
  },
  {
   "cell_type": "code",
   "execution_count": 3,
   "metadata": {},
   "outputs": [],
   "source": [
    "def get_lat_long(postcode, lookup):\n",
    "    postcode = normalise_postcode(postcode)\n",
    "    data = lookup.get(postcode)\n",
    "    if data:\n",
    "        return pd.Series([data['lat'], data['long']])\n",
    "    else:\n",
    "        return pd.Series([None, None])"
   ]
  },
  {
   "cell_type": "markdown",
   "metadata": {},
   "source": [
    "### Create headline stats"
   ]
  },
  {
   "cell_type": "code",
   "execution_count": 4,
   "metadata": {},
   "outputs": [],
   "source": [
    "headlines = pd.DataFrame(columns=['headline', 'count'])\n",
    "headlines['headline'] = ['Total']\n",
    "headlines['count'] = len(data)\n",
    "#TODO: Add breakdown of charity classifications"
   ]
  },
  {
   "cell_type": "markdown",
   "metadata": {},
   "source": [
    "### Filter by Newcastle LAD"
   ]
  },
  {
   "cell_type": "code",
   "execution_count": 5,
   "metadata": {},
   "outputs": [],
   "source": [
    "# Remove organisations without postcodes\n",
    "data = data.dropna(subset=['Charity Postcode'])\n",
    "\n",
    "# Clean up the postcode column\n",
    "data['Charity Postcode'] = data['Charity Postcode'].apply(lambda x: normalise_postcode(x))\n",
    "\n",
    "# Create separate Latitude and Longitude columns from postcode_lookup\n",
    "data[['Latitude', 'Longitude']] = data['Charity Postcode'].apply(\n",
    "    lambda x: pd.Series(get_lat_long(x, postcode_lookup))\n",
    ")\n",
    "# Merge geo_data with ne_postcodes to filter only Newcastle-upon-Tyne LA (from ONS lookup)\n",
    "ne_lad = data.merge(\n",
    "    ons_pcd_lookup, how='inner', left_on='Charity Postcode', right_on='pcd'\n",
    ")\n",
    "\n",
    "# Rename columns to lowercase and replace spaces with underscores\n",
    "ne_lad.columns = ne_lad.columns.str.lower().str.replace(' ', '_')\n"
   ]
  },
  {
   "cell_type": "markdown",
   "metadata": {},
   "source": [
    "### Add filtered LA data to headlines"
   ]
  },
  {
   "cell_type": "code",
   "execution_count": 6,
   "metadata": {},
   "outputs": [],
   "source": [
    "headline_to_add = pd.DataFrame({'headline': ['Total Newcastle LA'], 'count': [len(ne_lad)]})\n",
    "\n",
    "headlines = pd.concat([headlines, headline_to_add], ignore_index=True)\n",
    "\n",
    "headlines.to_csv(os.path.join(OUT_DIR, 'headlines.csv'), index=False)\n"
   ]
  },
  {
   "cell_type": "markdown",
   "metadata": {},
   "source": [
    "### Visualise by location"
   ]
  },
  {
   "cell_type": "code",
   "execution_count": 7,
   "metadata": {},
   "outputs": [],
   "source": [
    "geo_data = ne_lad[['charity_name', 'charity_postcode', 'latitude', 'longitude']].dropna()\n",
    "geo_data['tooltip'] = geo_data.apply(lambda rec: f\"<strong>{rec['charity_name'].lower().title()}</strong><br>Postcode: {rec['charity_postcode']}\", axis=1)\n",
    "geo_data.to_csv(os.path.join(OUT_DIR, 'charity_geo.csv'), index=False)\n"
   ]
  },
  {
   "cell_type": "code",
   "execution_count": null,
   "metadata": {},
   "outputs": [],
   "source": []
  }
 ],
 "metadata": {
  "kernelspec": {
   "display_name": "northumbria-culture-connect-HfxUZLmD",
   "language": "python",
   "name": "python3"
  },
  "language_info": {
   "codemirror_mode": {
    "name": "ipython",
    "version": 3
   },
   "file_extension": ".py",
   "mimetype": "text/x-python",
   "name": "python",
   "nbconvert_exporter": "python",
   "pygments_lexer": "ipython3",
   "version": "3.12.7"
  }
 },
 "nbformat": 4,
 "nbformat_minor": 2
}
