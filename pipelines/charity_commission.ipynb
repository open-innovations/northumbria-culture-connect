{
 "cells": [
  {
   "cell_type": "markdown",
   "metadata": {},
   "source": [
    "# Charity Commission - Register of Charities"
   ]
  },
  {
   "cell_type": "code",
   "execution_count": 92,
   "metadata": {},
   "outputs": [],
   "source": [
    "from pipeline_utils.db import connect\n",
    "import pandas as pd\n",
    "from pathlib import Path"
   ]
  },
  {
   "cell_type": "code",
   "execution_count": 93,
   "metadata": {},
   "outputs": [],
   "source": [
    "db = connect(read_only=True)"
   ]
  },
  {
   "cell_type": "code",
   "execution_count": 94,
   "metadata": {},
   "outputs": [],
   "source": [
    "db.query(\n",
    "'''\n",
    "CREATE OR REPLACE TEMP TABLE onspd AS SELECT * FROM read_csv('../data/reference/onspd_extract.csv') WHERE oslaua == 'E08000021';\n",
    "''')"
   ]
  },
  {
   "cell_type": "code",
   "execution_count": 95,
   "metadata": {},
   "outputs": [],
   "source": [
    "data = db.query('''\n",
    "    SELECT\n",
    "        charity_name,\n",
    "        pcds as charity_postcode,\n",
    "        organisation_number,\n",
    "        registered_charity_number,\n",
    "        oslaua,\n",
    "        lat as latitude,\n",
    "        long as longitude\n",
    "    FROM Charities LEFT JOIN onspd ON charity_contact_postcode == pcds;\n",
    "    -- SELECT \"Charity Name\", 'Charity Postcode', 'Charity Type', 'How the charity helps', 'What the charity does', 'Who the charity helps', 'Activities' FROM Charities;\n",
    "''').df()"
   ]
  },
  {
   "cell_type": "code",
   "execution_count": 96,
   "metadata": {},
   "outputs": [],
   "source": [
    "db.close()"
   ]
  },
  {
   "cell_type": "code",
   "execution_count": 97,
   "metadata": {},
   "outputs": [],
   "source": [
    "OUT_DIR = Path('../src/data/charity-commission/_data/')"
   ]
  },
  {
   "cell_type": "markdown",
   "metadata": {},
   "source": [
    "### Create headline stats"
   ]
  },
  {
   "cell_type": "code",
   "execution_count": 98,
   "metadata": {},
   "outputs": [],
   "source": [
    "headlines = pd.DataFrame(columns=['headline', 'count'])\n",
    "headlines['headline'] = ['Total']\n",
    "headlines['count'] = len(data)"
   ]
  },
  {
   "cell_type": "code",
   "execution_count": 99,
   "metadata": {},
   "outputs": [],
   "source": [
    "headlines.to_csv(OUT_DIR / 'headlines.csv')"
   ]
  },
  {
   "cell_type": "markdown",
   "metadata": {},
   "source": [
    "### Visualise by location"
   ]
  },
  {
   "cell_type": "code",
   "execution_count": 100,
   "metadata": {},
   "outputs": [
    {
     "data": {
      "application/vnd.microsoft.datawrangler.viewer.v0+json": {
       "columns": [
        {
         "name": "index",
         "rawType": "int64",
         "type": "integer"
        },
        {
         "name": "charity_name",
         "rawType": "object",
         "type": "string"
        },
        {
         "name": "charity_postcode",
         "rawType": "object",
         "type": "unknown"
        },
        {
         "name": "organisation_number",
         "rawType": "int64",
         "type": "integer"
        },
        {
         "name": "registered_charity_number",
         "rawType": "int64",
         "type": "integer"
        },
        {
         "name": "oslaua",
         "rawType": "object",
         "type": "unknown"
        },
        {
         "name": "latitude",
         "rawType": "float64",
         "type": "float"
        },
        {
         "name": "longitude",
         "rawType": "float64",
         "type": "float"
        }
       ],
       "conversionMethod": "pd.DataFrame",
       "ref": "1f385f12-5b41-440b-ab5a-9de963a5ed67",
       "rows": [
        [
         "0",
         "THE LITERARY AND PHILOSOPHICAL SOCIETY OF NEWCASTLE-UPON-TYNE",
         "NE1 1SE",
         "4034478",
         "1120948",
         "E08000021",
         "54.969197",
         "-1.613461"
        ],
        [
         "1",
         "NEWCASTLE ARTS CENTRE TRUST LTD",
         "NE1 1SG",
         "701598",
         "701598",
         "E08000021",
         "54.970002",
         "-1.617999"
        ],
        [
         "2",
         "NORTHERN PRINT STUDIO LIMITED",
         "NE1 2NP",
         "5031239",
         "1149872",
         "E08000021",
         "54.974867",
         "-1.594657"
        ],
        [
         "3",
         "OUSEBURN TRUST",
         "NE1 2PQ",
         "3950929",
         "1081657",
         "E08000021",
         "54.974814",
         "-1.592361"
        ],
        [
         "4",
         "CHILLI STUDIOS (NEWCASTLE AND GATESHEAD ARTS STUDIO) LIMITED",
         "NE1 2TQ",
         "4020661",
         "1116957",
         "E08000021",
         "54.974455",
         "-1.597163"
        ],
        [
         "5",
         "THE AMBERSIDE COLLECTION TRUST",
         "NE1 3JE",
         "5048416",
         "1160761",
         "E08000021",
         "54.96919",
         "-1.608416"
        ],
        [
         "6",
         "TYNE THEATRE AND OPERA HOUSE PRESERVATION TRUST",
         "NE1 4AG",
         "3992818",
         "1120746",
         "E08000021",
         "54.970588",
         "-1.621539"
        ],
        [
         "7",
         "WORKPLACE FOUNDATION",
         "NE1 4HZ",
         "5084935",
         "1174379",
         "E08000021",
         "54.970172",
         "-1.624196"
        ],
        [
         "8",
         "TYNE & WEAR ARCHIVES & MUSEUMS DEVELOPMENT TRUST",
         "NE1 4JA",
         "5011913",
         "1137867",
         "E08000021",
         "54.969142",
         "-1.624755"
        ],
        [
         "9",
         "NEWCASTLE THEATRE ROYAL TRUST LIMITED",
         "NE1 6BR",
         "504473",
         "504473",
         "E08000021",
         "54.972706",
         "-1.612021"
        ],
        [
         "10",
         "TYNESIDE CINEMA",
         "NE1 6QG",
         "502592",
         "502592",
         "E08000021",
         "54.973801",
         "-1.611761"
        ],
        [
         "11",
         "THE NEWCASTLE CENTRAL AND EAST CIRCUIT OF THE METHODIST CHURCH",
         "NE1 7BJ",
         "4048804",
         "1134265",
         "E08000021",
         "54.974473",
         "-1.61366"
        ],
        [
         "12",
         "NORTHERN STAGE (THEATRICAL PRODUCTIONS) LIMITED",
         "NE1 7RH",
         "700055",
         "700055",
         "E08000021",
         "54.979335",
         "-1.614082"
        ],
        [
         "13",
         "NORTHERN CHILDRENS BOOK FESTIVAL",
         "NE1 8AX",
         "1013065",
         "1013065",
         "E08000021",
         "54.974992",
         "-1.610437"
        ],
        [
         "14",
         "FIRST ACT THEATRE",
         "NE13 9AR",
         "1027875",
         "1027875",
         "E08000021",
         "55.02368",
         "-1.655091"
        ],
        [
         "15",
         "CITY OF NEWCASTLE PIPE BAND",
         "NE15 6BU",
         "4046169",
         "1131396",
         "E08000021",
         "54.970334",
         "-1.677414"
        ],
        [
         "16",
         "HARLEKIN STUDIO OPERA",
         "NE15 6RY",
         "5128669",
         "1183089",
         "E08000021",
         "54.970703",
         "-1.663808"
        ],
        [
         "17",
         "PENDOWER GOOD NEIGHBOUR HOUSE PROJECT",
         "NE15 6SD",
         "3978726",
         "1088001",
         "E08000021",
         "54.973266",
         "-1.665081"
        ],
        [
         "18",
         "THROCKLEY COMMUNITY HALL LIMITED",
         "NE15 9EL",
         "519477",
         "519477",
         "E08000021",
         "54.995795",
         "-1.754944"
        ],
        [
         "19",
         "THE BISCUIT FACTORY FOUNDATION",
         "NE2 1AN",
         "5016846",
         "1141481",
         "E08000021",
         "54.976097",
         "-1.597019"
        ],
        [
         "20",
         "CAPPELLA NOVOCASTRIENSIS",
         "NE2 1NR",
         "514163",
         "514163",
         "E08000021",
         "54.981975",
         "-1.594056"
        ],
        [
         "21",
         "JESMOND COMMUNITY LEISURE",
         "NE2 2DL",
         "1010563",
         "1010563",
         "E08000021",
         "54.993462",
         "-1.605726"
        ],
        [
         "22",
         "THE PERCY HEDLEY 1990 CHARITABLE TRUST",
         "NE2 2HF",
         "1000033",
         "1000033",
         "E08000021",
         "54.994255",
         "-1.598059"
        ],
        [
         "23",
         "JESMOND CHORAL GROUP",
         "NE2 2PL",
         "4022970",
         "1113853",
         "E08000021",
         "54.992468",
         "-1.601328"
        ],
        [
         "24",
         "THE FRIENDS OF ST GEORGE'S JESMOND",
         "NE2 3JX",
         "4048976",
         "1138789",
         "E08000021",
         "54.996738",
         "-1.605036"
        ],
        [
         "25",
         "THE NORMA LIPMAN MEMORIAL TRUST",
         "NE2 3QH",
         "3974596",
         "1088499",
         "E08000021",
         "54.99809",
         "-1.608525"
        ],
        [
         "26",
         "NORTH EAST CHINESE ASSOCIATION",
         "NE1 4YB",
         "1047452",
         "1047452",
         "E08000021",
         "54.972228",
         "-1.620133"
        ],
        [
         "27",
         "NEWCASTLE UPON TYNE MACCABI ASSOCIATION",
         "NE2 3LA",
         "522110",
         "522110",
         "E08000021",
         "54.997037",
         "-1.607973"
        ],
        [
         "28",
         "NORTH OF ENGLAND ART CLUB",
         "NE1 1SG",
         "512764",
         "512764",
         "E08000021",
         "54.970002",
         "-1.617999"
        ],
        [
         "29",
         "THIRTY-SIX LIME STREET LIMITED",
         "NE1 2PQ",
         "5193965",
         "1200138",
         "E08000021",
         "54.974814",
         "-1.592361"
        ],
        [
         "30",
         "AMBERSIDE TRUST",
         "NE1 3JE",
         "5044456",
         "1160760",
         "E08000021",
         "54.96919",
         "-1.608416"
        ],
        [
         "31",
         "THE LAING ART GALLERY",
         "NE1 4JA",
         "505783",
         "505783",
         "E08000021",
         "54.969142",
         "-1.624755"
        ],
        [
         "32",
         "SOUTH MOUNTAIN CHINESE OLDER PEOPLE'S ASSOCIATION",
         "NE1 7BJ",
         "4040988",
         "1126048",
         "E08000021",
         "54.974473",
         "-1.61366"
        ],
        [
         "33",
         "NORTHERN PRIDE EVENTS LIMITED",
         "NE1 7RH",
         "5014793",
         "1141053",
         "E08000021",
         "54.979335",
         "-1.614082"
        ],
        [
         "34",
         "ST JAMES' HERITAGE AND ENVIRONMENT GROUP",
         "NE15 6SD",
         "5151020",
         "1190647",
         "E08000021",
         "54.973266",
         "-1.665081"
        ],
        [
         "35",
         "NORTHUMBERLAND AND NEWCASTLE SOCIETY",
         "NE2 2DL",
         "247885",
         "247885",
         "E08000021",
         "54.993462",
         "-1.605726"
        ],
        [
         "36",
         "JOHN WIGHAM RICHARDSON CHARITY",
         "NE1 4JA",
         "507385",
         "507385",
         "E08000021",
         "54.969142",
         "-1.624755"
        ],
        [
         "37",
         "THE LIGHT DRAGOONS HERITAGE TRUST (MUSEUM OF THE LIGHT DRAGOONS)",
         "NE2 4NP",
         "273386",
         "273386",
         "E08000021",
         "54.979927",
         "-1.631777"
        ],
        [
         "38",
         "NATURAL HISTORY SOCIETY OF NORTHUMBRIA",
         "NE2 4PT",
         "5224204",
         "1204306",
         "E08000021",
         "54.980501",
         "-1.613134"
        ],
        [
         "39",
         "ANGLO ASIAN FRIENDSHIP SOCIETY",
         "NE3 1BH",
         "4013817",
         "1108891",
         "E08000021",
         "55.007559",
         "-1.610591"
        ],
        [
         "40",
         "TYNESIDE DECORATIVE AND FINE ARTS SOCIETY",
         "NE3 1NR",
         "1017704",
         "1017704",
         "E08000021",
         "55.001111",
         "-1.617672"
        ],
        [
         "41",
         "FELLING MALE VOICE CHOIR",
         "NE3 1TR",
         "260431",
         "260431",
         "E08000021",
         "55.003326",
         "-1.596608"
        ],
        [
         "42",
         "NEWCASTLE CHORAL SOCIETY",
         "NE3 2HB",
         "701191",
         "701191",
         "E08000021",
         "55.012517",
         "-1.668228"
        ],
        [
         "43",
         "DUNSTON SILVER BAND",
         "NE3 2UX",
         "5055326",
         "1160462",
         "E08000021",
         "55.017104",
         "-1.672194"
        ],
        [
         "44",
         "ST CHARLES R.C. PRIMARY SCHOOL P.T.A",
         "NE3 3HE",
         "3962187",
         "1076160",
         "E08000021",
         "55.011613",
         "-1.6341"
        ],
        [
         "45",
         "NORTHERN PRAECLASSICA",
         "NE3 4ES",
         "503478",
         "503478",
         "E08000021",
         "55.004829",
         "-1.62253"
        ],
        [
         "46",
         "ROTARY CLUB OF GOSFORTH",
         "NE3 5AD",
         "1053036",
         "1053036",
         "E08000021",
         "55.024085",
         "-1.627887"
        ],
        [
         "47",
         "GOSFORTH GARDEN VILLAGE ASSOCIATION",
         "NE3 5DD",
         "522064",
         "522064",
         "E08000021",
         "55.013485",
         "-1.609063"
        ],
        [
         "48",
         "ASIAN ARTISTS NETWORK (AAN)",
         "NE3 5NQ",
         "3945055",
         "1068013",
         "E08000021",
         "55.028823",
         "-1.625919"
        ],
        [
         "49",
         "THE GILLIAN DICKINSON TRUST",
         "NE4 5DE",
         "3993483",
         "1094362",
         "E08000021",
         "54.972186",
         "-1.624724"
        ]
       ],
       "shape": {
        "columns": 7,
        "rows": 241
       }
      },
      "text/html": [
       "<div>\n",
       "<style scoped>\n",
       "    .dataframe tbody tr th:only-of-type {\n",
       "        vertical-align: middle;\n",
       "    }\n",
       "\n",
       "    .dataframe tbody tr th {\n",
       "        vertical-align: top;\n",
       "    }\n",
       "\n",
       "    .dataframe thead th {\n",
       "        text-align: right;\n",
       "    }\n",
       "</style>\n",
       "<table border=\"1\" class=\"dataframe\">\n",
       "  <thead>\n",
       "    <tr style=\"text-align: right;\">\n",
       "      <th></th>\n",
       "      <th>charity_name</th>\n",
       "      <th>charity_postcode</th>\n",
       "      <th>organisation_number</th>\n",
       "      <th>registered_charity_number</th>\n",
       "      <th>oslaua</th>\n",
       "      <th>latitude</th>\n",
       "      <th>longitude</th>\n",
       "    </tr>\n",
       "  </thead>\n",
       "  <tbody>\n",
       "    <tr>\n",
       "      <th>0</th>\n",
       "      <td>THE LITERARY AND PHILOSOPHICAL SOCIETY OF NEWC...</td>\n",
       "      <td>NE1 1SE</td>\n",
       "      <td>4034478</td>\n",
       "      <td>1120948</td>\n",
       "      <td>E08000021</td>\n",
       "      <td>54.969197</td>\n",
       "      <td>-1.613461</td>\n",
       "    </tr>\n",
       "    <tr>\n",
       "      <th>1</th>\n",
       "      <td>NEWCASTLE ARTS CENTRE TRUST LTD</td>\n",
       "      <td>NE1 1SG</td>\n",
       "      <td>701598</td>\n",
       "      <td>701598</td>\n",
       "      <td>E08000021</td>\n",
       "      <td>54.970002</td>\n",
       "      <td>-1.617999</td>\n",
       "    </tr>\n",
       "    <tr>\n",
       "      <th>2</th>\n",
       "      <td>NORTHERN PRINT STUDIO LIMITED</td>\n",
       "      <td>NE1 2NP</td>\n",
       "      <td>5031239</td>\n",
       "      <td>1149872</td>\n",
       "      <td>E08000021</td>\n",
       "      <td>54.974867</td>\n",
       "      <td>-1.594657</td>\n",
       "    </tr>\n",
       "    <tr>\n",
       "      <th>3</th>\n",
       "      <td>OUSEBURN TRUST</td>\n",
       "      <td>NE1 2PQ</td>\n",
       "      <td>3950929</td>\n",
       "      <td>1081657</td>\n",
       "      <td>E08000021</td>\n",
       "      <td>54.974814</td>\n",
       "      <td>-1.592361</td>\n",
       "    </tr>\n",
       "    <tr>\n",
       "      <th>4</th>\n",
       "      <td>CHILLI STUDIOS (NEWCASTLE AND GATESHEAD ARTS S...</td>\n",
       "      <td>NE1 2TQ</td>\n",
       "      <td>4020661</td>\n",
       "      <td>1116957</td>\n",
       "      <td>E08000021</td>\n",
       "      <td>54.974455</td>\n",
       "      <td>-1.597163</td>\n",
       "    </tr>\n",
       "    <tr>\n",
       "      <th>...</th>\n",
       "      <td>...</td>\n",
       "      <td>...</td>\n",
       "      <td>...</td>\n",
       "      <td>...</td>\n",
       "      <td>...</td>\n",
       "      <td>...</td>\n",
       "      <td>...</td>\n",
       "    </tr>\n",
       "    <tr>\n",
       "      <th>236</th>\n",
       "      <td>JAZZ NORTH-EAST LIMITED</td>\n",
       "      <td>None</td>\n",
       "      <td>507509</td>\n",
       "      <td>507509</td>\n",
       "      <td>None</td>\n",
       "      <td>NaN</td>\n",
       "      <td>NaN</td>\n",
       "    </tr>\n",
       "    <tr>\n",
       "      <th>237</th>\n",
       "      <td>TYNEDALE MUSIC FESTIVAL</td>\n",
       "      <td>None</td>\n",
       "      <td>512652</td>\n",
       "      <td>512652</td>\n",
       "      <td>None</td>\n",
       "      <td>NaN</td>\n",
       "      <td>NaN</td>\n",
       "    </tr>\n",
       "    <tr>\n",
       "      <th>238</th>\n",
       "      <td>TETE A TETE PRODUCTIONS LIMITED</td>\n",
       "      <td>None</td>\n",
       "      <td>3949352</td>\n",
       "      <td>1069055</td>\n",
       "      <td>None</td>\n",
       "      <td>NaN</td>\n",
       "      <td>NaN</td>\n",
       "    </tr>\n",
       "    <tr>\n",
       "      <th>239</th>\n",
       "      <td>PRUDHOE COMMUNITY BAND</td>\n",
       "      <td>None</td>\n",
       "      <td>3970222</td>\n",
       "      <td>1084048</td>\n",
       "      <td>None</td>\n",
       "      <td>NaN</td>\n",
       "      <td>NaN</td>\n",
       "    </tr>\n",
       "    <tr>\n",
       "      <th>240</th>\n",
       "      <td>THE NORTH EAST OF ENGLAND BENGALI PUJA ASSOCIA...</td>\n",
       "      <td>None</td>\n",
       "      <td>3979651</td>\n",
       "      <td>1087300</td>\n",
       "      <td>None</td>\n",
       "      <td>NaN</td>\n",
       "      <td>NaN</td>\n",
       "    </tr>\n",
       "  </tbody>\n",
       "</table>\n",
       "<p>241 rows × 7 columns</p>\n",
       "</div>"
      ],
      "text/plain": [
       "                                          charity_name charity_postcode  \\\n",
       "0    THE LITERARY AND PHILOSOPHICAL SOCIETY OF NEWC...          NE1 1SE   \n",
       "1                      NEWCASTLE ARTS CENTRE TRUST LTD          NE1 1SG   \n",
       "2                        NORTHERN PRINT STUDIO LIMITED          NE1 2NP   \n",
       "3                                       OUSEBURN TRUST          NE1 2PQ   \n",
       "4    CHILLI STUDIOS (NEWCASTLE AND GATESHEAD ARTS S...          NE1 2TQ   \n",
       "..                                                 ...              ...   \n",
       "236                            JAZZ NORTH-EAST LIMITED             None   \n",
       "237                            TYNEDALE MUSIC FESTIVAL             None   \n",
       "238                    TETE A TETE PRODUCTIONS LIMITED             None   \n",
       "239                             PRUDHOE COMMUNITY BAND             None   \n",
       "240  THE NORTH EAST OF ENGLAND BENGALI PUJA ASSOCIA...             None   \n",
       "\n",
       "     organisation_number  registered_charity_number     oslaua   latitude  \\\n",
       "0                4034478                    1120948  E08000021  54.969197   \n",
       "1                 701598                     701598  E08000021  54.970002   \n",
       "2                5031239                    1149872  E08000021  54.974867   \n",
       "3                3950929                    1081657  E08000021  54.974814   \n",
       "4                4020661                    1116957  E08000021  54.974455   \n",
       "..                   ...                        ...        ...        ...   \n",
       "236               507509                     507509       None        NaN   \n",
       "237               512652                     512652       None        NaN   \n",
       "238              3949352                    1069055       None        NaN   \n",
       "239              3970222                    1084048       None        NaN   \n",
       "240              3979651                    1087300       None        NaN   \n",
       "\n",
       "     longitude  \n",
       "0    -1.613461  \n",
       "1    -1.617999  \n",
       "2    -1.594657  \n",
       "3    -1.592361  \n",
       "4    -1.597163  \n",
       "..         ...  \n",
       "236        NaN  \n",
       "237        NaN  \n",
       "238        NaN  \n",
       "239        NaN  \n",
       "240        NaN  \n",
       "\n",
       "[241 rows x 7 columns]"
      ]
     },
     "execution_count": 100,
     "metadata": {},
     "output_type": "execute_result"
    }
   ],
   "source": [
    "data"
   ]
  },
  {
   "cell_type": "code",
   "execution_count": 102,
   "metadata": {},
   "outputs": [],
   "source": [
    "geo_data = data.loc[\n",
    "    data.latitude.notna(),\n",
    "    ['charity_name', 'charity_postcode', 'latitude', 'longitude']\n",
    "].dropna().sort_values('charity_name')\n",
    "geo_data['tooltip'] = geo_data.apply(lambda rec: f\"<strong>{rec['charity_name'].lower().title()}</strong><br>Postcode: {rec['charity_postcode']}\", axis=1)\n",
    "geo_data.to_csv(os.path.join(OUT_DIR, 'charity_geo.csv'), index=False)\n"
   ]
  },
  {
   "cell_type": "code",
   "execution_count": null,
   "metadata": {},
   "outputs": [],
   "source": []
  }
 ],
 "metadata": {
  "kernelspec": {
   "display_name": "northumbria-culture-connect-dQ7VTDtt",
   "language": "python",
   "name": "python3"
  },
  "language_info": {
   "codemirror_mode": {
    "name": "ipython",
    "version": 3
   },
   "file_extension": ".py",
   "mimetype": "text/x-python",
   "name": "python",
   "nbconvert_exporter": "python",
   "pygments_lexer": "ipython3",
   "version": "3.12.3"
  }
 },
 "nbformat": 4,
 "nbformat_minor": 2
}
