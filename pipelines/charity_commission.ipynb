{
 "cells": [
  {
   "cell_type": "markdown",
   "metadata": {},
   "source": [
    "# Charity Commission - Register of Charities"
   ]
  },
  {
   "cell_type": "code",
   "execution_count": 3,
   "metadata": {},
   "outputs": [],
   "source": [
    "from pipeline_utils.db import connect\n",
    "import pandas as pd\n",
    "from pathlib import Path"
   ]
  },
  {
   "cell_type": "code",
   "execution_count": 4,
   "metadata": {},
   "outputs": [],
   "source": [
    "db = connect(read_only=True)"
   ]
  },
  {
   "cell_type": "code",
   "execution_count": 5,
   "metadata": {},
   "outputs": [],
   "source": [
    "db.query(\n",
    "'''\n",
    "CREATE OR REPLACE TEMP TABLE onspd AS SELECT * FROM read_csv('../data/reference/onspd_extract.csv') WHERE oslaua == 'E08000021';\n",
    "''')"
   ]
  },
  {
   "cell_type": "code",
   "execution_count": 6,
   "metadata": {},
   "outputs": [],
   "source": [
    "data = db.query(\n",
    "'''\n",
    "SELECT\n",
    "    charity_name,\n",
    "    pcds as charity_postcode,\n",
    "    organisation_number,\n",
    "    registered_charity_number,\n",
    "    oslaua,\n",
    "    lat as latitude,\n",
    "    long as longitude\n",
    "FROM Charities\n",
    "LEFT JOIN onspd ON charity_contact_postcode == pcds;\n",
    "''').df()"
   ]
  },
  {
   "cell_type": "code",
   "execution_count": 7,
   "metadata": {},
   "outputs": [],
   "source": [
    "db.close()"
   ]
  },
  {
   "cell_type": "code",
   "execution_count": 8,
   "metadata": {},
   "outputs": [],
   "source": [
    "OUT_DIR = Path('../src/data/charity-commission/_data/')"
   ]
  },
  {
   "cell_type": "markdown",
   "metadata": {},
   "source": [
    "### Create headline stats"
   ]
  },
  {
   "cell_type": "code",
   "execution_count": 9,
   "metadata": {},
   "outputs": [],
   "source": [
    "headlines = pd.DataFrame(columns=['headline', 'count'])\n",
    "headlines['headline'] = ['Total']\n",
    "headlines['count'] = len(data)"
   ]
  },
  {
   "cell_type": "code",
   "execution_count": 10,
   "metadata": {},
   "outputs": [],
   "source": [
    "headlines.set_index('headline').to_json(OUT_DIR / 'headlines.json', orient='index')"
   ]
  },
  {
   "cell_type": "markdown",
   "metadata": {},
   "source": [
    "### Visualise by location"
   ]
  },
  {
   "cell_type": "code",
   "execution_count": 11,
   "metadata": {},
   "outputs": [],
   "source": [
    "geo_data = data.loc[\n",
    "    data.latitude.notna(),\n",
    "    ['charity_name', 'charity_postcode', 'latitude', 'longitude']\n",
    "].dropna().sort_values('charity_name')\n",
    "geo_data['tooltip'] = geo_data.apply(lambda rec: f\"<strong>{rec['charity_name'].lower().title()}</strong><br>Postcode: {rec['charity_postcode']}\", axis=1)\n",
    "geo_data.to_csv(OUT_DIR / 'charity_geo.csv', index=False)"
   ]
  }
 ],
 "metadata": {
  "kernelspec": {
   "display_name": "northumbria-culture-connect-dQ7VTDtt",
   "language": "python",
   "name": "python3"
  },
  "language_info": {
   "codemirror_mode": {
    "name": "ipython",
    "version": 3
   },
   "file_extension": ".py",
   "mimetype": "text/x-python",
   "name": "python",
   "nbconvert_exporter": "python",
   "pygments_lexer": "ipython3",
   "version": "3.12.3"
  }
 },
 "nbformat": 4,
 "nbformat_minor": 2
}
