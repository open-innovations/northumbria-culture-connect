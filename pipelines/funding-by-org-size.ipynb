{
 "cells": [
  {
   "cell_type": "markdown",
   "metadata": {},
   "source": [
    "# Arts Council Funding by Org Type\n",
    "\n",
    "This script combines funding information from the Arts Council Investment Programme, National Lottery Project Grants and Companies House data to explore the relationship between organisation size and the amount of funding received. \n",
    "\n",
    "Note: As a proxy for organisation size, we have used the accounting category from Companies House. Accounts categories offer an indication of the size and type of organisation. For definitions of account types, <a href=\"https://find-and-update.company-information.service.gov.uk/guides/accounts/chooser\">see the Companies House definitions</a>.  \n",
    "\n"
   ]
  },
  {
   "cell_type": "code",
   "execution_count": 1,
   "metadata": {},
   "outputs": [],
   "source": [
    "# Import libraries\n",
    "\n",
    "import pandas as pd\n",
    "from pathlib import Path\n",
    "import os"
   ]
  },
  {
   "cell_type": "code",
   "execution_count": 2,
   "metadata": {},
   "outputs": [],
   "source": [
    "# Define paths to the files we need\n",
    "\n",
    "OUT_DIR = Path('../src/insight/funding/_data')\n",
    "OUT_DIR.mkdir(exist_ok=True, parents=True)\n",
    "\n",
    "ORG_DATA = Path('../data/culture_landscape.csv')\n",
    "INVESTMENT_DATA = Path('../raw/arts-council-investment-programme.csv')\n",
    "GRANTS_DATA = Path('../raw/arts-council-project-grants.csv')\n",
    "CORRECTIONS = Path('../raw/landscape-map-corrections.csv')"
   ]
  },
  {
   "cell_type": "code",
   "execution_count": 3,
   "metadata": {},
   "outputs": [],
   "source": [
    "# Read in the files we need\n",
    "\n",
    "# Only either funding targetted at Newcastle, or organisations based in Newcastle\n",
    "org_data = pd.read_csv(ORG_DATA).query('(funding_geo_code == \"E08000021\") or (oslaua == \"E08000021\")')\n",
    "corrections = pd.read_csv(CORRECTIONS).set_index('organisation').match.to_dict()\n",
    "invest_data = pd.read_csv(INVESTMENT_DATA).dropna(subset=['Applicant Name']).replace({'Applicant Name': corrections}).query('`Local authority` == \"Newcastle upon Tyne\"')\n",
    "grants_data = pd.read_csv(GRANTS_DATA).replace({'Recipient': corrections})"
   ]
  },
  {
   "cell_type": "code",
   "execution_count": 4,
   "metadata": {},
   "outputs": [],
   "source": [
    "# TODO: We may wish to present the number of UNKNOWN categories. \n",
    "# TODO: Fuzzy match and include list of corrections. \n",
    "\n",
    "# Drop records where the accounts catgory is unknown. \n",
    "acc_cat = (\n",
    "    org_data\n",
    "        .dropna(subset=['accounts_category'])\n",
    "        # .query('~accounts_category.isin([\"DORMANT\"])')\n",
    "        .loc[:, ['organisation', 'accounts_category']]\n",
    ")\n",
    "\n",
    "# Merge in Project Grants data\n",
    "funding_amounts = (\n",
    "    acc_cat.merge(grants_data[['Recipient', 'Award amount']], \n",
    "                          left_on='organisation', \n",
    "                          right_on='Recipient', \n",
    "                          how='left')\n",
    "    .rename(columns={'Award amount': 'project_grant_amount'})\n",
    "    .drop(columns='Recipient')\n",
    ") \n",
    "\n",
    "# Merge in investment grants data\n",
    "funding_amounts = (\n",
    "    funding_amounts.merge(invest_data[['Applicant Name', '2023-26 Annual Funding (Offered 4 Nov 2022)']], \n",
    "                          left_on='organisation', \n",
    "                          right_on='Applicant Name', \n",
    "                          how='left')\n",
    "    .rename(columns={'2023-26 Annual Funding (Offered 4 Nov 2022)': 'investment_amount'})\n",
    "    .drop(columns='Applicant Name')\n",
    ")\n"
   ]
  },
  {
   "cell_type": "code",
   "execution_count": null,
   "metadata": {},
   "outputs": [],
   "source": [
    "funding_amounts"
   ]
  },
  {
   "cell_type": "code",
   "execution_count": 6,
   "metadata": {},
   "outputs": [],
   "source": [
    "funding_amounts['total_funding'] = (funding_amounts['project_grant_amount'].fillna(0) + \n",
    "                                    funding_amounts['investment_amount'].fillna(0)).astype(int)\n",
    "\n",
    "total_funding = funding_amounts[['organisation', 'accounts_category', 'total_funding']]"
   ]
  },
  {
   "cell_type": "code",
   "execution_count": 7,
   "metadata": {},
   "outputs": [],
   "source": [
    "# Group by accounting category and calculate the average funding amount\n",
    "\n",
    "average_grant_award_by_acc_cat = (\n",
    "    total_funding.groupby('accounts_category')['total_funding'].mean()\n",
    "    .astype(int)\n",
    "    .sort_values(ascending=False)\n",
    "    .to_csv(os.path.join(OUT_DIR, 'grant_by_org_size.csv'))\n",
    ")"
   ]
  },
  {
   "cell_type": "code",
   "execution_count": null,
   "metadata": {},
   "outputs": [],
   "source": []
  }
 ],
 "metadata": {
  "kernelspec": {
   "display_name": "northumbria-culture-connect-dQ7VTDtt",
   "language": "python",
   "name": "python3"
  },
  "language_info": {
   "codemirror_mode": {
    "name": "ipython",
    "version": 3
   },
   "file_extension": ".py",
   "mimetype": "text/x-python",
   "name": "python",
   "nbconvert_exporter": "python",
   "pygments_lexer": "ipython3",
   "version": "3.12.7"
  }
 },
 "nbformat": 4,
 "nbformat_minor": 2
}
