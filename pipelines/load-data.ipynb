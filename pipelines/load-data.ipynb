{
 "cells": [
  {
   "cell_type": "code",
   "execution_count": 1,
   "metadata": {},
   "outputs": [],
   "source": [
    "from pathlib import Path\n",
    "from zipfile import ZipFile\n",
    "\n",
    "from tempfile import TemporaryDirectory\n",
    "\n",
    "import pipeline_utils.db as database"
   ]
  },
  {
   "cell_type": "code",
   "execution_count": 129,
   "metadata": {},
   "outputs": [],
   "source": [
    "RAW_DATA = Path('../raw')"
   ]
  },
  {
   "cell_type": "code",
   "execution_count": 130,
   "metadata": {},
   "outputs": [],
   "source": [
    "ch_zip = ZipFile(RAW_DATA / 'company-data.zip')\n",
    "filename = ch_zip.namelist()[0]"
   ]
  },
  {
   "cell_type": "code",
   "execution_count": 131,
   "metadata": {},
   "outputs": [],
   "source": [
    "db = database.connect()"
   ]
  },
  {
   "cell_type": "code",
   "execution_count": null,
   "metadata": {},
   "outputs": [],
   "source": [
    "with TemporaryDirectory() as d:\n",
    "    companies = ch_zip.extract(filename, d)\n",
    "    db.sql(f'''CREATE OR REPLACE TABLE CompanyData AS\n",
    "            SELECT * FROM read_csv(\"{ companies }\")''')"
   ]
  },
  {
   "cell_type": "code",
   "execution_count": null,
   "metadata": {},
   "outputs": [],
   "source": [
    "db.sql(\"SELECT count(*) as 'Count of companies' FROM CompanyData;\").df()"
   ]
  },
  {
   "cell_type": "code",
   "execution_count": null,
   "metadata": {},
   "outputs": [],
   "source": [
    "cc_zip = ZipFile(RAW_DATA / 'charity-data.zip')\n",
    "cc_area_zip = ZipFile(RAW_DATA / 'charity-area-data.zip')\n",
    "cc_classification_zip = ZipFile(RAW_DATA / 'charity-classification-data.zip')"
   ]
  },
  {
   "cell_type": "code",
   "execution_count": null,
   "metadata": {},
   "outputs": [],
   "source": [
    "with TemporaryDirectory() as d:\n",
    "    c = cc_zip.extract(cc_zip.namelist()[0], d)\n",
    "    ca = cc_area_zip.extract(cc_area_zip.namelist()[0], d)\n",
    "    cc = cc_classification_zip.extract(cc_classification_zip.namelist()[0], d)\n",
    "\n",
    "    db.sql(f'''\n",
    "           \n",
    "           CREATE OR REPLACE TEMP TABLE tCharities AS\n",
    "            SELECT * FROM read_csv(\"{ c }\", quote=NULL) WHERE date_of_removal IS NULL;\n",
    "           CREATE OR REPLACE TEMP TABLE tCharityArea AS\n",
    "            SELECT * FROM read_csv(\"{ ca }\", quote=NULL);\n",
    "           CREATE OR REPLACE TEMP TABLE tCharityClassification AS\n",
    "            SELECT * FROM read_csv(\"{ cc }\", quote=NULL);\n",
    "            ''')"
   ]
  },
  {
   "cell_type": "code",
   "execution_count": null,
   "metadata": {},
   "outputs": [],
   "source": [
    "db.sql( '''\n",
    "        CREATE OR REPLACE TABLE tCharitiesScope AS\n",
    "        SELECT *\n",
    "          FROM tCharityArea a\n",
    "          JOIN tCharityClassification c\n",
    "            ON a.organisation_number = c.organisation_number\n",
    "         WHERE a.geographic_area_description = 'Newcastle Upon Tyne City'\n",
    "           AND c.classification_type = 'What'\n",
    "           AND c.classification_code = '109';\n",
    "       ''')"
   ]
  },
  {
   "cell_type": "code",
   "execution_count": null,
   "metadata": {},
   "outputs": [],
   "source": [
    "db.query('''\n",
    "         CREATE OR REPLACE TABLE Charities AS\n",
    "            SELECT\n",
    "                c.registered_charity_number,\n",
    "                charity_name,\n",
    "                latest_income,\n",
    "                latest_expenditure,\n",
    "                charity_contact_postcode,\n",
    "                charity_contact_web,\n",
    "                charity_company_registration_number,\n",
    "         \n",
    "            FROM tCharities c\n",
    "            JOIN tCharitiesScope s\n",
    "         ON s.organisation_number == c.organisation_number\n",
    "         ''')"
   ]
  },
  {
   "cell_type": "code",
   "execution_count": null,
   "metadata": {},
   "outputs": [],
   "source": [
    "db.query('''\n",
    "         SELECT COUNT(*) AS 'Count of Charities' FROM Charities\n",
    "         ;''').df()"
   ]
  },
  {
   "cell_type": "code",
   "execution_count": null,
   "metadata": {},
   "outputs": [],
   "source": [
    "db.close()"
   ]
  },
  {
   "cell_type": "code",
   "execution_count": null,
   "metadata": {},
   "outputs": [],
   "source": []
  }
 ],
 "metadata": {
  "kernelspec": {
   "display_name": "northumbria-culture-connect-dQ7VTDtt",
   "language": "python",
   "name": "python3"
  },
  "language_info": {
   "codemirror_mode": {
    "name": "ipython",
    "version": 3
   },
   "file_extension": ".py",
   "mimetype": "text/x-python",
   "name": "python",
   "nbconvert_exporter": "python",
   "pygments_lexer": "ipython3",
   "version": "3.10.12"
  }
 },
 "nbformat": 4,
 "nbformat_minor": 2
}
