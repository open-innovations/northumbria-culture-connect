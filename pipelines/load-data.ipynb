{
 "cells": [
  {
   "cell_type": "code",
   "execution_count": 1,
   "metadata": {},
   "outputs": [],
   "source": [
    "from pathlib import Path\n",
    "from zipfile import ZipFile\n",
    "\n",
    "import duckdb\n",
    "from tempfile import TemporaryDirectory"
   ]
  },
  {
   "cell_type": "code",
   "execution_count": 2,
   "metadata": {},
   "outputs": [],
   "source": [
    "RAW_DATA = Path('../raw')"
   ]
  },
  {
   "cell_type": "code",
   "execution_count": 3,
   "metadata": {},
   "outputs": [],
   "source": [
    "db = duckdb.connect(RAW_DATA / 'company-data.db')"
   ]
  },
  {
   "cell_type": "code",
   "execution_count": 4,
   "metadata": {},
   "outputs": [],
   "source": [
    "ch_zip = ZipFile(RAW_DATA / 'company-data.zip')\n",
    "filename = ch_zip.namelist()[0]"
   ]
  },
  {
   "cell_type": "code",
   "execution_count": 5,
   "metadata": {},
   "outputs": [],
   "source": [
    "with TemporaryDirectory() as d:\n",
    "    companies = ch_zip.extract(filename, d)\n",
    "    db.sql(f'''CREATE OR REPLACE TABLE CompanyData AS\n",
    "            SELECT * FROM read_csv(\"{ companies }\")''')"
   ]
  },
  {
   "cell_type": "code",
   "execution_count": 6,
   "metadata": {},
   "outputs": [
    {
     "data": {
      "text/html": [
       "<div>\n",
       "<style scoped>\n",
       "    .dataframe tbody tr th:only-of-type {\n",
       "        vertical-align: middle;\n",
       "    }\n",
       "\n",
       "    .dataframe tbody tr th {\n",
       "        vertical-align: top;\n",
       "    }\n",
       "\n",
       "    .dataframe thead th {\n",
       "        text-align: right;\n",
       "    }\n",
       "</style>\n",
       "<table border=\"1\" class=\"dataframe\">\n",
       "  <thead>\n",
       "    <tr style=\"text-align: right;\">\n",
       "      <th></th>\n",
       "      <th>Count of companies</th>\n",
       "    </tr>\n",
       "  </thead>\n",
       "  <tbody>\n",
       "    <tr>\n",
       "      <th>0</th>\n",
       "      <td>5632838</td>\n",
       "    </tr>\n",
       "  </tbody>\n",
       "</table>\n",
       "</div>"
      ],
      "text/plain": [
       "   Count of companies\n",
       "0             5632838"
      ]
     },
     "execution_count": 6,
     "metadata": {},
     "output_type": "execute_result"
    }
   ],
   "source": [
    "db.sql(\"SELECT count(*) as 'Count of companies' FROM CompanyData;\").df()"
   ]
  },
  {
   "cell_type": "code",
   "execution_count": 7,
   "metadata": {},
   "outputs": [],
   "source": [
    "cc_zip = ZipFile(RAW_DATA / 'charity-data.zip')\n",
    "cc_area_zip = ZipFile(RAW_DATA / 'charity-area-data.zip')"
   ]
  },
  {
   "cell_type": "code",
   "execution_count": 8,
   "metadata": {},
   "outputs": [],
   "source": [
    "with TemporaryDirectory() as d:\n",
    "    c = cc_zip.extract(cc_zip.namelist()[0], d)\n",
    "    ca = cc_area_zip.extract(cc_area_zip.namelist()[0], d)\n",
    "    db.sql(f'''\n",
    "           CREATE OR REPLACE TEMP TABLE tCharities AS\n",
    "            SELECT * FROM read_csv(\"{ c }\", quote=NULL) WHERE date_of_removal IS NULL;\n",
    "           CREATE OR REPLACE TEMP TABLE tCharityArea AS\n",
    "            SELECT * FROM read_csv(\"{ ca }\", quote=NULL);\n",
    "            ''')"
   ]
  },
  {
   "cell_type": "code",
   "execution_count": 9,
   "metadata": {},
   "outputs": [],
   "source": [
    "db.query('''\n",
    "         CREATE OR REPLACE TABLE Charities AS\n",
    "            SELECT\n",
    "                c.registered_charity_number,\n",
    "                charity_name,\n",
    "                latest_income,\n",
    "                latest_expenditure,\n",
    "                charity_contact_postcode,\n",
    "                charity_contact_web,\n",
    "                charity_company_registration_number,\n",
    "         \n",
    "            FROM tCharities c\n",
    "            JOIN\n",
    "                (\n",
    "                  SELECT DISTINCT organisation_number, registered_charity_number FROM tCharityArea\n",
    "                WHERE \n",
    "                geographic_area_description IN ( 'Newcastle Upon Tyne City' )\n",
    "            ) n\n",
    "         ON n.organisation_number == c.organisation_number\n",
    "         \n",
    "\n",
    "         ''')"
   ]
  },
  {
   "cell_type": "code",
   "execution_count": 10,
   "metadata": {},
   "outputs": [
    {
     "data": {
      "text/plain": [
       "┌────────────────────┐\n",
       "│ Count of Charities │\n",
       "│       int64        │\n",
       "├────────────────────┤\n",
       "│               1112 │\n",
       "└────────────────────┘"
      ]
     },
     "execution_count": 10,
     "metadata": {},
     "output_type": "execute_result"
    }
   ],
   "source": [
    "db.query('''\n",
    "         SELECT COUNT(*) AS 'Count of Charities' FROM Charities\n",
    "         ;''')"
   ]
  },
  {
   "cell_type": "code",
   "execution_count": 12,
   "metadata": {},
   "outputs": [],
   "source": [
    "db.close()"
   ]
  }
 ],
 "metadata": {
  "kernelspec": {
   "display_name": "northumbria-culture-connect-dQ7VTDtt",
   "language": "python",
   "name": "python3"
  },
  "language_info": {
   "codemirror_mode": {
    "name": "ipython",
    "version": 3
   },
   "file_extension": ".py",
   "mimetype": "text/x-python",
   "name": "python",
   "nbconvert_exporter": "python",
   "pygments_lexer": "ipython3",
   "version": "3.12.6"
  }
 },
 "nbformat": 4,
 "nbformat_minor": 2
}
