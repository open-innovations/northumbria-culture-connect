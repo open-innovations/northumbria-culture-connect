{
 "cells": [
  {
   "cell_type": "markdown",
   "metadata": {},
   "source": [
    "# Stage 4\n",
    "\n",
    "Purpose: Query companies house data for other, unfunded, organisations."
   ]
  },
  {
   "cell_type": "code",
   "execution_count": null,
   "metadata": {},
   "outputs": [],
   "source": [
    "import ast\n",
    "import json\n",
    "\n",
    "import petl as etl\n",
    "from config import SITE\n",
    "from pipeline_utils.filesystem.paths import DATA"
   ]
  },
  {
   "cell_type": "code",
   "execution_count": null,
   "metadata": {},
   "outputs": [],
   "source": [
    "culture_landscape_data = (\n",
    "    etl\n",
    "    .fromcsv(DATA / 'culture_landscape.csv')\n",
    "    .antijoin(etl.fromtext('individuals.txt'), lkey='organisation', rkey='lines')\n",
    "    .replaceall('', None)\n",
    "    .selectne('accounts_category', 'DORMANT')\n",
    "    .selectin('oslaua', ['E08000021', None])\n",
    "    .selectin('funding_geo_code', ['E08000021', None])\n",
    "    .selectnotin('company_status', ['Liquidation'])\n",
    "    .cut(\n",
    "        'organisation',\n",
    "        # Geographic area\n",
    "        'latitude', 'longitude', 'pcds', 'oslaua',\n",
    "        # Funding\n",
    "        'IPSO', 'NPO', 'Project Grant', 'funding_geo_code', 'funding_geo_name',\n",
    "        # Companies house data\n",
    "        'company_number', 'accounts_category', 'sic_code', 'uri',\n",
    "        # Charity information\n",
    "        'registered_charity_number', 'charity_contact_web'\n",
    "    )\n",
    "    .convert(['IPSO', 'NPO', 'Project Grant'], lambda x: x == 'True')\n",
    "    .convert('sic_code', ast.literal_eval)\n",
    "    .addfield('funded', lambda r: any([r.IPSO, r.NPO, r['Project Grant']]))\n",
    "    .addfield('company_match', lambda r: r.company_number is not None)\n",
    "    .addfield('charity_match', lambda r: r.registered_charity_number is not None)\n",
    ").cache()"
   ]
  },
  {
   "cell_type": "code",
   "execution_count": null,
   "metadata": {},
   "outputs": [],
   "source": [
    "culture_landscape_data.convert('sic_code', json.dumps).tocsv(SITE / 'list.csv')"
   ]
  },
  {
   "cell_type": "code",
   "execution_count": null,
   "metadata": {},
   "outputs": [],
   "source": [
    "def gen(row):\n",
    "    for v in row['sic_code']:\n",
    "        yield [v]\n",
    "        \n",
    "sic_data = (\n",
    "    culture_landscape_data\n",
    "    .cut('sic_code')\n",
    "    .selectnotnone('sic_code')\n",
    ")\n",
    "\n",
    "json.dump(\n",
    "    dict(\n",
    "        sic_data\n",
    "        .rowmapmany(gen, ['sic_code'])\n",
    "        .aggregate('sic_code', len)\n",
    "        .sort('value', reverse=True)\n",
    "        .records()\n",
    "    ),\n",
    "    open(SITE / 'sic_code_count.json', 'w'),\n",
    "    indent=2\n",
    ")"
   ]
  },
  {
   "cell_type": "markdown",
   "metadata": {},
   "source": [
    "Build summary"
   ]
  },
  {
   "cell_type": "code",
   "execution_count": null,
   "metadata": {},
   "outputs": [],
   "source": [
    "json.dump(\n",
    "    dict(etl.cat(\n",
    "        culture_landscape_data.aggregate(None, len).addfield('variable', 'total_organisations', 0),\n",
    "        culture_landscape_data.selecttrue('funded').aggregate(None, len).addfield('variable', 'funded_organisations', 0),\n",
    "        culture_landscape_data.selecttrue('IPSO').aggregate(None, len).addfield('variable', 'funded_organisations_ipso', 0),\n",
    "        culture_landscape_data.selecttrue('NPO').aggregate(None, len).addfield('variable', 'funded_organisations_npo', 0),\n",
    "        culture_landscape_data.selectnotnone('company_number').aggregate(None, len).addfield('variable', 'matched_to_companies_house', 0),\n",
    "        culture_landscape_data.selectnotnone('registered_charity_number').aggregate(None, len).addfield('variable', 'matched_to_charity_commission', 0),\n",
    "        culture_landscape_data.selectnone('company_number').selectnone('registered_charity_number').aggregate(None, len).addfield('variable', 'unmatched', 0),\n",
    "        sic_data.aggregate(None, len).addfield('variable', 'valid_sic_codes', 0),\n",
    "    ).records()),\n",
    "    open(SITE / 'summary.json', 'w'),\n",
    "    indent=2,\n",
    ")"
   ]
  },
  {
   "cell_type": "code",
   "execution_count": null,
   "metadata": {},
   "outputs": [],
   "source": [
    "culture_landscape_data.select(lambda r: r['IPSO'] or r['NPO'] or r['Project Grant']).cut(\n",
    "    'organisation','IPSO','NPO','Project Grant','company_number'\n",
    ").tocsv(SITE / 'release/newcastle_organisations.csv')"
   ]
  },
  {
   "cell_type": "code",
   "execution_count": null,
   "metadata": {},
   "outputs": [],
   "source": []
  }
 ],
 "metadata": {
  "kernelspec": {
   "display_name": "northumbria-culture-connect-dQ7VTDtt",
   "language": "python",
   "name": "python3"
  },
  "language_info": {
   "codemirror_mode": {
    "name": "ipython",
    "version": 3
   },
   "file_extension": ".py",
   "mimetype": "text/x-python",
   "name": "python",
   "nbconvert_exporter": "python",
   "pygments_lexer": "ipython3",
   "version": "3.12.7"
  }
 },
 "nbformat": 4,
 "nbformat_minor": 2
}
