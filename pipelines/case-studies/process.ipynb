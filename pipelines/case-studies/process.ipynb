{
 "cells": [
  {
   "cell_type": "markdown",
   "metadata": {},
   "source": [
    "# Case Studies - Phase 1\n",
    "\n",
    "This script processes data collected through an initial phase of NCC Case Studies Research, piloting a data collection scheme with cultural organisations in the Newcastle region."
   ]
  },
  {
   "cell_type": "code",
   "execution_count": 1,
   "metadata": {},
   "outputs": [],
   "source": [
    "import os\n",
    "import pandas as pd\n",
    "from pathlib import Path\n",
    "from datetime import datetime"
   ]
  },
  {
   "cell_type": "code",
   "execution_count": 5,
   "metadata": {},
   "outputs": [
    {
     "ename": "RuntimeError",
     "evalue": "No case study data available. Where is it?",
     "output_type": "error",
     "traceback": [
      "\u001b[0;31m---------------------------------------------------------------------------\u001b[0m",
      "\u001b[0;31mRuntimeError\u001b[0m                              Traceback (most recent call last)",
      "Cell \u001b[0;32mIn[5], line 8\u001b[0m\n\u001b[1;32m      5\u001b[0m CASE_STUDIES_DIR \u001b[38;5;241m=\u001b[39m RAW_DATA \u001b[38;5;241m/\u001b[39m \u001b[38;5;124m'\u001b[39m\u001b[38;5;124mraw/case-studies\u001b[39m\u001b[38;5;124m'\u001b[39m\n\u001b[1;32m      7\u001b[0m \u001b[38;5;28;01mif\u001b[39;00m \u001b[38;5;129;01mnot\u001b[39;00m CASE_STUDIES_DIR\u001b[38;5;241m.\u001b[39mexists():\n\u001b[0;32m----> 8\u001b[0m     \u001b[38;5;28;01mraise\u001b[39;00m \u001b[38;5;167;01mRuntimeError\u001b[39;00m(\u001b[38;5;124m'\u001b[39m\u001b[38;5;124mNo case study data available. Where is it?\u001b[39m\u001b[38;5;124m'\u001b[39m)\n",
      "\u001b[0;31mRuntimeError\u001b[0m: No case study data available. Where is it?"
     ]
    }
   ],
   "source": [
    "ROOT = Path('../../')\n",
    "ROOT.resolve()\n",
    "\n",
    "RAW_DATA = ROOT / 'raw'\n",
    "CASE_STUDIES_DIR = RAW_DATA / 'raw/case-studies'\n",
    "\n",
    "if not CASE_STUDIES_DIR.exists():\n",
    "    raise RuntimeError('No case study data available. Where is it?')"
   ]
  },
  {
   "cell_type": "code",
   "execution_count": null,
   "metadata": {},
   "outputs": [],
   "source": [
    "SITE_DIR = ROOT / 'src'\n",
    "OUT_DIR = ROOT/ 'case_study/_data'\n",
    "INCOME_INSIGHT_DIR = ROOT / 'insight/organisation-income/_data'"
   ]
  },
  {
   "cell_type": "code",
   "execution_count": 14,
   "metadata": {},
   "outputs": [],
   "source": [
    "def clean_date_column(col):\n",
    "    if isinstance(col, str) and '(' in col:\n",
    "        col = col.split(' (')[0] \n",
    "    if col == \"Feb 24\":\n",
    "        return pd.to_datetime(\"2024-02-23\")\n",
    "    elif col == \"Sep 23\":\n",
    "        return pd.to_datetime(\"2023-09-23\")\n",
    "    elif col == \"Sep 24\":\n",
    "        return pd.to_datetime(\"2024-09-23\")\n",
    "\n",
    "    return pd.to_datetime(col, errors='coerce')\n"
   ]
  },
  {
   "cell_type": "code",
   "execution_count": null,
   "metadata": {},
   "outputs": [],
   "source": [
    "org_list = pd.DataFrame()\n",
    "\n",
    "for filename in os.listdir(CASE_STUDIES_DIR):\n",
    "    file_path = os.path.join(CASE_STUDIES_DIR, filename)\n",
    "    stem = Path(filename).stem\n",
    "    if filename.endswith('.xlsx'):  \n",
    "        data = pd.read_excel(file_path, sheet_name='About your organisation', engine='openpyxl')\n",
    "        # Select the rows and columns containing organization details\n",
    "        org_details = data.iloc[0:4].iloc[:, 1:-1].rename(columns={'Unnamed: 1': 'source', 'Unnamed: 2': 'amount'})\n",
    "        \n",
    "        org_details['Organisation'] = stem.replace('_', ' ').title()\n",
    "        org_details.set_index('Organisation', inplace=True)\n",
    "\n",
    "\n",
    "        org_details = org_details.pivot(columns='source', values='amount').rename(columns={\n",
    "            'Postcode of main location (\"head office\")': 'Postcode'\n",
    "        })\n",
    "\n",
    "        org_details.index = [stem.replace('_', ' ').title()]\n",
    "        org_details.index.name = 'Organisation'\n",
    "        \n",
    "        org_list = pd.concat([org_list, org_details])\n",
    "\n",
    "org_list.reset_index(inplace=True)\n",
    "\n",
    "org_list.to_csv(OUT_DIR / 'org_list.csv', index=False)"
   ]
  },
  {
   "cell_type": "code",
   "execution_count": null,
   "metadata": {},
   "outputs": [],
   "source": [
    "income_df = pd.DataFrame()\n",
    "\n",
    "for filename in os.listdir(CASE_STUDIES_DIR):\n",
    "    file_path = os.path.join(CASE_STUDIES_DIR, filename)\n",
    "    stem = Path(filename).stem\n",
    "    if filename.endswith('.xlsx'):\n",
    "        funding = pd.read_excel(file_path, sheet_name='About your organisation', engine='openpyxl')\n",
    "        \n",
    "        income = funding.iloc[9:14].iloc[:, 1:-1].rename(columns={'Unnamed: 1': 'source', 'Unnamed: 2': 'amount'})\n",
    "        \n",
    "        total_income = income['amount'].sum()\n",
    "\n",
    "        income.set_index('source', inplace=True)\n",
    "\n",
    "        income['percentage'] = (income['amount'] / total_income) * 100\n",
    "\n",
    "        income.round(0).astype(int).to_csv(OUT_DIR / f'{stem}_income.csv', index=True)\n",
    "\n",
    "        income_df[f'{stem}_percentage'] = income['percentage']\n",
    "\n",
    "        \n",
    "income_df['total'] = income_df.sum(axis=1)\n",
    "\n",
    "income_df = income_df['total'] \n",
    "\n",
    "income_df.round(0).astype(int).to_csv(INCOME_INSIGHT_DIR / 'combined_income.csv', index=True)"
   ]
  },
  {
   "cell_type": "code",
   "execution_count": null,
   "metadata": {},
   "outputs": [],
   "source": [
    "for filename in os.listdir(CASE_STUDIES_DIR):\n",
    "    file_path = os.path.join(CASE_STUDIES_DIR, filename)\n",
    "    stem = Path(filename).stem\n",
    "    if filename.endswith('.xlsx'):  \n",
    "        participation = pd.read_excel(file_path, sheet_name='Participation data', skiprows=5)\n",
    "        participation = (participation.iloc[0:20, 1:]\n",
    "                        .rename(columns={'Event / Event Series title': 'Event' })\n",
    "                        .drop(columns={\n",
    "                            'Start Date',\n",
    "                            'End Date'})\n",
    "        )\n",
    "        if stem == 'twam':\n",
    "            participation = participation.drop(columns={'Annual total'})\n",
    "        if stem == 'centre_for_life':\n",
    "            participation.columns = [clean_date_column(col) if col != 'Event' else col for col in participation.columns]\n",
    "\n",
    "        participation = (participation.melt(id_vars='Event', var_name='Date', value_name='Value')\n",
    "                        .pivot(index='Date', columns='Event', values='Value')\n",
    "        )\n",
    "        participation = participation.apply(lambda col: pd.to_numeric(col, downcast='integer', errors='coerce'))\n",
    "\n",
    "        participation['Date label'] = participation.index.strftime('%Y-%m-%d')\n",
    "        \n",
    "        participation.to_csv(OUT_DIR / f'{stem}_participation.csv', index = True)\n",
    "        "
   ]
  },
  {
   "cell_type": "markdown",
   "metadata": {},
   "source": [
    "Calculate percentage income "
   ]
  },
  {
   "cell_type": "code",
   "execution_count": null,
   "metadata": {},
   "outputs": [],
   "source": [
    "income_df = pd.DataFrame()\n",
    "\n",
    "for filename in os.listdir(CASE_STUDIES_DIR):\n",
    "    file_path = os.path.join(CASE_STUDIES_DIR, filename)\n",
    "    stem = Path(filename).stem\n",
    "    if filename.endswith('.xlsx'):  \n",
    "        funding = pd.read_excel(file_path, sheet_name='About your organisation', engine='openpyxl')\n",
    "        \n",
    "        income = funding.iloc[9:14].iloc[:, 1:-1].rename(columns={'Unnamed: 1': 'source', 'Unnamed: 2': 'amount'})\n",
    "\n",
    "        total_income = income['amount'].sum()\n",
    "        income['amount'] = ((income['amount'] / total_income) * 100).round(2)\n",
    "        \n",
    "        income = income.pivot_table(columns='source',values='amount')\n",
    "        income.index = [stem.replace('_', ' ').title()]\n",
    "        income.index.name = 'Organisation'\n",
    "\n",
    "        income_df = pd.concat([income_df, income])\n",
    "\n",
    "        income_df = income_df.round(2)\n",
    "    \n",
    "income_df.round(0).astype(int).to_csv(INCOME_INSIGHT_DIR / 'percentage_income.csv', index=True)"
   ]
  },
  {
   "cell_type": "code",
   "execution_count": null,
   "metadata": {},
   "outputs": [],
   "source": []
  }
 ],
 "metadata": {
  "kernelspec": {
   "display_name": "northumbria-culture-connect-dQ7VTDtt",
   "language": "python",
   "name": "python3"
  },
  "language_info": {
   "codemirror_mode": {
    "name": "ipython",
    "version": 3
   },
   "file_extension": ".py",
   "mimetype": "text/x-python",
   "name": "python",
   "nbconvert_exporter": "python",
   "pygments_lexer": "ipython3",
   "version": "3.12.7"
  }
 },
 "nbformat": 4,
 "nbformat_minor": 2
}
