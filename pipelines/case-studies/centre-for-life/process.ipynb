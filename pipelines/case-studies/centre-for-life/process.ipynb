{
 "cells": [
  {
   "cell_type": "code",
   "execution_count": 285,
   "metadata": {},
   "outputs": [],
   "source": [
    "import os\n",
    "import pandas as pd\n",
    "from pathlib import Path"
   ]
  },
  {
   "cell_type": "code",
   "execution_count": 286,
   "metadata": {},
   "outputs": [
    {
     "data": {
      "text/plain": [
       "PosixPath('/Users/tazminchiles/Documents/GitHub/northumbria-culture-connect')"
      ]
     },
     "execution_count": 286,
     "metadata": {},
     "output_type": "execute_result"
    }
   ],
   "source": [
    "ROOT = Path('../../../')\n",
    "ROOT.resolve()"
   ]
  },
  {
   "cell_type": "code",
   "execution_count": 287,
   "metadata": {},
   "outputs": [],
   "source": [
    "DATA_PATH = os.path.join(ROOT, 'raw', 'case-studies', 'centre_for_life')\n",
    "F2F = os.path.join(DATA_PATH, 'F2F Survey Data Apr-Aug.xlsx')\n",
    "ONLINE = os.path.join(DATA_PATH, 'Online Survey Data Apr-Aug.csv')\n",
    "TABLET = os.path.join(DATA_PATH, 'Tablet Data Apr-Aug.csv')\n",
    "\n",
    "\n",
    "OUT_PATH = os.path.join(ROOT, 'src', 'case-study', 'centre-for-life', '_data', 'satisfaction_scores')\n",
    "\n",
    "f2f = pd.read_excel(F2F)\n",
    "online = pd.read_csv(ONLINE)\n",
    "tablet = pd.read_csv(TABLET)"
   ]
  },
  {
   "cell_type": "code",
   "execution_count": 288,
   "metadata": {},
   "outputs": [],
   "source": [
    "zone_scores_mapping = {\n",
    "    'Wow Zone (on the ground floor next to Life Café)': 'wow_zone',\n",
    "    'Wow Zone (on the ground floor next to Life Cafe)': 'wow_zone',\n",
    "    'Space Zone (on the ground floor next to the Planetarium)': 'space_zone',\n",
    "    'Brain Zone (on the ground floor, near the entrance and exit)': 'brain_zone',\n",
    "    'Hello World (on the upper floor)': 'hello_world',\n",
    "    'Experiment Zone (7+ area on the ground floor)': 'experiment_zone',\n",
    "    'Science Now! Hub (on the ground floor, currently has information and activities about mushrooms)': 'science_now',\n",
    "    'Making Studio': 'making_studio',\n",
    "    'Live science show in the theatre': 'live_science_show',\n",
    "    'Planetarium Shows': 'planetarium_shows',\n",
    "    'Play Zone and pop-up play areas (upper floor aimed at under 7s)': 'play_zone'\n",
    "}\n",
    "\n",
    "excluded_values = ['Unknown', 'Did not visit']\n",
    "\n",
    "custom_order = ['Very satisfied', 'Somewhat satisfied', 'Neither satisfied nor dissatisfied', 'Somewhat dissatisfied', 'Very dissatisfied']\n",
    "\n",
    "tablet_order = [\n",
    "    'Extremely satisfied', \n",
    "    'Quite satisfied', \n",
    "    'Neither satisfied nor unsatisfied', \n",
    "    'Quite unsatisfied', \n",
    "    'Extremely unsatisfied'\n",
    "]\n",
    "\n",
    "order_mapping = {\n",
    "    tablet_order[i]: custom_order[i] for i in range(len(tablet_order))\n",
    "}\n"
   ]
  },
  {
   "cell_type": "code",
   "execution_count": 289,
   "metadata": {},
   "outputs": [],
   "source": [
    "def clean_column_names(data):\n",
    "    data.columns = (\n",
    "        data.columns\n",
    "        .str.strip()\n",
    "        .str.lower()\n",
    "        .str.replace(\" \", \"_\", regex=True)\n",
    "        .str.replace(\":\", \"_\", regex=True)\n",
    "    )\n",
    "    return data\n",
    "\n",
    "def handle_missing_values(data):\n",
    "    categorical_cols = data.select_dtypes(include=\"object\").columns\n",
    "    data[categorical_cols] = data[categorical_cols].fillna(\"Unknown\")\n",
    "    \n",
    "    numerical_cols = data.select_dtypes(include=\"number\").columns\n",
    "    data[numerical_cols] = data[numerical_cols].fillna(0)\n",
    "    \n",
    "    return data\n",
    "\n",
    "def convert_dates(data, date_column):\n",
    "    if date_column in data.columns:\n",
    "        data[date_column] = pd.to_datetime(data[date_column], errors='coerce')\n",
    "    return data\n",
    "\n",
    "def convert_to_multi_level_header(data):\n",
    "    first_row = data.columns.fillna('') \n",
    "    second_row = data.iloc[0].fillna('')  \n",
    "    \n",
    "    new_header = pd.MultiIndex.from_tuples([(first_row[i], second_row[i]) for i in range(len(first_row))])\n",
    "\n",
    "    data = data[1:]\n",
    "    data.columns = new_header\n",
    "\n",
    "    return data\n",
    "\n",
    "def clean_data(data, date_column=\"id_enddate\"):\n",
    "    data = handle_missing_values(data)\n",
    "    data = clean_column_names(data)\n",
    "    data = convert_to_multi_level_header(data)\n",
    "    data = convert_dates(data, date_column)\n",
    "    return data"
   ]
  },
  {
   "cell_type": "code",
   "execution_count": 290,
   "metadata": {},
   "outputs": [
    {
     "name": "stderr",
     "output_type": "stream",
     "text": [
      "/var/folders/9k/g5s5mvqs2_jb7ftn5m2jyqs00000gn/T/ipykernel_39353/2748467797.py:29: FutureWarning: Series.__getitem__ treating keys as positions is deprecated. In a future version, integer keys will always be treated as labels (consistent with DataFrame behavior). To access a value by position, use `ser.iloc[pos]`\n",
      "  new_header = pd.MultiIndex.from_tuples([(first_row[i], second_row[i]) for i in range(len(first_row))])\n",
      "/var/folders/9k/g5s5mvqs2_jb7ftn5m2jyqs00000gn/T/ipykernel_39353/2748467797.py:29: FutureWarning: Series.__getitem__ treating keys as positions is deprecated. In a future version, integer keys will always be treated as labels (consistent with DataFrame behavior). To access a value by position, use `ser.iloc[pos]`\n",
      "  new_header = pd.MultiIndex.from_tuples([(first_row[i], second_row[i]) for i in range(len(first_row))])\n",
      "/var/folders/9k/g5s5mvqs2_jb7ftn5m2jyqs00000gn/T/ipykernel_39353/2748467797.py:29: FutureWarning: Series.__getitem__ treating keys as positions is deprecated. In a future version, integer keys will always be treated as labels (consistent with DataFrame behavior). To access a value by position, use `ser.iloc[pos]`\n",
      "  new_header = pd.MultiIndex.from_tuples([(first_row[i], second_row[i]) for i in range(len(first_row))])\n"
     ]
    }
   ],
   "source": [
    "online_data = clean_data(online)\n",
    "f2f_data = clean_data(f2f)\n",
    "table_data = clean_data(tablet)\n"
   ]
  },
  {
   "cell_type": "markdown",
   "metadata": {},
   "source": [
    "Summaries"
   ]
  },
  {
   "cell_type": "code",
   "execution_count": 298,
   "metadata": {},
   "outputs": [
    {
     "name": "stdout",
     "output_type": "stream",
     "text": [
      "   total_online  total_f2f  total_tablet\n",
      "0           626        594            77\n"
     ]
    }
   ],
   "source": [
    "summaries = pd.DataFrame({\n",
    "    'total_online': [len(online_data)],\n",
    "    'total_f2f': [len(f2f_data)],\n",
    "    'total_tablet': [len(tablet)]\n",
    "})\n",
    "\n",
    "summaries.to_csv(os.path.join(OUT_PATH, 'summaries.csv'), index=False)\n",
    "\n",
    "print(summaries)"
   ]
  },
  {
   "cell_type": "markdown",
   "metadata": {},
   "source": [
    "Satisfaction Scores by Area / Exhibition"
   ]
  },
  {
   "cell_type": "code",
   "execution_count": 291,
   "metadata": {},
   "outputs": [],
   "source": [
    "zone_scores = online_data[['how_satisfied_or_dissatisfied_were_you_with_the_following_areas_of_life_science_centre?_(select_one_rating_per_area)',\n",
    "                                    'how_satisfied_or_dissatisfied_were_you_with_the_following_areas_of_life_science_centre?_(select_one_rating_per_area).1',\n",
    "                                    'how_satisfied_or_dissatisfied_were_you_with_the_following_areas_of_life_science_centre?_(select_one_rating_per_area).2',\n",
    "                                    'how_satisfied_or_dissatisfied_were_you_with_the_following_areas_of_life_science_centre?_(select_one_rating_per_area).3',\n",
    "                                    'how_satisfied_or_dissatisfied_were_you_with_the_following_areas_of_life_science_centre?_(select_one_rating_per_area).4',\n",
    "                                    'how_satisfied_or_dissatisfied_were_you_with_the_following_areas_of_life_science_centre?_(select_one_rating_per_area).5',\n",
    "                                    'how_satisfied_or_dissatisfied_were_you_with_the_following_areas_of_life_science_centre?_(select_one_rating_per_area).6',\n",
    "                                    'how_satisfied_or_dissatisfied_were_you_with_the_following_areas_of_life_science_centre?_(select_one_rating_per_area).7',\n",
    "                                    'how_satisfied_or_dissatisfied_were_you_with_the_following_areas_of_life_science_centre?_(select_one_rating_per_area).8',\n",
    "                                    'how_satisfied_or_dissatisfied_were_you_with_the_following_areas_of_life_science_centre?_(select_one_rating_per_area).9']]\n",
    "\n",
    "\n",
    "zone_scores.columns = zone_scores.columns.droplevel(0)\n",
    "\n",
    "\n",
    "counts = zone_scores.apply(pd.Series.value_counts)\n",
    "\n",
    "counts = counts.reset_index().rename(columns={'index': 'score'})\n",
    "counts = counts.rename(columns=zone_scores_mapping)\n",
    "\n",
    "# Now calculate satisfaction scores as a percentage of people who answered and attended each area.\n",
    "\n",
    "filtered_df = counts[~counts.isin(excluded_values).any(axis=1)]\n",
    "\n",
    "numeric_columns = filtered_df.columns[1:]\n",
    "\n",
    "percentage_filtered_df = filtered_df.copy()\n",
    "for col in numeric_columns:\n",
    "    total_responses = filtered_df[col].sum()  \n",
    "    percentage_filtered_df[col] = (filtered_df[col] / total_responses) * 100 \n",
    "\n",
    "percentage_filtered_df = percentage_filtered_df.round(2)\n",
    "\n",
    "percentage_filtered_df = percentage_filtered_df.sort_values(by='wow_zone', ascending=False)\n",
    "\n",
    "percentage_filtered_df.to_csv(os.path.join(OUT_PATH, 'online_percentage_score.csv'), index=False)\n"
   ]
  },
  {
   "cell_type": "markdown",
   "metadata": {},
   "source": [
    "Face to Face"
   ]
  },
  {
   "cell_type": "code",
   "execution_count": 292,
   "metadata": {},
   "outputs": [],
   "source": [
    "f2f_zone_scores = f2f_data[[\n",
    "    'q4a',\n",
    "    'q4b',\n",
    "    'q4c',\n",
    "    'q4d',\n",
    "    'q4e',\n",
    "    'q4f',\n",
    "    'q4g',\n",
    "    'q4h',\n",
    "    'q4i',\n",
    "    'q4j',\n",
    "]]\n",
    "\n",
    "f2f_zone_scores.columns = f2f_zone_scores.columns.droplevel(0)\n",
    "\n",
    "f2f_zone_scores = f2f_zone_scores.rename(columns=zone_scores_mapping)\n",
    "\n",
    "counts = f2f_zone_scores.apply(pd.Series.value_counts)\n",
    "\n",
    "counts = counts.reset_index().rename(columns={'index': 'score'})\n",
    "\n",
    "# Now calculate satisfaction scores as a percentage of people who answered and attended each area.\n",
    "\n",
    "filtered_df = counts[~counts.isin(excluded_values).any(axis=1)]\n",
    "\n",
    "numeric_columns = filtered_df.columns[1:]\n",
    "\n",
    "percentage_filtered_df = filtered_df.copy()\n",
    "for col in numeric_columns:\n",
    "    total_responses = filtered_df[col].sum()  \n",
    "    percentage_filtered_df[col] = (filtered_df[col] / total_responses) * 100 \n",
    "\n",
    "percentage_filtered_df = percentage_filtered_df.round(2).fillna(0)\n",
    "percentage_filtered_df = percentage_filtered_df.sort_values(by='experiment_zone', ascending=False)\n",
    "\n",
    "percentage_filtered_df['score'] = pd.Categorical(percentage_filtered_df['score'], categories=custom_order, ordered=True)\n",
    "\n",
    "percentage_filtered_df = percentage_filtered_df.sort_values(by='score')\n",
    "\n",
    "percentage_filtered_df.to_csv(os.path.join(OUT_PATH, 'f2f_percentage_total.csv'), index=False)\n",
    "\n"
   ]
  },
  {
   "cell_type": "markdown",
   "metadata": {},
   "source": [
    "Tablet surveys"
   ]
  },
  {
   "cell_type": "code",
   "execution_count": 293,
   "metadata": {},
   "outputs": [],
   "source": [
    "tablet_scores = tablet['how_satisfied_are_you_with_visit_today?']\n",
    "\n",
    "tablet_scores = tablet_scores.replace(order_mapping)\n",
    "\n",
    "tablet_scores = tablet_scores[~tablet_scores.isin(excluded_values)]\n",
    "\n",
    "tablet_scores = tablet_scores.drop(index=tablet_scores.index[0])\n",
    "\n",
    "tablet_counts = tablet_scores.value_counts()\n",
    "\n",
    "tablet_counts = tablet_counts.reset_index().rename(columns={'how_satisfied_are_you_with_visit_today?': 'score'})\n",
    "\n",
    "numeric_columns = tablet_counts.columns[1:]\n",
    "\n",
    "percentage_filtered_df = tablet_counts.copy()\n",
    "for col in numeric_columns:\n",
    "    total_responses = tablet_counts[col].sum()  \n",
    "    percentage_filtered_df[col] = (tablet_counts[col] / total_responses) * 100 \n",
    "\n",
    "percentage_filtered_df = percentage_filtered_df.round(2).fillna(0)\n",
    "\n",
    "percentage_filtered_df['score'] = percentage_filtered_df['score'].astype(str)\n",
    "\n",
    "percentage_filtered_df['score'] = pd.Categorical(percentage_filtered_df['score'], categories=custom_order, ordered=True)\n",
    "\n",
    "percentage_filtered_df = percentage_filtered_df.sort_values(by='score')\n",
    "\n",
    "percentage_filtered_df.to_csv(os.path.join(OUT_PATH, 'tablet_percentage_total.csv'), index=False)\n"
   ]
  },
  {
   "cell_type": "code",
   "execution_count": null,
   "metadata": {},
   "outputs": [],
   "source": []
  }
 ],
 "metadata": {
  "kernelspec": {
   "display_name": "env",
   "language": "python",
   "name": "python3"
  },
  "language_info": {
   "codemirror_mode": {
    "name": "ipython",
    "version": 3
   },
   "file_extension": ".py",
   "mimetype": "text/x-python",
   "name": "python",
   "nbconvert_exporter": "python",
   "pygments_lexer": "ipython3",
   "version": "3.12.4"
  }
 },
 "nbformat": 4,
 "nbformat_minor": 2
}
