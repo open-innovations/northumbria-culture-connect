{
 "cells": [
  {
   "cell_type": "markdown",
   "metadata": {},
   "source": [
    "# TWAM Community Groups - Participation"
   ]
  },
  {
   "cell_type": "code",
   "execution_count": 43,
   "metadata": {},
   "outputs": [],
   "source": [
    "import os \n",
    "import pandas as pd\n",
    "from pathlib import Path"
   ]
  },
  {
   "cell_type": "code",
   "execution_count": 44,
   "metadata": {},
   "outputs": [
    {
     "name": "stderr",
     "output_type": "stream",
     "text": [
      "/Users/tazminchiles/Documents/GitHub/northumbria-culture-connect/env/lib/python3.12/site-packages/openpyxl/worksheet/_reader.py:329: UserWarning: Data Validation extension is not supported and will be removed\n",
      "  warn(msg)\n"
     ]
    }
   ],
   "source": [
    "ROOT = Path('../../../')\n",
    "ROOT.resolve()\n",
    "\n",
    "RAW_DATA = ROOT / 'raw'\n",
    "CASE_STUDIES_DIR = RAW_DATA / 'case-studies'\n",
    "TWAM_DATA = CASE_STUDIES_DIR / 'twam' / '23-24 data for culture connect v2.xlsx'\n",
    "\n",
    "OUT_PATH = ROOT / 'src' / 'case-study' / 'tyne-and-wear-archives-and-museums'/ '_data'\n",
    "\n",
    "twam = pd.read_excel(TWAM_DATA)\n"
   ]
  },
  {
   "cell_type": "code",
   "execution_count": 52,
   "metadata": {},
   "outputs": [
    {
     "data": {
      "text/html": [
       "<div>\n",
       "<style scoped>\n",
       "    .dataframe tbody tr th:only-of-type {\n",
       "        vertical-align: middle;\n",
       "    }\n",
       "\n",
       "    .dataframe tbody tr th {\n",
       "        vertical-align: top;\n",
       "    }\n",
       "\n",
       "    .dataframe thead th {\n",
       "        text-align: right;\n",
       "    }\n",
       "</style>\n",
       "<table border=\"1\" class=\"dataframe\">\n",
       "  <thead>\n",
       "    <tr style=\"text-align: right;\">\n",
       "      <th></th>\n",
       "      <th>year_month</th>\n",
       "      <th>date_decimal</th>\n",
       "      <th>participants_over_19</th>\n",
       "    </tr>\n",
       "  </thead>\n",
       "  <tbody>\n",
       "    <tr>\n",
       "      <th>0</th>\n",
       "      <td>2023-04-01</td>\n",
       "      <td>2023.250000</td>\n",
       "      <td>69</td>\n",
       "    </tr>\n",
       "    <tr>\n",
       "      <th>1</th>\n",
       "      <td>2023-05-01</td>\n",
       "      <td>2023.333333</td>\n",
       "      <td>221</td>\n",
       "    </tr>\n",
       "    <tr>\n",
       "      <th>2</th>\n",
       "      <td>2023-06-01</td>\n",
       "      <td>2023.416667</td>\n",
       "      <td>32</td>\n",
       "    </tr>\n",
       "    <tr>\n",
       "      <th>3</th>\n",
       "      <td>2023-07-01</td>\n",
       "      <td>2023.500000</td>\n",
       "      <td>40</td>\n",
       "    </tr>\n",
       "    <tr>\n",
       "      <th>4</th>\n",
       "      <td>2023-08-01</td>\n",
       "      <td>2023.583333</td>\n",
       "      <td>50</td>\n",
       "    </tr>\n",
       "    <tr>\n",
       "      <th>5</th>\n",
       "      <td>2023-09-01</td>\n",
       "      <td>2023.666667</td>\n",
       "      <td>51</td>\n",
       "    </tr>\n",
       "    <tr>\n",
       "      <th>6</th>\n",
       "      <td>2023-10-01</td>\n",
       "      <td>2023.750000</td>\n",
       "      <td>32</td>\n",
       "    </tr>\n",
       "    <tr>\n",
       "      <th>7</th>\n",
       "      <td>2023-11-01</td>\n",
       "      <td>2023.833333</td>\n",
       "      <td>21</td>\n",
       "    </tr>\n",
       "    <tr>\n",
       "      <th>8</th>\n",
       "      <td>2023-12-01</td>\n",
       "      <td>2023.916667</td>\n",
       "      <td>8</td>\n",
       "    </tr>\n",
       "  </tbody>\n",
       "</table>\n",
       "</div>"
      ],
      "text/plain": [
       "  year_month  date_decimal participants_over_19\n",
       "0 2023-04-01   2023.250000                   69\n",
       "1 2023-05-01   2023.333333                  221\n",
       "2 2023-06-01   2023.416667                   32\n",
       "3 2023-07-01   2023.500000                   40\n",
       "4 2023-08-01   2023.583333                   50\n",
       "5 2023-09-01   2023.666667                   51\n",
       "6 2023-10-01   2023.750000                   32\n",
       "7 2023-11-01   2023.833333                   21\n",
       "8 2023-12-01   2023.916667                    8"
      ]
     },
     "execution_count": 52,
     "metadata": {},
     "output_type": "execute_result"
    }
   ],
   "source": [
    "# Filter for the Community Groups we are interested in\n",
    "\n",
    "twam_filtered = twam[\n",
    "    (twam['Group Name'] == 'CNTW') &\n",
    "    (twam['Type of Group'] == 'Community Group') &\n",
    "    (twam['ACE Survey Monitoring Data'] == 'Health/wellbeing')\n",
    "]\n",
    "\n",
    "# Remove empty columns and clean up column names\n",
    "\n",
    "twam_filtered = twam_filtered.dropna(axis=1, how='all')\n",
    "twam_filtered.columns = (\n",
    "        twam_filtered.columns\n",
    "        .str.strip()\n",
    "        .str.lower()\n",
    "        .str.replace(\" \", \"_\", regex=True)\n",
    "        .str.replace(\":\", \"_\", regex=True)\n",
    "    )\n",
    "\n",
    "twam_filtered = twam_filtered.rename(columns={\n",
    "    'lea_and_district_(or_country_if_outside_england)': 'district',\n",
    "    'no.19_&_over': 'participants_over_19',\n",
    "    'date_(00/00/00)': 'date'\n",
    "})\n",
    "\n",
    "# Convert year_month to datetime\n",
    "\n",
    "twam_filtered['year_month'] = pd.to_datetime(twam_filtered['year_month'], format='%Y_%m')\n",
    "\n",
    "# Group by month and sum participants\n",
    "\n",
    "twam_filtered = twam_filtered.groupby('year_month')['participants_over_19'].sum().reset_index()\n",
    "\n",
    "# Convert date to decimal year for visualisation\n",
    "\n",
    "twam_filtered['date_decimal'] = twam_filtered['year_month'].dt.year + (twam_filtered['year_month'].dt.month - 1) / 12\n",
    "\n",
    "# Re-order columns \n",
    "twam_filtered = twam_filtered[['year_month', 'date_decimal', 'participants_over_19']]\n",
    "\n",
    "# Output to CSV for visualisation\n",
    "\n",
    "twam_filtered.to_csv(OUT_PATH / 'community_groups_participation.csv', index=False)\n",
    "\n",
    "\n",
    "\n"
   ]
  },
  {
   "cell_type": "code",
   "execution_count": null,
   "metadata": {},
   "outputs": [],
   "source": []
  }
 ],
 "metadata": {
  "kernelspec": {
   "display_name": "env",
   "language": "python",
   "name": "python3"
  },
  "language_info": {
   "codemirror_mode": {
    "name": "ipython",
    "version": 3
   },
   "file_extension": ".py",
   "mimetype": "text/x-python",
   "name": "python",
   "nbconvert_exporter": "python",
   "pygments_lexer": "ipython3",
   "version": "3.12.4"
  }
 },
 "nbformat": 4,
 "nbformat_minor": 2
}
