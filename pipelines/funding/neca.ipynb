{
 "cells": [
  {
   "cell_type": "markdown",
   "metadata": {},
   "source": [
    "# NECA Funding Data\n",
    "\n",
    "This workbook aims to explore the data potentially publishable from the NECA investment funding. It is presented in the form of a Jupyter notebook, which could be automated as a processing pipeline."
   ]
  },
  {
   "cell_type": "markdown",
   "metadata": {},
   "source": [
    "## Load Python libraries\n",
    "\n",
    "The major library for data manipulation is PETL. We also require `thefuzz` for some fuzzy matching, and some reference data (Local Authority names)"
   ]
  },
  {
   "cell_type": "code",
   "execution_count": null,
   "metadata": {},
   "outputs": [],
   "source": [
    "from pathlib import Path\n",
    "\n",
    "import petl as etl\n",
    "from pipeline_utils.filesystem.paths import RAW_DATA, SITE\n",
    "from pipeline_utils.reference.geo import la_names\n",
    "from thefuzz.process import extractOne"
   ]
  },
  {
   "cell_type": "code",
   "execution_count": null,
   "metadata": {},
   "outputs": [],
   "source": [
    "OUT_DIR = SITE / 'data/neca/_data/release'"
   ]
  },
  {
   "cell_type": "markdown",
   "metadata": {},
   "source": [
    "## Duplicate the Pivot table\n",
    "\n",
    "Read the outputs from the appropriate sheet of the spreadsheet, and apply numeric conversions."
   ]
  },
  {
   "cell_type": "code",
   "execution_count": null,
   "metadata": {},
   "outputs": [],
   "source": [
    "outputs = (\n",
    "    etl\n",
    "    .fromxlsx(RAW_DATA / 'NECA/Culture Projects Outputs.xlsx', sheet='Culture Projects Outputs')\n",
    "    .convertnumbers()\n",
    "    .convert('category', lambda f: f.strip())\n",
    "    .cache()\n",
    ")"
   ]
  },
  {
   "cell_type": "markdown",
   "metadata": {},
   "source": [
    "Prepare the data by the following method\n",
    "\n",
    "* Filter the __Culture, creative and tourism__ `workstream`, and the __LAST_APPROVED__ `block_status`.\n",
    "* `melt` the data into a long format with a column for `variable` (__forecast__ or __actual__), and a column for `value`.\n",
    "* Drop the rows where value is `None`.\n",
    "\n",
    "The table display is truncated."
   ]
  },
  {
   "cell_type": "code",
   "execution_count": null,
   "metadata": {},
   "outputs": [],
   "source": [
    "report_data = (\n",
    "    outputs\n",
    "    .selecteq('workstream', 'Culture, creative and tourism')\n",
    "    .selecteq('block_status', 'LAST_APPROVED')\n",
    "    .melt(key=[\"category\", \"block_status\"], variables=[\"forecast\", \"actual\"])\n",
    "    .selectnotnone('value')\n",
    ")\n",
    "\n",
    "report_data"
   ]
  },
  {
   "cell_type": "markdown",
   "metadata": {},
   "source": [
    "Then create a pivot report with a row per category, the columns being the variables, and the cells containing sums of the values.\n",
    "\n",
    "`cut` reorders the columns, and `sort` reorders the rows. Finally, `replaceall` substitutes empty strings for `None`."
   ]
  },
  {
   "cell_type": "code",
   "execution_count": null,
   "metadata": {},
   "outputs": [],
   "source": [
    "report = (\n",
    "    report_data.pivot('category', 'variable', 'value', sum)\n",
    "    .cut('category', 'forecast', 'actual')\n",
    "    .sort('category')\n",
    "    .replaceall(None, '')\n",
    ")\n",
    "\n",
    "report.displayall()\n",
    "\n",
    "report.cutout('forecast').tocsv(OUT_DIR / 'project_outputs.csv')"
   ]
  },
  {
   "cell_type": "markdown",
   "metadata": {},
   "source": [
    "## Exploring allocations"
   ]
  },
  {
   "cell_type": "markdown",
   "metadata": {},
   "source": [
    "This is an attempt to replicate some of the visualisations created for Arts Council England data from the base NECA data.\n",
    "\n",
    "https://open-innovations.github.io/northumbria-culture-connect/arts-council/project-grants/\n",
    "\n",
    "First we load the allocations data from the spreadsheet, filtering for rows with a defined Project Number (this removes the summary row, which would otherwise skew the numbers).\n",
    "\n",
    "Note that it is not possible to completely replicate the Project Grants data, as the NECA data does not contain any date information. There is also some work to do to handle the North of Tyne area (i.e. the Combined Authority), which does not factor in the ACE data."
   ]
  },
  {
   "cell_type": "code",
   "execution_count": null,
   "metadata": {},
   "outputs": [],
   "source": [
    "allocations = (\n",
    "    etl\n",
    "    .fromxlsx(RAW_DATA / 'NECA/Culture Projects Outputs.xlsx', sheet='Culture allocations')\n",
    "    .selectnotnone('Project Number')\n",
    "    .cache()\n",
    ")\n",
    "\n",
    "allocations = allocations.cutout('Private Match funding (£) ')\n",
    "\n",
    "allocations"
   ]
  },
  {
   "cell_type": "markdown",
   "metadata": {},
   "source": [
    "The `normalise_names` function attempts to correct the names of the Local Authority to the canonical list we're using. It has to deal with missing area and the North of Type area, which is the whole combined Authority (approximately)."
   ]
  },
  {
   "cell_type": "code",
   "execution_count": null,
   "metadata": {},
   "outputs": [],
   "source": [
    "def normalise_names(f):\n",
    "    if f == None:\n",
    "        return \"Unknown\"\n",
    "    try:\n",
    "        name = extractOne(f, la_names, score_cutoff=90)[0]\n",
    "    except:\n",
    "        return f\n",
    "    return name"
   ]
  },
  {
   "cell_type": "markdown",
   "metadata": {},
   "source": [
    "Now we prepare the report by cutting the columns we're interested in and renaming them, normalising the area and correcting the name of one of the areas."
   ]
  },
  {
   "cell_type": "code",
   "execution_count": null,
   "metadata": {},
   "outputs": [],
   "source": [
    "# Create a new Total column, excluding Private Match Funding\n",
    "report = (\n",
    "    allocations.addfield(\n",
    "        'Total funding', \n",
    "        lambda row: (row['IF (£)'] or 0) + (row['Public Match funding (£) '] or 0) + (row['In-kind Match funding (£) '] or 0)\n",
    "    )\n",
    "    .cut(\n",
    "        'Applicant',\n",
    "        'Area',\n",
    "        'Status',\n",
    "        'IF (£)',\n",
    "        'Public Match funding (£) ', \n",
    "        'In-kind Match funding (£) ',\n",
    "        'Total funding'\n",
    "    )\n",
    "    .rename({\n",
    "        'IF (£)': 'Investment',\n",
    "    })\n",
    "    .convert('Area', normalise_names)\n",
    "    .replace('Area', 'North Of Tyne', 'North of Tyne')\n",
    ")"
   ]
  },
  {
   "cell_type": "markdown",
   "metadata": {},
   "source": [
    "The funding data is based on the `Area` and `Total funding` columns. It is aggregated by `len` (i.e. count of areas) and `sum` to create the Number and Total columns. An average is then created / rounded."
   ]
  },
  {
   "cell_type": "code",
   "execution_count": null,
   "metadata": {},
   "outputs": [],
   "source": [
    "funding = (\n",
    "    report\n",
    "    .cut('Area', 'Total funding')\n",
    "    .replace('Total funding', None, 0)\n",
    "    .aggregate('Area',\n",
    "        {\n",
    "            'Number': len,\n",
    "            'Total': ('Total funding', sum),\n",
    "        }\n",
    "    )\n",
    "    .addfield('Average', lambda r: r.Total / r.Number)\n",
    "    .convert('Average', round)\n",
    ")\n",
    "\n",
    "funding.displayall()\n",
    "funding.tocsv(OUT_DIR / 'funding_by_area.csv')"
   ]
  },
  {
   "cell_type": "markdown",
   "metadata": {},
   "source": [
    "Then we convert this to a Pandas Data Frame for plotting."
   ]
  },
  {
   "cell_type": "code",
   "execution_count": null,
   "metadata": {},
   "outputs": [],
   "source": [
    "df = funding.todataframe().set_index('Area')"
   ]
  },
  {
   "cell_type": "code",
   "execution_count": null,
   "metadata": {},
   "outputs": [],
   "source": [
    "ax = df.Total.div(1e6).plot.barh(\n",
    "    title=\"NECA Overall Funding\",\n",
    "    xlabel=\"Total project funding £M\"\n",
    ")"
   ]
  },
  {
   "cell_type": "code",
   "execution_count": null,
   "metadata": {},
   "outputs": [],
   "source": [
    "ax = df.Number.plot.barh(\n",
    "    title=\"NECA funding project count\",\n",
    "    xlabel=\"Number of projects funded\"\n",
    ")"
   ]
  },
  {
   "cell_type": "code",
   "execution_count": null,
   "metadata": {},
   "outputs": [],
   "source": [
    "ax = df.Average.div(1e3).plot.barh(\n",
    "    title=\"NECA average grant size\",\n",
    "    xlabel=\"Average funding £000s\",\n",
    ")"
   ]
  }
 ],
 "metadata": {
  "kernelspec": {
   "display_name": "northumbria-culture-connect-dQ7VTDtt",
   "language": "python",
   "name": "python3"
  },
  "language_info": {
   "codemirror_mode": {
    "name": "ipython",
    "version": 3
   },
   "file_extension": ".py",
   "mimetype": "text/x-python",
   "name": "python",
   "nbconvert_exporter": "python",
   "pygments_lexer": "ipython3",
   "version": "3.12.3"
  }
 },
 "nbformat": 4,
 "nbformat_minor": 2
}
