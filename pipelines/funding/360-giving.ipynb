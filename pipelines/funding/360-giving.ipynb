{
 "cells": [
  {
   "cell_type": "code",
   "execution_count": 30,
   "metadata": {},
   "outputs": [],
   "source": [
    "import petl as etl\n",
    "from pipeline_utils.datestamp import save_datestamp\n",
    "from pipeline_utils.filesystem.paths import DATA, RAW_DATA, REF_DATA, SITE\n",
    "from pipeline_utils.reference.onspd.functions import normalise_postcode"
   ]
  },
  {
   "cell_type": "markdown",
   "metadata": {},
   "source": [
    "Setup the output directory"
   ]
  },
  {
   "cell_type": "code",
   "execution_count": 31,
   "metadata": {},
   "outputs": [],
   "source": [
    "OUT = SITE / 'data/360-giving/_data/'\n",
    "OUT.mkdir(exist_ok=True, parents=True)"
   ]
  },
  {
   "cell_type": "markdown",
   "metadata": {},
   "source": [
    "## Load reference tables"
   ]
  },
  {
   "cell_type": "markdown",
   "metadata": {},
   "source": [
    "ONS Postcode database"
   ]
  },
  {
   "cell_type": "code",
   "execution_count": 32,
   "metadata": {},
   "outputs": [],
   "source": [
    "onspd = (\n",
    "    etl.fromcsv(DATA / 'reference/onspd_extract.csv')\n",
    ")"
   ]
  },
  {
   "cell_type": "markdown",
   "metadata": {},
   "source": [
    "Load the list of funders"
   ]
  },
  {
   "cell_type": "code",
   "execution_count": 33,
   "metadata": {},
   "outputs": [],
   "source": [
    "funders = (\n",
    "    etl\n",
    "    .fromcsv(SITE / 'data/360-giving/funders.csv')\n",
    "    .convert(['Culture Programme', 'COVID'], bool)\n",
    "    .cache()\n",
    ")"
   ]
  },
  {
   "cell_type": "code",
   "execution_count": 34,
   "metadata": {},
   "outputs": [],
   "source": [
    "recipients = etl.lookupone(\n",
    "    etl\n",
    "    .fromcsv(DATA / 'reference/360-giving/recipients.csv')\n",
    "    .replace('Canonical', '', None).selectnotnone('Canonical'),\n",
    "    'Recipient Org:Name',\n",
    "    'Canonical'\n",
    ")"
   ]
  },
  {
   "cell_type": "markdown",
   "metadata": {},
   "source": [
    "## Load data"
   ]
  },
  {
   "cell_type": "markdown",
   "metadata": {},
   "source": [
    "Load the raw data downloaded from 360 Giving via the `get-data.py` script."
   ]
  },
  {
   "cell_type": "code",
   "execution_count": 35,
   "metadata": {},
   "outputs": [],
   "source": [
    "data=(\n",
    "    etl\n",
    "    .fromcsv(RAW_DATA / '360-giving.csv')\n",
    "    .cut(\n",
    "        'Title',\n",
    "        'Amount Awarded',\n",
    "        'Currency',\n",
    "        'Award Date',\n",
    "\n",
    "        'Recipient Org:Identifier',\n",
    "        'Recipient Org:Name',\n",
    "        'Recipient Org:Charity Number',\n",
    "        'Recipient Org:Company Number',\n",
    "        'Recipient Org:Postal Code',\n",
    "\n",
    "        'Funding Org:Identifier',\n",
    "        'Funding Org:Name',\n",
    "        'Funding Org:Postal Code',\n",
    "\n",
    "        'Grant Programme:Code',\n",
    "        'Grant Programme:Title',\n",
    "\n",
    "        'License',\n",
    "    )\n",
    "    .convert('Award Date', etl.dateparser('%Y-%m-%d'))\n",
    "    .convert('Recipient Org:Postal Code', normalise_postcode)\n",
    "    .convert('Recipient Org:Name', lambda name: recipients.get(name, name))\n",
    "    .convertnumbers()\n",
    "    .leftjoin(onspd, lkey='Recipient Org:Postal Code', rkey='pcds')\n",
    "    .select('oslaua', lambda x: x is None or x == 'E08000021')\n",
    "    .cache()\n",
    ")"
   ]
  },
  {
   "cell_type": "markdown",
   "metadata": {},
   "source": [
    "## Calculate Grants per recipient"
   ]
  },
  {
   "cell_type": "code",
   "execution_count": 36,
   "metadata": {},
   "outputs": [],
   "source": [
    "links = (\n",
    "    data\n",
    "    .cut('Funding Org:Name', 'Grant Programme:Title', 'Recipient Org:Name', 'Recipient Org:Company Number', 'Amount Awarded')\n",
    "    # .convert(('Funding Org:Name', 'Grant Programme:Title', 'Recipient Org:Name'), 'upper')\n",
    "    .rename({\n",
    "        'Funding Org:Name': 'funder',\n",
    "        'Grant Programme:Title': 'grant_programme',\n",
    "        'Recipient Org:Name': 'recipient',\n",
    "        'Recipient Org:Company Number': 'company_number'\n",
    "    })\n",
    ")"
   ]
  },
  {
   "cell_type": "code",
   "execution_count": 37,
   "metadata": {},
   "outputs": [
    {
     "data": {
      "text/html": [
       "<table class='petl'>\n",
       "<thead>\n",
       "<tr>\n",
       "<th>funder</th>\n",
       "<th>grant_programme</th>\n",
       "<th>recipient</th>\n",
       "<th>company_number</th>\n",
       "<th>Amount Awarded</th>\n",
       "</tr>\n",
       "</thead>\n",
       "<tbody>\n",
       "<tr>\n",
       "<td>BBC Children in Need</td>\n",
       "<td>Cost of Living Uplift</td>\n",
       "<td>Smile for Life Children's Charity</td>\n",
       "<td style='text-align: right'>6913129</td>\n",
       "<td style='text-align: right'>500</td>\n",
       "</tr>\n",
       "<tr>\n",
       "<td>BBC Children in Need</td>\n",
       "<td>Partnership Programme</td>\n",
       "<td>D2 Youth Zone Ltd</td>\n",
       "<td></td>\n",
       "<td style='text-align: right'>2500</td>\n",
       "</tr>\n",
       "<tr>\n",
       "<td>BBC Children in Need</td>\n",
       "<td>Main Grants Autumn21</td>\n",
       "<td>Kids Kabin</td>\n",
       "<td></td>\n",
       "<td style='text-align: right'>72831</td>\n",
       "</tr>\n",
       "<tr>\n",
       "<td>BBC Children in Need</td>\n",
       "<td>Main Grants Autumn21</td>\n",
       "<td>Kids Kabin</td>\n",
       "<td></td>\n",
       "<td style='text-align: right'>500</td>\n",
       "</tr>\n",
       "<tr>\n",
       "<td>BBC Children in Need</td>\n",
       "<td>Money Heroes</td>\n",
       "<td>St Martin's Centre Partnership</td>\n",
       "<td style='text-align: right'>5235539</td>\n",
       "<td style='text-align: right'>1000</td>\n",
       "</tr>\n",
       "</tbody>\n",
       "</table>\n",
       "<p><strong>...</strong></p>"
      ],
      "text/plain": [
       "+------------------------+-------------------------+-------------------------------------+----------------+----------------+\n",
       "| funder                 | grant_programme         | recipient                           | company_number | Amount Awarded |\n",
       "+========================+=========================+=====================================+================+================+\n",
       "| 'BBC Children in Need' | 'Cost of Living Uplift' | \"Smile for Life Children's Charity\" |        6913129 |            500 |\n",
       "+------------------------+-------------------------+-------------------------------------+----------------+----------------+\n",
       "| 'BBC Children in Need' | 'Partnership Programme' | 'D2 Youth Zone Ltd'                 | ''             |           2500 |\n",
       "+------------------------+-------------------------+-------------------------------------+----------------+----------------+\n",
       "| 'BBC Children in Need' | 'Main Grants Autumn21'  | 'Kids Kabin'                        | ''             |          72831 |\n",
       "+------------------------+-------------------------+-------------------------------------+----------------+----------------+\n",
       "| 'BBC Children in Need' | 'Main Grants Autumn21'  | 'Kids Kabin'                        | ''             |            500 |\n",
       "+------------------------+-------------------------+-------------------------------------+----------------+----------------+\n",
       "| 'BBC Children in Need' | 'Money Heroes'          | \"St Martin's Centre Partnership\"    |        5235539 |           1000 |\n",
       "+------------------------+-------------------------+-------------------------------------+----------------+----------------+\n",
       "..."
      ]
     },
     "execution_count": 37,
     "metadata": {},
     "output_type": "execute_result"
    }
   ],
   "source": [
    "links"
   ]
  },
  {
   "cell_type": "code",
   "execution_count": 38,
   "metadata": {},
   "outputs": [],
   "source": [
    "(\n",
    "    links\n",
    "    .aggregate(\n",
    "        key=(\"recipient\", \"company_number\"),\n",
    "        aggregation={\n",
    "            \"total_grants\": len,\n",
    "            \"funding\": ('Amount Awarded', sum)\n",
    "        },\n",
    "    )\n",
    "    .sort('total_grants', reverse=True)\n",
    ").tocsv(DATA / 'grants_by_recipient.csv')"
   ]
  },
  {
   "cell_type": "code",
   "execution_count": 39,
   "metadata": {},
   "outputs": [],
   "source": [
    "links.aggregate(\n",
    "    key=(\"funder\", \"grant_programme\"),\n",
    "    aggregation={\n",
    "        \"total_grants\": len,\n",
    "        \"funding\": ('Amount Awarded', sum)\n",
    "    },\n",
    ").sort(('funder', 'grant_programme')).tocsv(DATA / 'grants_by_funder_and_grant_programme.csv')"
   ]
  },
  {
   "cell_type": "markdown",
   "metadata": {},
   "source": [
    "## Calculate fund values"
   ]
  },
  {
   "cell_type": "markdown",
   "metadata": {},
   "source": [
    "Check if there are any new funds"
   ]
  },
  {
   "cell_type": "code",
   "execution_count": 40,
   "metadata": {},
   "outputs": [
    {
     "data": {
      "text/html": [
       "<table class='petl'>\n",
       "<thead>\n",
       "<tr>\n",
       "<th>Funding Org:Name</th>\n",
       "<th>Grant Programme:Title</th>\n",
       "</tr>\n",
       "</thead>\n",
       "<tbody>\n",
       "</tbody>\n",
       "</table>\n"
      ]
     },
     "metadata": {},
     "output_type": "display_data"
    }
   ],
   "source": [
    "new_funds = (\n",
    "    data\n",
    "    .cut('Funding Org:Name', 'Grant Programme:Title')\n",
    "    .distinct()\n",
    "    .antijoin(funders)\n",
    "    .sort(['Funding Org:Name', 'Grant Programme:Title'])\n",
    ")\n",
    "new_funds.displayall()\n",
    "new_funds.tocsv(REF_DATA / '360-giving/new-funders.csv')"
   ]
  },
  {
   "cell_type": "markdown",
   "metadata": {},
   "source": [
    "Check if there are any funds no longer in the list"
   ]
  },
  {
   "cell_type": "code",
   "execution_count": 41,
   "metadata": {},
   "outputs": [
    {
     "data": {
      "text/html": [
       "<table class='petl'>\n",
       "<thead>\n",
       "<tr>\n",
       "<th>Funding Org:Name</th>\n",
       "<th>Grant Programme:Title</th>\n",
       "<th>Culture Programme</th>\n",
       "<th>COVID</th>\n",
       "</tr>\n",
       "</thead>\n",
       "<tbody>\n",
       "</tbody>\n",
       "</table>\n"
      ]
     },
     "metadata": {},
     "output_type": "display_data"
    }
   ],
   "source": [
    "funders.antijoin(data).displayall()"
   ]
  },
  {
   "cell_type": "markdown",
   "metadata": {},
   "source": [
    "Get awards and COVID awards as two tables"
   ]
  },
  {
   "cell_type": "code",
   "execution_count": 42,
   "metadata": {},
   "outputs": [],
   "source": [
    "awards, covid_awards = (\n",
    "    data\n",
    "    .join(funders, ['Funding Org:Name', 'Grant Programme:Title'])\n",
    "    .selecttrue('Culture Programme')\n",
    "    .biselect('COVID', lambda x: x is False)\n",
    ")"
   ]
  },
  {
   "cell_type": "markdown",
   "metadata": {},
   "source": [
    "Aggregate by Funding Organisation and Grant Programme"
   ]
  },
  {
   "cell_type": "code",
   "execution_count": 43,
   "metadata": {},
   "outputs": [],
   "source": [
    "(\n",
    "    awards\n",
    "    .cut('Amount Awarded', 'Funding Org:Name', 'Grant Programme:Title', 'Award Date')\n",
    "    .selectnotnone('Funding Org:Name')\n",
    "    .aggregate(\n",
    "        [   \n",
    "            'Funding Org:Name',\n",
    "            'Grant Programme:Title'\n",
    "        ],\n",
    "        {\n",
    "            'Grants': len,\n",
    "            'Funding': ('Amount Awarded', sum),\n",
    "            'Earliest Award Date': ('Award Date', min),\n",
    "            'Latest Award Date': ('Award Date', max),\n",
    "        }\n",
    "    )\n",
    "    .addfield('Average Grant', lambda r: r.Funding / r.Grants)\n",
    "    .convert(('Funding', 'Average Grant'), round)\n",
    "    .sort('Grants', reverse=True)\n",
    "    .tocsv(OUT / 'by_programme.csv')\n",
    ")"
   ]
  },
  {
   "cell_type": "markdown",
   "metadata": {},
   "source": [
    "Aggregate by award date"
   ]
  },
  {
   "cell_type": "code",
   "execution_count": 44,
   "metadata": {},
   "outputs": [],
   "source": [
    "(\n",
    "    awards\n",
    "    .cut('Award Date', 'Amount Awarded')\n",
    "    .convertnumbers()\n",
    "    .convert('Award Date', lambda d: d.replace(day=1))\n",
    "    .aggregate(\n",
    "        'Award Date',\n",
    "        {\n",
    "            'Number': len,\n",
    "            'Amount Awarded': ('Amount Awarded', sum),\n",
    "        }\n",
    "    )\n",
    "    .convert('Amount Awarded', round)\n",
    ").tocsv(OUT / 'summary_by_month.csv')"
   ]
  },
  {
   "cell_type": "markdown",
   "metadata": {},
   "source": [
    "Aggregate by Recipients"
   ]
  },
  {
   "cell_type": "code",
   "execution_count": 45,
   "metadata": {},
   "outputs": [],
   "source": [
    "(\n",
    "    awards\n",
    "    .cut('Recipient Org:Name', 'Funding Org:Name', 'Grant Programme:Title', 'Amount Awarded')\n",
    "    .aggregate(\n",
    "        'Recipient Org:Name',\n",
    "        {\n",
    "            'Number': len,\n",
    "            'Amount Awarded': ('Amount Awarded', sum),\n",
    "        }\n",
    "    )\n",
    ").tocsv(OUT / 'by_recipient.csv')"
   ]
  },
  {
   "cell_type": "markdown",
   "metadata": {},
   "source": [
    "Save datestamp for processing"
   ]
  },
  {
   "cell_type": "code",
   "execution_count": 46,
   "metadata": {},
   "outputs": [],
   "source": [
    "save_datestamp(OUT / 'metadata/processed.yml')"
   ]
  }
 ],
 "metadata": {
  "kernelspec": {
   "display_name": "northumbria-culture-connect-dQ7VTDtt",
   "language": "python",
   "name": "python3"
  },
  "language_info": {
   "codemirror_mode": {
    "name": "ipython",
    "version": 3
   },
   "file_extension": ".py",
   "mimetype": "text/x-python",
   "name": "python",
   "nbconvert_exporter": "python",
   "pygments_lexer": "ipython3",
   "version": "3.12.3"
  }
 },
 "nbformat": 4,
 "nbformat_minor": 2
}
