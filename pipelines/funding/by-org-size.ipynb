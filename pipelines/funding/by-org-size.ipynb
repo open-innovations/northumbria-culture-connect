{
 "cells": [
  {
   "cell_type": "markdown",
   "metadata": {},
   "source": [
    "# Arts Council Funding by Org Type\n",
    "\n",
    "This script combines funding information from the Arts Council Investment Programme, National Lottery Project Grants and Companies House data to explore the relationship between organisation size and the amount of funding received. \n",
    "\n",
    "Note: As a proxy for organisation size, we have used the accounting category from Companies House. Accounts categories offer an indication of the size and type of organisation. For definitions of account types, <a href=\"https://find-and-update.company-information.service.gov.uk/guides/accounts/chooser\">see the Companies House definitions</a>.  \n",
    "\n"
   ]
  },
  {
   "cell_type": "markdown",
   "metadata": {},
   "source": [
    "Import libraries"
   ]
  },
  {
   "cell_type": "code",
   "execution_count": 151,
   "metadata": {},
   "outputs": [],
   "source": [
    "import petl as etl\n",
    "\n",
    "from pipeline_utils.filesystem.paths import RAW_DATA, DATA, SITE"
   ]
  },
  {
   "cell_type": "code",
   "execution_count": 152,
   "metadata": {},
   "outputs": [],
   "source": [
    "OUT_DIR = SITE / 'insight/funding/_data'\n",
    "OUT_DIR.mkdir(exist_ok=True, parents=True)"
   ]
  },
  {
   "cell_type": "code",
   "execution_count": 153,
   "metadata": {},
   "outputs": [],
   "source": [
    "org_data = (\n",
    "    etl\n",
    "    .fromcsv(DATA / 'culture_landscape.csv')\n",
    "    .select(lambda r: r.funding_geo_code == 'E08000021' or r.oslaua == \"E08000021\")\n",
    "    .cut('organisation', 'accounts_category', 'company_number')\n",
    "    .convert('organisation', 'upper')\n",
    ")"
   ]
  },
  {
   "cell_type": "code",
   "execution_count": 154,
   "metadata": {},
   "outputs": [],
   "source": [
    "corrections = etl.lookupone(\n",
    "    etl.fromcsv(RAW_DATA / 'culture-landscape/2-company-corrections.csv'),\n",
    "    key='organisation', value='match'\n",
    ")"
   ]
  },
  {
   "cell_type": "code",
   "execution_count": 155,
   "metadata": {},
   "outputs": [],
   "source": [
    "grants_data = (\n",
    "    etl\n",
    "    .fromcsv(RAW_DATA / 'arts-council-project-grants.csv')\n",
    "    .convert('Recipient', corrections)\n",
    "    .convertnumbers()\n",
    "    .rename({ 'Recipient': 'recipient', 'Award amount': 'funding' })\n",
    "    .cut('recipient', 'funding')\n",
    ")"
   ]
  },
  {
   "cell_type": "code",
   "execution_count": 156,
   "metadata": {},
   "outputs": [],
   "source": [
    "invest_data = (\n",
    "    etl\n",
    "    .fromcsv(RAW_DATA / 'arts-council-investment-programme.csv')\n",
    "    .selecteq('Local authority', 'Newcastle upon Tyne')\n",
    "    .convert('Applicant Name', corrections)\n",
    "    .convertnumbers()\n",
    "    .rename({ 'Applicant Name': 'recipient', '2023-26 Annual Funding (Offered 4 Nov 2022)': 'funding' })\n",
    "    .cut('recipient', 'funding')\n",
    ")"
   ]
  },
  {
   "cell_type": "code",
   "execution_count": 157,
   "metadata": {},
   "outputs": [],
   "source": [
    "threesixty_data_by_name, threesixty_data_by_number = (\n",
    "    etl\n",
    "    .fromcsv(DATA / 'grants_by_recipient.csv')\n",
    "    .cutout('total_grants')\n",
    "    .convert('funding', float)\n",
    "    .biselect(lambda r: r.company_number == '')\n",
    ")"
   ]
  },
  {
   "cell_type": "markdown",
   "metadata": {},
   "source": [
    "Get funding by name. May want to do some fuzzy matching of names to the targets here."
   ]
  },
  {
   "cell_type": "code",
   "execution_count": 158,
   "metadata": {},
   "outputs": [],
   "source": [
    "funding_by_name = (\n",
    "    etl.cat(\n",
    "        grants_data,\n",
    "        invest_data,\n",
    "        threesixty_data_by_name\n",
    "    )\n",
    "    .convert('recipient', 'upper')\n",
    "    .aggregate('recipient', sum, 'funding', field='funding_by_name')\n",
    ")"
   ]
  },
  {
   "cell_type": "code",
   "execution_count": 159,
   "metadata": {},
   "outputs": [],
   "source": [
    "funding_by_company_number = (\n",
    "    etl.cat(\n",
    "        threesixty_data_by_number\n",
    "    )\n",
    "    .aggregate('company_number', sum, 'funding', field='funding_by_company_number')\n",
    ")"
   ]
  },
  {
   "cell_type": "code",
   "execution_count": 160,
   "metadata": {},
   "outputs": [],
   "source": [
    "total_funding = (\n",
    "    org_data\n",
    "    .leftjoin(funding_by_name, lkey='organisation', rkey='recipient')\n",
    "    .leftjoin(funding_by_company_number, lkey='company_number', rkey='company_number')\n",
    "    .convert(('funding_by_name', 'funding_by_company_number'), float)\n",
    "    .addfield('funding', lambda r: (r.funding_by_name or 0) + (r.funding_by_company_number or 0))\n",
    "    .aggregate('accounts_category', sum, 'funding', field='total_funding')\n",
    "    .sort('total_funding', reverse=True)\n",
    "    .replace('accounts_category', '', 'UNMATCHED')\n",
    ")"
   ]
  },
  {
   "cell_type": "code",
   "execution_count": 161,
   "metadata": {},
   "outputs": [
    {
     "data": {
      "text/html": [
       "<table class='petl'>\n",
       "<thead>\n",
       "<tr>\n",
       "<th>accounts_category</th>\n",
       "<th>total_funding</th>\n",
       "</tr>\n",
       "</thead>\n",
       "<tbody>\n",
       "<tr>\n",
       "<td>UNMATCHED</td>\n",
       "<td style='text-align: right'>50511761.33</td>\n",
       "</tr>\n",
       "<tr>\n",
       "<td>TOTAL EXEMPTION FULL</td>\n",
       "<td style='text-align: right'>9152648.68</td>\n",
       "</tr>\n",
       "<tr>\n",
       "<td>FULL</td>\n",
       "<td style='text-align: right'>7738186.0</td>\n",
       "</tr>\n",
       "<tr>\n",
       "<td>GROUP</td>\n",
       "<td style='text-align: right'>3985198.0</td>\n",
       "</tr>\n",
       "<tr>\n",
       "<td>MICRO ENTITY</td>\n",
       "<td style='text-align: right'>1081987.42</td>\n",
       "</tr>\n",
       "</tbody>\n",
       "</table>\n",
       "<p><strong>...</strong></p>"
      ],
      "text/plain": [
       "+------------------------+---------------+\n",
       "| accounts_category      | total_funding |\n",
       "+========================+===============+\n",
       "| 'UNMATCHED'            |   50511761.33 |\n",
       "+------------------------+---------------+\n",
       "| 'TOTAL EXEMPTION FULL' |    9152648.68 |\n",
       "+------------------------+---------------+\n",
       "| 'FULL'                 |     7738186.0 |\n",
       "+------------------------+---------------+\n",
       "| 'GROUP'                |     3985198.0 |\n",
       "+------------------------+---------------+\n",
       "| 'MICRO ENTITY'         |    1081987.42 |\n",
       "+------------------------+---------------+\n",
       "..."
      ]
     },
     "execution_count": 161,
     "metadata": {},
     "output_type": "execute_result"
    }
   ],
   "source": [
    "total_funding.tocsv(OUT_DIR / 'grant_by_org_size.csv')\n",
    "\n",
    "total_funding"
   ]
  }
 ],
 "metadata": {
  "kernelspec": {
   "display_name": "northumbria-culture-connect-dQ7VTDtt",
   "language": "python",
   "name": "python3"
  },
  "language_info": {
   "codemirror_mode": {
    "name": "ipython",
    "version": 3
   },
   "file_extension": ".py",
   "mimetype": "text/x-python",
   "name": "python",
   "nbconvert_exporter": "python",
   "pygments_lexer": "ipython3",
   "version": "3.12.3"
  }
 },
 "nbformat": 4,
 "nbformat_minor": 2
}
