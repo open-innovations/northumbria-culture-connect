{
 "cells": [
  {
   "cell_type": "markdown",
   "metadata": {},
   "source": [
    "# Dept for Culture, Media & Sport \n",
    "\n",
    "## Participation Survey 2023–24 annual publication"
   ]
  },
  {
   "cell_type": "code",
   "execution_count": null,
   "metadata": {},
   "outputs": [],
   "source": [
    "import pandas as pd\n",
    "import os\n",
    "from pathlib import Path"
   ]
  },
  {
   "cell_type": "code",
   "execution_count": null,
   "metadata": {},
   "outputs": [],
   "source": [
    "DATA_DIR = Path('../../data/dcms/Final_Revised_DCMS_Participation_Survey_annual_23-24_data_tables__February_2025_.ods')\n",
    "OUT_DIR = Path('../../src/data/dcms/participation/_data/')\n",
    "\n",
    "sheet_description_dict = {  \n",
    "    'Table_A3': 'Adults who engaged with arts in person',\n",
    "    'Table_A5': 'Art exhibition',\n",
    "    'Table_A7': 'Theatre, musical, ballet or opera',\n",
    "    'Table_A9': 'Literature and poetry events',\n",
    "    'Table_A11': 'A cinema screening',\n",
    "    'Table_A13': 'A craft exhibition',\n",
    "    'Table_A15': 'A live music event',\n",
    "    'Table_A17': 'An arts festival',\n",
    "    'Table_A19': 'A street art event',\n",
    "    'Table_A21': 'A live dance event',\n",
    "    'Table_A23': 'A fashion show',\n",
    "    'Table_A25': 'A comedy event',\n",
    "    'Table_A27': 'An in-persion e-sports event',\n",
    "    'Table_A29': 'Some other cultural event',\n",
    "    'Table_A31': 'Not attended any events',\n",
    "    'Table_A33': 'Written stories, plays, or poetry',\n",
    "    'Table_A35': 'Read books or graphic novels',\n",
    "    'Table_A37': 'Written or performed music',\n",
    "    'Table_A39': 'Painting, drawing',\n",
    "    'Table_A41': 'Crafts',\n",
    "    'Table_A43': 'Performed a drama / dance routine',\n",
    "    'Table_A45': 'Designed or programmed video games',\n",
    "    'Table_A47': 'Made films or videos',\n",
    "    'Table_A49': 'Photography',\n",
    "    'Table_A51': 'Read news in a printed newspaper',\n",
    "    'Table_A53': 'Other arts or creative activities',\n",
    "    'Table_A55': 'Not participated'\n",
    "}\n",
    "\n",
    "columns_of_interest = [\n",
    "    'Response Breakdown ',\n",
    "    'Percentage of respondents 2023/24',\n",
    "    'Percentage of respondents 2023/24 Lower estimate',\n",
    "    'Percentage of respondents 2023/24 Upper estimate',\n",
    "    '2023/24 No. of respondents',\n",
    "    '2023/24 Base',\n",
    "    'LAD23 code'\n",
    "]\n",
    "\n",
    "engagement = [\n",
    "    'Table_A3',\n",
    "    'Table_A5',\n",
    "    'Table_A7'\n",
    "]\n",
    "\n",
    "attendance = [\n",
    "    'Table_A9',\n",
    "    'Table_A11',\n",
    "    'Table_A13',\n",
    "    'Table_A15',\n",
    "    'Table_A17',\n",
    "    'Table_A19',\n",
    "    'Table_A21',\n",
    "    'Table_A23',\n",
    "    'Table_A25',\n",
    "    'Table_A27',\n",
    "    'Table_A29',\n",
    "    'Table_A31'\n",
    "]\n",
    "\n",
    "participation = [\n",
    "    'Table_A33',\n",
    "    'Table_A35',\n",
    "    'Table_A37',\n",
    "    'Table_A39',\n",
    "    'Table_A41',\n",
    "    'Table_A43',\n",
    "    'Table_A45',\n",
    "    'Table_A47',\n",
    "    'Table_A48',\n",
    "    'Table_A49',\n",
    "    'Table_A51'\n",
    "]"
   ]
  },
  {
   "cell_type": "markdown",
   "metadata": {},
   "source": [
    "### Read the raw data"
   ]
  },
  {
   "cell_type": "code",
   "execution_count": null,
   "metadata": {},
   "outputs": [],
   "source": [
    "data = pd.read_excel(DATA_DIR, engine='odf', sheet_name=None, skiprows=4)"
   ]
  },
  {
   "cell_type": "markdown",
   "metadata": {},
   "source": [
    "### Create headlines"
   ]
  },
  {
   "cell_type": "code",
   "execution_count": null,
   "metadata": {},
   "outputs": [],
   "source": [
    "\n",
    "summaries = data['Table_A1']\n",
    "summaries = (\n",
    "    summaries.drop(columns={\n",
    "    'Percentage of respondents 2023/24 Lower estimate',\n",
    "    'Percentage of respondents 2023/24 Upper estimate',\n",
    "    '2023/24 No. of respondents', \n",
    "    '2023/24 Base',\n",
    "    'Percentage of respondents 2022/23 Lower estimate',\n",
    "    'Percentage of respondents 2022/23 Upper estimate', \n",
    "    '2022/23 No. of respondents', \n",
    "    '2022/23 Base'\n",
    "    })\n",
    ")\n",
    "\n",
    "\n",
    "summaries['Percentage of respondents 2023/24'] = (\n",
    "    pd.to_numeric(summaries['Percentage of respondents 2023/24'], errors='coerce')\n",
    "    .fillna(0)\n",
    "    .round(0)\n",
    "    .astype(int)\n",
    ")\n",
    "summaries['Percentage of respondents 2022/23'] = (\n",
    "    pd.to_numeric(summaries['Percentage of respondents 2022/23'], errors='coerce')\n",
    "    .fillna(0)\n",
    "    .round(0)\n",
    "    .astype(int)\n",
    ")\n",
    "\n",
    "summaries['ID'] = [f'response_{i + 1}' for i in range(len(summaries))]\n",
    "\n",
    "summaries = summaries.set_index('ID')\n",
    "\n",
    "summaries.to_csv(os.path.join(OUT_DIR, 'headlines.csv'))\n",
    "\n"
   ]
  },
  {
   "cell_type": "code",
   "execution_count": null,
   "metadata": {},
   "outputs": [],
   "source": [
    "sheets = [f'Table_A{i}' for i in range(3, 56, 2)]\n",
    "\n",
    "all_filtered_data = []\n",
    "\n",
    "for sheet in sheets:\n",
    "    data = pd.read_excel(DATA_DIR, engine='odf', sheet_name=sheet, skiprows=4)\n",
    "    filtered_data = data[data['LAD23 code'] == 'E08000021']\n",
    "    filtered_data = filtered_data[columns_of_interest]\n",
    "    filtered_data['Sheet Name'] = sheet\n",
    "    filtered_data['Description'] = sheet_description_dict.get(sheet, '')\n",
    "    all_filtered_data.append(filtered_data)\n",
    "    print('sheet number: ' + sheet)\n",
    "\n",
    "final_data = pd.concat(all_filtered_data, ignore_index=True)"
   ]
  },
  {
   "cell_type": "code",
   "execution_count": null,
   "metadata": {},
   "outputs": [],
   "source": [
    "percentage_respondents = final_data.drop(columns={\n",
    "    'Response Breakdown ',\n",
    "    'Percentage of respondents 2023/24 Lower estimate',\n",
    "    'Percentage of respondents 2023/24 Upper estimate', \n",
    "    '2023/24 No. of respondents',\n",
    "    '2023/24 Base',\n",
    "    'LAD23 code'\n",
    "}).set_index('Description')\n",
    "\n",
    "percentage_respondents['Percentage of respondents 2023/24'] = percentage_respondents['Percentage of respondents 2023/24'].astype(float).round(0).astype(int)\n",
    "\n",
    "# total = percentage_respondents.drop(columns={'Sheet Name'}).to_csv(os.path.join(OUT_DIR, 'articipation_survey_23_24_newcastle.csv'))\n",
    "engagement_data = percentage_respondents.loc[percentage_respondents['Sheet Name'].isin(engagement)].drop(columns={'Sheet Name'}).to_csv(os.path.join(OUT_DIR, 'engagement_participation_survey_23_24_newcastle.csv'))\n",
    "attendance_data = percentage_respondents.loc[percentage_respondents['Sheet Name'].isin(attendance)].drop(columns={'Sheet Name'}).to_csv(os.path.join(OUT_DIR, 'attendance_participation_survey_23_24_newcastle.csv'))\n",
    "participation_data = percentage_respondents.loc[percentage_respondents['Sheet Name'].isin(participation)].drop(columns={'Sheet Name'}).to_csv(os.path.join(OUT_DIR, 'participation_survey_23_24_newcastle.csv'))"
   ]
  },
  {
   "cell_type": "code",
   "execution_count": null,
   "metadata": {},
   "outputs": [],
   "source": [
    "percentage_respondents"
   ]
  },
  {
   "cell_type": "code",
   "execution_count": null,
   "metadata": {},
   "outputs": [],
   "source": []
  }
 ],
 "metadata": {
  "kernelspec": {
   "display_name": "northumbria-culture-connect-HfxUZLmD",
   "language": "python",
   "name": "python3"
  },
  "language_info": {
   "codemirror_mode": {
    "name": "ipython",
    "version": 3
   },
   "file_extension": ".py",
   "mimetype": "text/x-python",
   "name": "python",
   "nbconvert_exporter": "python",
   "pygments_lexer": "ipython3",
   "version": "3.12.7"
  }
 },
 "nbformat": 4,
 "nbformat_minor": 2
}
