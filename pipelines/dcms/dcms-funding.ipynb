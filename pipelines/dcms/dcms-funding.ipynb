{
 "cells": [
  {
   "cell_type": "markdown",
   "metadata": {},
   "source": [
    "# Dept for Culture, Media & Sport \n",
    "\n",
    "## Total Income of DCMS-funded cultural organisations 2022/2023"
   ]
  },
  {
   "cell_type": "code",
   "execution_count": 63,
   "metadata": {},
   "outputs": [],
   "source": [
    "import pandas as pd\n",
    "import os\n",
    "from pathlib import Path\n",
    "import numpy as np\n",
    "import re\n",
    "\n",
    "np.set_printoptions(suppress=True)\n",
    "pd.set_option('display.float_format', '{:,.0f}'.format)"
   ]
  },
  {
   "cell_type": "code",
   "execution_count": 64,
   "metadata": {},
   "outputs": [],
   "source": [
    "DATA_DIR = Path('../../data/dcms/Total_income_for_DCMS-funded_cultural_organisations_2022_23_data_tables_Final_SL.ods')\n",
    "OUT_DIR = Path('../../src/data/dcms/funding/_data')"
   ]
  },
  {
   "cell_type": "code",
   "execution_count": 65,
   "metadata": {},
   "outputs": [],
   "source": [
    "def process_sheet(data): \n",
    "    data = data.replace('x', 0).dropna(axis='columns', how='all')\n",
    "    data_latest = data[['Name of organisation', '2022/2023']]\n",
    "\n",
    "    data_latest = (\n",
    "        data_latest.loc[data_latest['2022/2023'] != 0]\n",
    "        .loc[data_latest['Name of organisation'] != 'Grand Total']\n",
    "    )\n",
    "\n",
    "    data_latest['Name of organisation'] = (\n",
    "        data_latest['Name of organisation']\n",
    "        .apply(lambda x: re.sub(r'\\[note \\d+\\]', '', x))\n",
    "    )\n",
    "\n",
    "    data_latest['2022/2023'] = data_latest['2022/2023'].round(0).astype(int)\n",
    "    \n",
    "    return data_latest\n",
    "\n",
    "def clean_orgs(name):\n",
    "    name = re.sub('Of which from:Arts Council England ', '', name)\n",
    "    return re.sub(r'\\[note \\d+\\]', '', name)"
   ]
  },
  {
   "cell_type": "code",
   "execution_count": 66,
   "metadata": {},
   "outputs": [],
   "source": [
    "grant_in_aid = pd.read_excel(DATA_DIR, engine='odf', sheet_name=['3'], skiprows=4)\n",
    "total_income_generated = pd.read_excel(DATA_DIR, engine='odf', sheet_name=['5'], skiprows=5)\n",
    "\n",
    "grant_in_aid = pd.DataFrame(grant_in_aid['3'])\n",
    "total_income_generated = pd.DataFrame(total_income_generated['5'])"
   ]
  },
  {
   "cell_type": "code",
   "execution_count": 79,
   "metadata": {},
   "outputs": [
    {
     "name": "stderr",
     "output_type": "stream",
     "text": [
      "/var/folders/9k/g5s5mvqs2_jb7ftn5m2jyqs00000gn/T/ipykernel_95930/4187259311.py:15: FutureWarning: Downcasting behavior in `replace` is deprecated and will be removed in a future version. To retain the old behavior, explicitly call `result.infer_objects(copy=False)`. To opt-in to the future behavior, set `pd.set_option('future.no_silent_downcasting', True)`\n",
      "  .replace('x', np.nan)\n"
     ]
    }
   ],
   "source": [
    "grant_in_aid = grant_in_aid[['Name of organisation', '2022/2023']]\n",
    "total_income_generated = total_income_generated[['Name of organisation', '2022/2023']]\n",
    "\n",
    "grant_in_aid['Name of organisation'] = grant_in_aid['Name of organisation'].apply(lambda x: clean_orgs(x))\n",
    "total_income_generated['Name of organisation'] = grant_in_aid['Name of organisation'].apply(lambda x: clean_orgs(x))\n",
    "\n",
    "\n",
    "merged = (\n",
    "    total_income_generated.merge(grant_in_aid, how='outer', on='Name of organisation')\n",
    "    .rename(columns={\n",
    "        'Name of organisation': 'organisation',\n",
    "        '2022/2023_x': 'total_income',\n",
    "        '2022/2023_y': 'gift_in_aid'\n",
    "    })\n",
    "    .replace('x', np.nan)\n",
    ")\n",
    "merged = merged.loc[merged['organisation']!='Grand Total']\n",
    "\n",
    "merged = (\n",
    "    merged.loc[merged['organisation']!='Grand Total']\n",
    "    .set_index('organisation')\n",
    "    .dropna(axis='rows', how='all')\n",
    "    .fillna(0).astype(int)\n",
    ")\n",
    "\n",
    "\n",
    "merged = merged.reset_index()\n",
    "\n",
    "ace_funding = merged.loc[\n",
    "    merged['organisation'].isin(['National Portfolio Organisations ', 'Arts Council England'])\n",
    "]\n",
    "\n",
    "ace_funding.to_csv(Path(OUT_DIR / 'ace_funding.csv'), index=False)\n",
    "\n",
    "merged = merged.loc[\n",
    "    ~merged['organisation'].isin(['National Portfolio Organisations ', 'Arts Council England'])\n",
    "]\n",
    "\n",
    "merged.to_csv(Path(OUT_DIR/'income_vs_funding.csv'), index=False)\n"
   ]
  },
  {
   "cell_type": "markdown",
   "metadata": {},
   "source": [
    "### Process Grant-in-Aid figures"
   ]
  },
  {
   "cell_type": "code",
   "execution_count": null,
   "metadata": {},
   "outputs": [
    {
     "name": "stderr",
     "output_type": "stream",
     "text": [
      "/var/folders/9k/g5s5mvqs2_jb7ftn5m2jyqs00000gn/T/ipykernel_84711/2741843527.py:2: FutureWarning: Downcasting behavior in `replace` is deprecated and will be removed in a future version. To retain the old behavior, explicitly call `result.infer_objects(copy=False)`. To opt-in to the future behavior, set `pd.set_option('future.no_silent_downcasting', True)`\n",
      "  data = data.replace('x', 0).dropna(axis='columns', how='all')\n"
     ]
    }
   ],
   "source": [
    "grant_in_aid = process_sheet(grant_in_aid)\n",
    "grant_in_aid['Name of organisation'] = grant_in_aid['Name of organisation'].apply(lambda x: re.sub('Of which from:Arts Council England ', '', x))\n",
    "\n",
    "grant_in_aid.to_csv(Path(OUT_DIR/ 'grant_in_aid_latest.csv'), index=False)\n"
   ]
  },
  {
   "cell_type": "markdown",
   "metadata": {},
   "source": [
    "### Process total income"
   ]
  },
  {
   "cell_type": "code",
   "execution_count": null,
   "metadata": {},
   "outputs": [
    {
     "name": "stderr",
     "output_type": "stream",
     "text": [
      "/var/folders/9k/g5s5mvqs2_jb7ftn5m2jyqs00000gn/T/ipykernel_84711/2741843527.py:2: FutureWarning: Downcasting behavior in `replace` is deprecated and will be removed in a future version. To retain the old behavior, explicitly call `result.infer_objects(copy=False)`. To opt-in to the future behavior, set `pd.set_option('future.no_silent_downcasting', True)`\n",
      "  data = data.replace('x', 0).dropna(axis='columns', how='all')\n"
     ]
    }
   ],
   "source": [
    "total_income_generated = process_sheet(total_income_generated)\n",
    "total_income_generated.to_csv(Path(OUT_DIR / 'total_income_generated_latest.csv'), index=False)"
   ]
  }
 ],
 "metadata": {
  "kernelspec": {
   "display_name": "env",
   "language": "python",
   "name": "python3"
  },
  "language_info": {
   "codemirror_mode": {
    "name": "ipython",
    "version": 3
   },
   "file_extension": ".py",
   "mimetype": "text/x-python",
   "name": "python",
   "nbconvert_exporter": "python",
   "pygments_lexer": "ipython3",
   "version": "3.12.4"
  }
 },
 "nbformat": 4,
 "nbformat_minor": 2
}
