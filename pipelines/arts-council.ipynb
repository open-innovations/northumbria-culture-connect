{
 "cells": [
  {
   "cell_type": "code",
   "execution_count": 15,
   "metadata": {},
   "outputs": [],
   "source": [
    "from collections import OrderedDict\n",
    "from pathlib import Path\n",
    "\n",
    "import petl as etl\n",
    "from pipeline_utils.reference.geo import la_code_lookup, la_names"
   ]
  },
  {
   "cell_type": "markdown",
   "metadata": {},
   "source": [
    "Set up some directories"
   ]
  },
  {
   "cell_type": "code",
   "execution_count": 16,
   "metadata": {},
   "outputs": [],
   "source": [
    "OUTDIR = Path('../src/arts-council/')\n",
    "\n",
    "OUTDIR.mkdir(exist_ok=True, parents=True)"
   ]
  },
  {
   "cell_type": "markdown",
   "metadata": {},
   "source": [
    "Create a date parser"
   ]
  },
  {
   "cell_type": "code",
   "execution_count": 17,
   "metadata": {},
   "outputs": [],
   "source": [
    "date_parser = etl.dateparser('%Y-%m-%d 00:00:00', strict=True)"
   ]
  },
  {
   "cell_type": "markdown",
   "metadata": {},
   "source": [
    "## NPO / IPSO"
   ]
  },
  {
   "cell_type": "code",
   "execution_count": 18,
   "metadata": {},
   "outputs": [],
   "source": [
    "IPDATA = OUTDIR / 'investment-programme/_data'\n",
    "IPDATA.mkdir(exist_ok=True, parents=True)"
   ]
  },
  {
   "cell_type": "code",
   "execution_count": 19,
   "metadata": {},
   "outputs": [],
   "source": [
    "investment_data = (\n",
    "    etl.fromcsv('../raw/arts-council-investment-programme.csv')\n",
    "        .selectin('Local authority', la_names)\n",
    "        .convert('Local authority', lambda n: la_code_lookup[n])\n",
    "        .unpackdict('Local authority')\n",
    "        .cut(\n",
    "            'Applicant Name',\n",
    "            'Type of organisation\\n(NPO/IPSO/Transfer)',\n",
    "            '2023-26 Annual Funding (Offered 4 Nov 2022)',\n",
    "            'Main Discipline',\n",
    "            'LAD24CD',\n",
    "            'LAD24NM',\n",
    "            'Levelling Up For Culture Place',\n",
    "        )\n",
    "        .rename({\n",
    "            'Type of organisation\\n(NPO/IPSO/Transfer)': 'Type',\n",
    "            'Applicant Name': 'Recipient',\n",
    "        })\n",
    "        .convertnumbers()\n",
    "        .aggregate(\n",
    "            (\n",
    "                'Recipient',\n",
    "                'Type',\n",
    "                'LAD24CD',\n",
    "                'Main Discipline',\n",
    "            ),\n",
    "            {\n",
    "                'number': len,\n",
    "                'funding': ('2023-26 Annual Funding (Offered 4 Nov 2022)', sum)\n",
    "            },\n",
    "            field='Grants'\n",
    "        )\n",
    ")"
   ]
  },
  {
   "cell_type": "code",
   "execution_count": 20,
   "metadata": {},
   "outputs": [],
   "source": [
    "investment_data.tocsv(IPDATA / 'funding_by_organisation.csv')"
   ]
  },
  {
   "cell_type": "code",
   "execution_count": 21,
   "metadata": {},
   "outputs": [],
   "source": [
    "investment_data.aggregate(\n",
    "    ('LAD24CD'),\n",
    "    {\n",
    "        'number': ('number', sum),\n",
    "        'funding': ('funding', sum),\n",
    "    }\n",
    ").addfield(\n",
    "    'average_funding', lambda r: r.funding / r.number\n",
    ").convert(\n",
    "    'average_funding', round\n",
    ").tocsv(IPDATA / 'investment_by_lad.csv')"
   ]
  },
  {
   "cell_type": "markdown",
   "metadata": {},
   "source": [
    "## Project Grants data"
   ]
  },
  {
   "cell_type": "code",
   "execution_count": 22,
   "metadata": {},
   "outputs": [],
   "source": [
    "PGDATA = OUTDIR / 'project-grants/_data'\n",
    "PGDATA.mkdir(exist_ok=True, parents=True)"
   ]
  },
  {
   "cell_type": "code",
   "execution_count": 23,
   "metadata": {},
   "outputs": [],
   "source": [
    "grants_data = (\n",
    "    etl.fromcsv('../raw/arts-council-project-grants.csv')\n",
    "        .selectin('Local authority', la_names)\n",
    "        .convert('Local authority', lambda r: la_code_lookup[r] )\n",
    "        .unpackdict('Local authority')\n",
    "        .convert('Award date', date_parser)\n",
    "        .convert('Award amount', float)\n",
    ")"
   ]
  },
  {
   "cell_type": "markdown",
   "metadata": {},
   "source": [
    "Grants by Recipient / Local authority"
   ]
  },
  {
   "cell_type": "code",
   "execution_count": 24,
   "metadata": {},
   "outputs": [],
   "source": [
    "grants_data.aggregate(\n",
    "    aggregation=len,\n",
    "    key=('Recipient', 'LAD24CD'),\n",
    "    field='Grants'\n",
    ").selecteq(\n",
    "    'LAD24CD', 'E08000021'\n",
    ").tocsv(\n",
    "    PGDATA / 'grants_by_recipient.csv'\n",
    ")"
   ]
  },
  {
   "cell_type": "code",
   "execution_count": 25,
   "metadata": {},
   "outputs": [],
   "source": [
    "agg = OrderedDict()\n",
    "agg['value'] = 'Award amount', sum\n",
    "agg['number'] = len\n",
    "\n",
    "grants_model = grants_data.cut(\n",
    "    'Award date', 'LAD24CD', 'Award amount'\n",
    ").addfield(\n",
    "    'Year', lambda x: x['Award date'].year\n",
    ").aggregate(\n",
    "    ('Year', 'LAD24CD'),\n",
    "    agg\n",
    ").addfield(\n",
    "    'Average award', lambda r: r.value / r.number\n",
    ").convert(\n",
    "    'Average award', round\n",
    ")"
   ]
  },
  {
   "cell_type": "code",
   "execution_count": 26,
   "metadata": {},
   "outputs": [],
   "source": [
    "grants_model.pivot(\n",
    "    'Year', 'LAD24CD', 'value', sum\n",
    ").tocsv(\n",
    "    PGDATA / 'grants_value_by_lad_by_year.csv'\n",
    ")"
   ]
  },
  {
   "cell_type": "code",
   "execution_count": 27,
   "metadata": {},
   "outputs": [],
   "source": [
    "grants_model.pivot(\n",
    "    'Year', 'LAD24CD', 'number', sum\n",
    ").tocsv(\n",
    "    PGDATA / 'grants_count_by_lad_by_year.csv'\n",
    ")"
   ]
  },
  {
   "cell_type": "code",
   "execution_count": 28,
   "metadata": {},
   "outputs": [],
   "source": [
    "grants_model.pivot(\n",
    "    'Year', 'LAD24CD', 'Average award', sum\n",
    ").tocsv(\n",
    "    PGDATA / 'grants_average_award_by_lad_by_year.csv'\n",
    ")"
   ]
  }
 ],
 "metadata": {
  "kernelspec": {
   "display_name": "northumbria-culture-connect-dQ7VTDtt",
   "language": "python",
   "name": "python3"
  },
  "language_info": {
   "codemirror_mode": {
    "name": "ipython",
    "version": 3
   },
   "file_extension": ".py",
   "mimetype": "text/x-python",
   "name": "python",
   "nbconvert_exporter": "python",
   "pygments_lexer": "ipython3",
   "version": "3.12.4"
  }
 },
 "nbformat": 4,
 "nbformat_minor": 2
}
