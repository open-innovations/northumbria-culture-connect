{
 "cells": [
  {
   "cell_type": "code",
   "execution_count": 284,
   "metadata": {},
   "outputs": [],
   "source": [
    "from pathlib import Path\n",
    "import petl as etl"
   ]
  },
  {
   "cell_type": "markdown",
   "metadata": {},
   "source": [
    "Set up some directories"
   ]
  },
  {
   "cell_type": "code",
   "execution_count": 285,
   "metadata": {},
   "outputs": [],
   "source": [
    "OUTDIR = Path('../src/arts-council/')\n",
    "\n",
    "OUTDIR.mkdir(exist_ok=True, parents=True)"
   ]
  },
  {
   "cell_type": "markdown",
   "metadata": {},
   "source": [
    "## Project Grants data"
   ]
  },
  {
   "cell_type": "code",
   "execution_count": 286,
   "metadata": {},
   "outputs": [],
   "source": [
    "PGDATA = OUTDIR / 'project-grants/_data'\n",
    "PGDATA.mkdir(exist_ok=True, parents=True)"
   ]
  },
  {
   "cell_type": "code",
   "execution_count": 287,
   "metadata": {},
   "outputs": [],
   "source": [
    "date_parser = etl.dateparser('%Y-%m-%d 00:00:00', strict=True)"
   ]
  },
  {
   "cell_type": "code",
   "execution_count": 288,
   "metadata": {},
   "outputs": [],
   "source": [
    "local_authorities = [\n",
    "    {\n",
    "        'LAD24CD': 'E06000047', 'LAD24NM': 'County Durham'\n",
    "    }, {\n",
    "        'LAD24CD': 'E06000057', 'LAD24NM': 'Northumberland'\n",
    "    }, {\n",
    "        'LAD24CD': 'E08000021', 'LAD24NM': 'Newcastle upon Tyne'\n",
    "    }, {\n",
    "        'LAD24CD': 'E08000022', 'LAD24NM': 'North Tyneside'\n",
    "    }, {\n",
    "        'LAD24CD': 'E08000023', 'LAD24NM': 'South Tyneside'\n",
    "    }, {\n",
    "        'LAD24CD': 'E08000024', 'LAD24NM': 'Sunderland'\n",
    "    }, {\n",
    "        'LAD24CD': 'E08000037', 'LAD24NM': 'Gateshead'\n",
    "    },\n",
    "]"
   ]
  },
  {
   "cell_type": "code",
   "execution_count": 289,
   "metadata": {},
   "outputs": [],
   "source": [
    "code_lookup = etl.lookupone(etl.fromdicts(local_authorities), 'LAD24NM', 'LAD24CD')"
   ]
  },
  {
   "cell_type": "code",
   "execution_count": 290,
   "metadata": {},
   "outputs": [],
   "source": [
    "grants_data = (\n",
    "    etl.fromcsv('../raw/arts-council-project-grants.csv')\n",
    "        .selectin('Local authority', [l['LAD24NM'] for l in local_authorities])\n",
    "        .convert('Award date', date_parser)\n",
    "        .convert('Award amount', float)\n",
    "        .addfield('LAD24CD', lambda r: code_lookup[r['Local authority']] )\n",
    ")"
   ]
  },
  {
   "cell_type": "markdown",
   "metadata": {},
   "source": [
    "Grants by Recipient / Local authority"
   ]
  },
  {
   "cell_type": "code",
   "execution_count": 291,
   "metadata": {},
   "outputs": [],
   "source": [
    "grants_data.aggregate(\n",
    "    aggregation=len,\n",
    "    key=('Recipient', 'LAD24CD'),\n",
    "    field='Grants'\n",
    ").selecteq(\n",
    "    'LAD24CD', 'E08000021'\n",
    ").tocsv(\n",
    "    PGDATA / 'grants_by_recipient.csv'\n",
    ")"
   ]
  },
  {
   "cell_type": "code",
   "execution_count": 294,
   "metadata": {},
   "outputs": [],
   "source": [
    "grants_data.cut(\n",
    "    'Award date', 'Decision quarter', 'LAD24CD', 'Award amount', 'Main discipline'\n",
    ").addfield(\n",
    "    'Year', lambda x: x['Award date'].year\n",
    ").sort(\n",
    "    'Award date'\n",
    ").aggregate(\n",
    "    ('Year', 'LAD24CD'),\n",
    "    sum, 'Award amount',\n",
    ").pivot(\n",
    "    'Year', 'LAD24CD', 'value', sum\n",
    ").tocsv(\n",
    "    PGDATA / 'grants_value_by_lad_by_year.csv'\n",
    ")"
   ]
  },
  {
   "cell_type": "code",
   "execution_count": 295,
   "metadata": {},
   "outputs": [],
   "source": [
    "grants_data.cut(\n",
    "    'Award date', 'Decision quarter', 'LAD24CD', 'Award amount', 'Main discipline'\n",
    ").addfield(\n",
    "    'Year', lambda x: x['Award date'].year\n",
    ").sort(\n",
    "    'Award date'\n",
    ").aggregate(\n",
    "    ('Year', 'LAD24CD'),\n",
    "    len,\n",
    ").pivot(\n",
    "    'Year', 'LAD24CD', 'value', sum\n",
    ").tocsv(\n",
    "    PGDATA / 'grants_count_by_lad_by_year.csv'\n",
    ")"
   ]
  },
  {
   "cell_type": "code",
   "execution_count": 311,
   "metadata": {},
   "outputs": [],
   "source": [
    "from collections import OrderedDict\n",
    "\n",
    "agg = OrderedDict()\n",
    "agg['value'] = 'Award amount', sum\n",
    "agg['number'] = len\n",
    "\n",
    "grants_data.cut(\n",
    "    'Award date', 'Decision quarter', 'LAD24CD', 'Award amount', 'Main discipline'\n",
    ").addfield(\n",
    "    'Year', lambda x: x['Award date'].year\n",
    ").sort(\n",
    "    'Award date'\n",
    ").aggregate(\n",
    "    ('Year', 'LAD24CD'),\n",
    "    agg\n",
    ").addfield(\n",
    "    'Average award', lambda r: r.value / r.number\n",
    ").pivot(\n",
    "    'Year', 'LAD24CD', 'Average award', sum\n",
    ").convertall(\n",
    "    round\n",
    ").tocsv(\n",
    "    PGDATA / 'grants_average_award_by_lad_by_year.csv'\n",
    ")"
   ]
  },
  {
   "cell_type": "code",
   "execution_count": null,
   "metadata": {},
   "outputs": [],
   "source": []
  }
 ],
 "metadata": {
  "kernelspec": {
   "display_name": "northumbria-culture-connect-dQ7VTDtt",
   "language": "python",
   "name": "python3"
  },
  "language_info": {
   "codemirror_mode": {
    "name": "ipython",
    "version": 3
   },
   "file_extension": ".py",
   "mimetype": "text/x-python",
   "name": "python",
   "nbconvert_exporter": "python",
   "pygments_lexer": "ipython3",
   "version": "3.12.4"
  }
 },
 "nbformat": 4,
 "nbformat_minor": 2
}
