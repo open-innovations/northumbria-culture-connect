{
 "cells": [
  {
   "cell_type": "code",
   "execution_count": 1,
   "metadata": {},
   "outputs": [],
   "source": [
    "import petl as etl\n",
    "\n",
    "from pipeline_utils.filesystem.paths import RAW_DATA, REF_DATA"
   ]
  },
  {
   "cell_type": "code",
   "execution_count": 4,
   "metadata": {},
   "outputs": [],
   "source": [
    "postcodes = etl.cat(\n",
    "    etl.fromcsv(etl.ZipSource(RAW_DATA / 'onspd.zip', 'Data/multi_csv/ONSPD_FEB_2025_UK_NE.csv')),\n",
    "    etl.fromcsv(etl.ZipSource(RAW_DATA / 'onspd.zip', 'Data/multi_csv/ONSPD_FEB_2025_UK_DH.csv')),\n",
    "    etl.fromcsv(etl.ZipSource(RAW_DATA / 'onspd.zip', 'Data/multi_csv/ONSPD_FEB_2025_UK_SR.csv')),\n",
    ").selecteq(\n",
    "    'doterm', ''\n",
    ").cut(\n",
    "    *'pcds oslaua lat long oa21 lsoa21 msoa21'.split(' ')\n",
    ")"
   ]
  },
  {
   "cell_type": "code",
   "execution_count": 5,
   "metadata": {},
   "outputs": [],
   "source": [
    "postcodes.tocsv(REF_DATA / 'onspd_extract.csv')"
   ]
  }
 ],
 "metadata": {
  "kernelspec": {
   "display_name": "northumbria-culture-connect-dQ7VTDtt",
   "language": "python",
   "name": "python3"
  },
  "language_info": {
   "codemirror_mode": {
    "name": "ipython",
    "version": 3
   },
   "file_extension": ".py",
   "mimetype": "text/x-python",
   "name": "python",
   "nbconvert_exporter": "python",
   "pygments_lexer": "ipython3",
   "version": "3.12.3"
  }
 },
 "nbformat": 4,
 "nbformat_minor": 2
}
