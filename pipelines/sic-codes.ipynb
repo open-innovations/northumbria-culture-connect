{
 "cells": [
  {
   "cell_type": "code",
   "execution_count": 61,
   "metadata": {},
   "outputs": [],
   "source": [
    "import re\n",
    "\n",
    "import requests\n",
    "import petl as etl\n",
    "from bs4 import BeautifulSoup\n",
    "\n",
    "from pipeline_utils.filesystem.paths import REF_DATA"
   ]
  },
  {
   "cell_type": "code",
   "execution_count": 3,
   "metadata": {},
   "outputs": [],
   "source": [
    "with requests.get('https://resources.companieshouse.gov.uk/sic/') as r:\n",
    "    doc = BeautifulSoup(r.text)"
   ]
  },
  {
   "cell_type": "code",
   "execution_count": 63,
   "metadata": {},
   "outputs": [],
   "source": [
    "sic_ref = etl.fromcolumns(\n",
    "    [\n",
    "        [re.sub(r'\\n', ' - ', r.text.strip()) for r in doc.table.tbody.find_all('tr')]\n",
    "    ],\n",
    "    header=['section']\n",
    ").addfield(\n",
    "    'code', lambda r: r.section\n",
    ").update(\n",
    "    'code', None, where=lambda r: r.code.startswith('S')\n",
    ").update(\n",
    "    'section', None, where=lambda r: r.code is not None\n",
    ").filldown(\n",
    "    'section'\n",
    ").selectnotnone(\n",
    "    'code'\n",
    ").convertall(\n",
    "    lambda c: c.split(' - ')\n",
    ").unpack(\n",
    "    'section', newfields = ['section', 'section_name']\n",
    ").unpack(\n",
    "    'code', newfields = ['code', 'name']\n",
    ").convertall(\n",
    "    lambda v: v.strip()\n",
    ")"
   ]
  },
  {
   "cell_type": "code",
   "execution_count": 65,
   "metadata": {},
   "outputs": [],
   "source": [
    "sic_ref.tocsv(REF_DATA / 'sic-lookup.csv')"
   ]
  },
  {
   "cell_type": "code",
   "execution_count": null,
   "metadata": {},
   "outputs": [],
   "source": []
  }
 ],
 "metadata": {
  "kernelspec": {
   "display_name": "northumbria-culture-connect-dQ7VTDtt",
   "language": "python",
   "name": "python3"
  },
  "language_info": {
   "codemirror_mode": {
    "name": "ipython",
    "version": 3
   },
   "file_extension": ".py",
   "mimetype": "text/x-python",
   "name": "python",
   "nbconvert_exporter": "python",
   "pygments_lexer": "ipython3",
   "version": "3.12.6"
  }
 },
 "nbformat": 4,
 "nbformat_minor": 2
}
