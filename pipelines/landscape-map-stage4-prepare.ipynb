{
 "cells": [
  {
   "cell_type": "markdown",
   "metadata": {},
   "source": [
    "# Landscape Map - stage 4 - preparing for the site"
   ]
  },
  {
   "cell_type": "code",
   "execution_count": 6,
   "metadata": {},
   "outputs": [],
   "source": [
    "import petl as etl\n",
    "from pathlib import Path"
   ]
  },
  {
   "cell_type": "markdown",
   "metadata": {},
   "source": [
    "Load the culture landscape data, removing entries that don't have either a latitude set (manual matching) or a match in company data."
   ]
  },
  {
   "cell_type": "code",
   "execution_count": 7,
   "metadata": {},
   "outputs": [],
   "source": [
    "newcastle_orgs = etl.fromcsv(\n",
    "    '../data/culture_landscape.csv'\n",
    ").select(\n",
    "    \"(({funding_geo_code} == 'E08000021' ) or ({oslaua} == 'E08000021')) and (({latitude} != '') or ({company_number} != ''))\"\n",
    ").sort(\n",
    "    'organisation'\n",
    ")"
   ]
  },
  {
   "cell_type": "markdown",
   "metadata": {},
   "source": [
    "Set some output directories"
   ]
  },
  {
   "cell_type": "code",
   "execution_count": 8,
   "metadata": {},
   "outputs": [],
   "source": [
    "LANDSCAPE_DIR = Path('../src/_data/landscape')\n",
    "LANDSCAPE_DIR.mkdir(exist_ok=True, parents=True)\n",
    "MARKER_DIR = Path('../src/_data/markers')\n",
    "MARKER_DIR.mkdir(exist_ok=True, parents=True)"
   ]
  },
  {
   "cell_type": "markdown",
   "metadata": {},
   "source": [
    "Write the landscape file"
   ]
  },
  {
   "cell_type": "code",
   "execution_count": 9,
   "metadata": {},
   "outputs": [],
   "source": [
    "newcastle_orgs.tocsv(LANDSCAPE_DIR / 'newcastle_organisations.csv')"
   ]
  },
  {
   "cell_type": "markdown",
   "metadata": {},
   "source": [
    "...and the markers for the map ()"
   ]
  },
  {
   "cell_type": "code",
   "execution_count": 10,
   "metadata": {},
   "outputs": [],
   "source": [
    "newcastle_orgs.cut(\n",
    "    'organisation', 'latitude', 'longitude'\n",
    ").selectne(\n",
    "    'latitude', ''\n",
    ").addfield(\n",
    "    'tooltip', lambda r: r.organisation\n",
    ").tocsv(\n",
    "    MARKER_DIR / 'newcastle_organisations.csv'\n",
    ")"
   ]
  },
  {
   "cell_type": "code",
   "execution_count": null,
   "metadata": {},
   "outputs": [],
   "source": []
  }
 ],
 "metadata": {
  "kernelspec": {
   "display_name": "northumbria-culture-connect-dQ7VTDtt",
   "language": "python",
   "name": "python3"
  },
  "language_info": {
   "codemirror_mode": {
    "name": "ipython",
    "version": 3
   },
   "file_extension": ".py",
   "mimetype": "text/x-python",
   "name": "python",
   "nbconvert_exporter": "python",
   "pygments_lexer": "ipython3",
   "version": "3.12.6"
  }
 },
 "nbformat": 4,
 "nbformat_minor": 2
}
