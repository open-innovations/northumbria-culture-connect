{
 "cells": [
  {
   "cell_type": "markdown",
   "metadata": {},
   "source": [
    "# NECA Funding Data\n",
    "\n",
    "This workbook aims to explore the data potentially publishable from the NECA investment funding. It is presented in the form of a Jupyter notebook, which could be automated as a processing pipeline."
   ]
  },
  {
   "cell_type": "markdown",
   "metadata": {},
   "source": [
    "## Load Python libraries\n",
    "\n",
    "The major library for data manipulation is PETL. We also require `thefuzz` for some fuzzy matching, and some reference data (Local Authority names)"
   ]
  },
  {
   "cell_type": "code",
   "execution_count": 38,
   "metadata": {},
   "outputs": [],
   "source": [
    "import petl as etl\n",
    "from pipeline_utils.reference.geo import la_names\n",
    "from thefuzz.process import extractOne\n",
    "import matplotlib\n",
    "from pathlib import Path"
   ]
  },
  {
   "cell_type": "code",
   "execution_count": 39,
   "metadata": {},
   "outputs": [],
   "source": [
    "OUT_DIR = Path('../src/data/neca/_data/')"
   ]
  },
  {
   "cell_type": "markdown",
   "metadata": {},
   "source": [
    "## Duplicate the Pivot table\n",
    "\n",
    "Read the outputs from the appropriate sheet of the spreadsheet, and apply numeric conversions."
   ]
  },
  {
   "cell_type": "code",
   "execution_count": 22,
   "metadata": {},
   "outputs": [],
   "source": [
    "outputs = etl.fromxlsx(\n",
    "    '../raw/Culture Projects Outputs.xlsx',\n",
    "    sheet='Culture Projects Outputs'\n",
    ").convertnumbers()"
   ]
  },
  {
   "cell_type": "markdown",
   "metadata": {},
   "source": [
    "Prepare the data by the following method\n",
    "\n",
    "* Filter the __Culture, creative and tourism__ `workstream`, and the __LAST_APPROVED__ `block_status`.\n",
    "* `melt` the data into a long format with a column for `variable` (__forecast__ or __actual__), and a column for `value`.\n",
    "* Drop the rows where value is `None`.\n",
    "\n",
    "The table display is truncated."
   ]
  },
  {
   "cell_type": "code",
   "execution_count": 23,
   "metadata": {},
   "outputs": [
    {
     "data": {
      "text/html": [
       "<table class='petl'>\n",
       "<thead>\n",
       "<tr>\n",
       "<th>category</th>\n",
       "<th>block_status</th>\n",
       "<th>variable</th>\n",
       "<th>value</th>\n",
       "</tr>\n",
       "</thead>\n",
       "<tbody>\n",
       "<tr>\n",
       "<td>Number of cultural / tourism events taking place</td>\n",
       "<td>LAST_APPROVED</td>\n",
       "<td>actual</td>\n",
       "<td style='text-align: right'>1</td>\n",
       "</tr>\n",
       "<tr>\n",
       "<td>Numbers of attendees participating in a cultural tourism event</td>\n",
       "<td>LAST_APPROVED</td>\n",
       "<td>actual</td>\n",
       "<td style='text-align: right'>20000</td>\n",
       "</tr>\n",
       "<tr>\n",
       "<td>Number of enterprises receiving support</td>\n",
       "<td>LAST_APPROVED</td>\n",
       "<td>actual</td>\n",
       "<td style='text-align: right'>5</td>\n",
       "</tr>\n",
       "<tr>\n",
       "<td>Total participants supported</td>\n",
       "<td>LAST_APPROVED</td>\n",
       "<td>actual</td>\n",
       "<td style='text-align: right'>100</td>\n",
       "</tr>\n",
       "<tr>\n",
       "<td>Number of cultural / tourism events taking place</td>\n",
       "<td>LAST_APPROVED</td>\n",
       "<td>forecast</td>\n",
       "<td style='text-align: right'>1</td>\n",
       "</tr>\n",
       "</tbody>\n",
       "</table>\n",
       "<p><strong>...</strong></p>"
      ],
      "text/plain": [
       "+------------------------------------------------------------------+-----------------+------------+-------+\n",
       "| category                                                         | block_status    | variable   | value |\n",
       "+==================================================================+=================+============+=======+\n",
       "| 'Number of cultural / tourism events taking place'               | 'LAST_APPROVED' | 'actual'   |     1 |\n",
       "+------------------------------------------------------------------+-----------------+------------+-------+\n",
       "| 'Numbers of attendees participating in a cultural tourism event' | 'LAST_APPROVED' | 'actual'   | 20000 |\n",
       "+------------------------------------------------------------------+-----------------+------------+-------+\n",
       "| 'Number of enterprises receiving support'                        | 'LAST_APPROVED' | 'actual'   |     5 |\n",
       "+------------------------------------------------------------------+-----------------+------------+-------+\n",
       "| 'Total participants supported'                                   | 'LAST_APPROVED' | 'actual'   |   100 |\n",
       "+------------------------------------------------------------------+-----------------+------------+-------+\n",
       "| 'Number of cultural / tourism events taking place'               | 'LAST_APPROVED' | 'forecast' |     1 |\n",
       "+------------------------------------------------------------------+-----------------+------------+-------+\n",
       "..."
      ]
     },
     "execution_count": 23,
     "metadata": {},
     "output_type": "execute_result"
    }
   ],
   "source": [
    "report_data = outputs.selecteq(\n",
    "    'workstream', 'Culture, creative and tourism'\n",
    ").selecteq(\n",
    "    'block_status', 'LAST_APPROVED'\n",
    ").melt(\n",
    "    key=[\"category\", \"block_status\"],\n",
    "    variables=[\"forecast\", \"actual\"]\n",
    ").selectnotnone(\n",
    "    'value'\n",
    ")\n",
    "\n",
    "report_data"
   ]
  },
  {
   "cell_type": "markdown",
   "metadata": {},
   "source": [
    "Then create a pivot report with a row per category, the columns being the variables, and the cells containing sums of the values.\n",
    "\n",
    "`cut` reorders the columns, and `sort` reorders the rows. Finally, `replaceall` substitutes empty strings for `None`."
   ]
  },
  {
   "cell_type": "code",
   "execution_count": 24,
   "metadata": {},
   "outputs": [
    {
     "data": {
      "text/html": [
       "<table class='petl'>\n",
       "<thead>\n",
       "<tr>\n",
       "<th>category</th>\n",
       "<th>forecast</th>\n",
       "<th>actual</th>\n",
       "</tr>\n",
       "</thead>\n",
       "<tbody>\n",
       "<tr>\n",
       "<td>Creation / safeguarding of space for shared community and business activities </td>\n",
       "<td style='text-align: right'>7</td>\n",
       "<td style='text-align: right'>3</td>\n",
       "</tr>\n",
       "<tr>\n",
       "<td>Direct Jobs Created</td>\n",
       "<td style='text-align: right'>105</td>\n",
       "<td style='text-align: right'>9</td>\n",
       "</tr>\n",
       "<tr>\n",
       "<td>Direct Jobs Safeguarded</td>\n",
       "<td style='text-align: right'>70</td>\n",
       "<td style='text-align: right'>6</td>\n",
       "</tr>\n",
       "<tr>\n",
       "<td>Disabled or deaf participants receiving support or an intervention</td>\n",
       "<td style='text-align: right'>5</td>\n",
       "<td style='text-align: right'>24</td>\n",
       "</tr>\n",
       "<tr>\n",
       "<td>Economically Inactive participants engaged in job-searching upon leaving</td>\n",
       "<td></td>\n",
       "<td style='text-align: right'>9</td>\n",
       "</tr>\n",
       "<tr>\n",
       "<td>Economically inactive participants not in education or training receiving support or an intervention</td>\n",
       "<td></td>\n",
       "<td style='text-align: right'>13</td>\n",
       "</tr>\n",
       "<tr>\n",
       "<td>Employed residents who have progressed in employment</td>\n",
       "<td style='text-align: right'>3</td>\n",
       "<td style='text-align: right'>9</td>\n",
       "</tr>\n",
       "<tr>\n",
       "<td>Employed, including self-employed receiving support or an intervention</td>\n",
       "<td style='text-align: right'>359</td>\n",
       "<td style='text-align: right'>133</td>\n",
       "</tr>\n",
       "<tr>\n",
       "<td>Indirect Jobs Created</td>\n",
       "<td style='text-align: right'>105</td>\n",
       "<td style='text-align: right'>11</td>\n",
       "</tr>\n",
       "<tr>\n",
       "<td>Indirect Jobs Safeguarded</td>\n",
       "<td style='text-align: right'>15</td>\n",
       "<td style='text-align: right'>5</td>\n",
       "</tr>\n",
       "<tr>\n",
       "<td>Number of apprenticeship/ traineeship opportunities achieved</td>\n",
       "<td style='text-align: right'>27</td>\n",
       "<td style='text-align: right'>18</td>\n",
       "</tr>\n",
       "<tr>\n",
       "<td>Number of cultural / tourism events taking place</td>\n",
       "<td style='text-align: right'>249</td>\n",
       "<td style='text-align: right'>135</td>\n",
       "</tr>\n",
       "<tr>\n",
       "<td>Number of enterprises receiving financial support other than grants</td>\n",
       "<td style='text-align: right'>216</td>\n",
       "<td style='text-align: right'>25</td>\n",
       "</tr>\n",
       "<tr>\n",
       "<td>Number of enterprises receiving support</td>\n",
       "<td style='text-align: right'>543</td>\n",
       "<td style='text-align: right'>239</td>\n",
       "</tr>\n",
       "<tr>\n",
       "<td>Number of enterprises supported to introduce new to the market products</td>\n",
       "<td style='text-align: right'>40</td>\n",
       "<td style='text-align: right'>6</td>\n",
       "</tr>\n",
       "<tr>\n",
       "<td>Numbers of attendees participating in a cultural tourism event</td>\n",
       "<td style='text-align: right'>654915</td>\n",
       "<td style='text-align: right'>205450</td>\n",
       "</tr>\n",
       "<tr>\n",
       "<td>Participants (below 25 years of age) who are unemployed or inactive receiving support or an intervention</td>\n",
       "<td></td>\n",
       "<td style='text-align: right'>15</td>\n",
       "</tr>\n",
       "<tr>\n",
       "<td>Participants gaining their first level 2 qualification (excluding functional skills)</td>\n",
       "<td style='text-align: right'>40</td>\n",
       "<td style='text-align: right'>0</td>\n",
       "</tr>\n",
       "<tr>\n",
       "<td>Participants gaining their first level 3 and above qualification</td>\n",
       "<td style='text-align: right'>84</td>\n",
       "<td style='text-align: right'>52</td>\n",
       "</tr>\n",
       "<tr>\n",
       "<td>Participants in education / training upon leaving</td>\n",
       "<td style='text-align: right'>185</td>\n",
       "<td style='text-align: right'>21</td>\n",
       "</tr>\n",
       "<tr>\n",
       "<td>Participants in employment, including self-employment paid at or above the living wage, upon leaving </td>\n",
       "<td style='text-align: right'>5</td>\n",
       "<td style='text-align: right'>27</td>\n",
       "</tr>\n",
       "<tr>\n",
       "<td>Participants in employment, including self-employment, upon leaving</td>\n",
       "<td style='text-align: right'>1185</td>\n",
       "<td style='text-align: right'>588</td>\n",
       "</tr>\n",
       "<tr>\n",
       "<td>Participants over 50 years of age receiving support or an intervention</td>\n",
       "<td style='text-align: right'>90</td>\n",
       "<td style='text-align: right'>102</td>\n",
       "</tr>\n",
       "<tr>\n",
       "<td>Residents supported into volunteering</td>\n",
       "<td style='text-align: right'>536</td>\n",
       "<td style='text-align: right'>272</td>\n",
       "</tr>\n",
       "<tr>\n",
       "<td>The number of enterprises provided with financial support in the form of a non-repayable grant</td>\n",
       "<td style='text-align: right'>87</td>\n",
       "<td style='text-align: right'>42</td>\n",
       "</tr>\n",
       "<tr>\n",
       "<td>Total participants supported</td>\n",
       "<td style='text-align: right'>4786</td>\n",
       "<td style='text-align: right'>38912</td>\n",
       "</tr>\n",
       "<tr>\n",
       "<td>Unemployed (including long term unemployed) participants receiving support or an intervention</td>\n",
       "<td></td>\n",
       "<td style='text-align: right'>12</td>\n",
       "</tr>\n",
       "</tbody>\n",
       "</table>\n"
      ]
     },
     "metadata": {},
     "output_type": "display_data"
    }
   ],
   "source": [
    "report = report_data.pivot(\n",
    "    'category',\n",
    "    'variable',\n",
    "    'value',\n",
    "    sum\n",
    ").cut(\n",
    "    'category', 'forecast', 'actual'\n",
    ").sort(\n",
    "    'category'\n",
    ").replaceall(None, '')\n",
    "report.displayall()"
   ]
  },
  {
   "cell_type": "markdown",
   "metadata": {},
   "source": [
    "## Exploring allocations"
   ]
  },
  {
   "cell_type": "markdown",
   "metadata": {},
   "source": [
    "This is an attempt to replicate some of the visualisations created for Arts Council England data from the base NECA data.\n",
    "\n",
    "https://open-innovations.github.io/northumbria-culture-connect/arts-council/project-grants/\n",
    "\n",
    "First we load the allocations data from the spreadsheet, filtering for rows with a defined Project Number (this removes the summary row, which would otherwise skew the numbers).\n",
    "\n",
    "Note that it is not possible to completely replicate the Project Grants data, as the NECA data does not contain any date information. There is also some work to do to handle the North of Tyne area (i.e. the Combined Authority), which does not factor in the ACE data."
   ]
  },
  {
   "cell_type": "code",
   "execution_count": 25,
   "metadata": {},
   "outputs": [
    {
     "data": {
      "text/html": [
       "<table class='petl'>\n",
       "<thead>\n",
       "<tr>\n",
       "<th>Project Number</th>\n",
       "<th>Themes</th>\n",
       "<th>Workstreams</th>\n",
       "<th>Programme</th>\n",
       "<th>Project</th>\n",
       "<th>Applicant</th>\n",
       "<th>Area</th>\n",
       "<th>Project Officer</th>\n",
       "<th>Status</th>\n",
       "<th>Total cost (£)</th>\n",
       "<th>IF (£)</th>\n",
       "<th>Public Match funding (£) </th>\n",
       "<th>In-kind Match funding (£) </th>\n",
       "</tr>\n",
       "</thead>\n",
       "<tbody>\n",
       "<tr>\n",
       "<td>I0012</td>\n",
       "<td>Place</td>\n",
       "<td>Culture, creative and tourism</td>\n",
       "<td>Tour of Britain Cycle Race 2019</td>\n",
       "<td>Tour of Britain Cycle Race 2019</td>\n",
       "<td>Northumberland County Council</td>\n",
       "<td>North Of Tyne</td>\n",
       "<td>MA</td>\n",
       "<td>Closed</td>\n",
       "<td style='text-align: right'>369037</td>\n",
       "<td style='text-align: right'>354037</td>\n",
       "<td>None</td>\n",
       "<td>None</td>\n",
       "</tr>\n",
       "<tr>\n",
       "<td>I0062</td>\n",
       "<td>Place</td>\n",
       "<td>Culture, creative and tourism</td>\n",
       "<td>Tourism Programme</td>\n",
       "<td>Remaining Tourism Programme</td>\n",
       "<td>NTCA</td>\n",
       "<td>North of Tyne</td>\n",
       "<td>MA</td>\n",
       "<td>Contracted</td>\n",
       "<td style='text-align: right'>1289195</td>\n",
       "<td style='text-align: right'>1189195</td>\n",
       "<td style='text-align: right'>0</td>\n",
       "<td>None</td>\n",
       "</tr>\n",
       "<tr>\n",
       "<td>I0071</td>\n",
       "<td>Place</td>\n",
       "<td>Culture, creative and tourism</td>\n",
       "<td>Destination, Culture, Creative and Tourism </td>\n",
       "<td>Culture and Creative Recovery Fund</td>\n",
       "<td>NTCA</td>\n",
       "<td>North Of Tyne</td>\n",
       "<td>MA</td>\n",
       "<td>Closed</td>\n",
       "<td style='text-align: right'>3893945</td>\n",
       "<td style='text-align: right'>2355632</td>\n",
       "<td>None</td>\n",
       "<td>None</td>\n",
       "</tr>\n",
       "<tr>\n",
       "<td>I0089</td>\n",
       "<td>Place</td>\n",
       "<td>Culture, creative and tourism</td>\n",
       "<td>Tourism Programme</td>\n",
       "<td>Lindisfarne Gospels</td>\n",
       "<td>Newcastle City Council</td>\n",
       "<td>Newcastle</td>\n",
       "<td>MA</td>\n",
       "<td>Closed</td>\n",
       "<td style='text-align: right'>800719</td>\n",
       "<td style='text-align: right'>293824</td>\n",
       "<td style='text-align: right'>506895</td>\n",
       "<td>None</td>\n",
       "</tr>\n",
       "<tr>\n",
       "<td>I0090</td>\n",
       "<td>Place</td>\n",
       "<td>Culture, creative and tourism</td>\n",
       "<td>Tourism Programme</td>\n",
       "<td>Illuminated Sheep</td>\n",
       "<td>Northumberland County Council</td>\n",
       "<td>Northumberland</td>\n",
       "<td>MA</td>\n",
       "<td>Closed</td>\n",
       "<td style='text-align: right'>85000</td>\n",
       "<td style='text-align: right'>60000</td>\n",
       "<td style='text-align: right'>25000</td>\n",
       "<td>None</td>\n",
       "</tr>\n",
       "</tbody>\n",
       "</table>\n",
       "<p><strong>...</strong></p>"
      ],
      "text/plain": [
       "+----------------+---------+---------------------------------+-----------------------------------------------+--------------------------------------+---------------------------------+------------------+-----------------+--------------+----------------+---------+---------------------------+----------------------------+\n",
       "| Project Number | Themes  | Workstreams                     | Programme                                     | Project                              | Applicant                       | Area             | Project Officer | Status       | Total cost (£) | IF (£)  | Public Match funding (£)  | In-kind Match funding (£)  |\n",
       "+================+=========+=================================+===============================================+======================================+=================================+==================+=================+==============+================+=========+===========================+============================+\n",
       "| 'I0012'        | 'Place' | 'Culture, creative and tourism' | 'Tour of Britain Cycle Race 2019'             | 'Tour of Britain Cycle Race 2019'    | 'Northumberland County Council' | 'North Of Tyne'  | 'MA'            | 'Closed'     |         369037 |  354037 | None                      | None                       |\n",
       "+----------------+---------+---------------------------------+-----------------------------------------------+--------------------------------------+---------------------------------+------------------+-----------------+--------------+----------------+---------+---------------------------+----------------------------+\n",
       "| 'I0062'        | 'Place' | 'Culture, creative and tourism' | 'Tourism Programme'                           | 'Remaining Tourism Programme'        | 'NTCA'                          | 'North of Tyne'  | 'MA'            | 'Contracted' |        1289195 | 1189195 |                         0 | None                       |\n",
       "+----------------+---------+---------------------------------+-----------------------------------------------+--------------------------------------+---------------------------------+------------------+-----------------+--------------+----------------+---------+---------------------------+----------------------------+\n",
       "| 'I0071'        | 'Place' | 'Culture, creative and tourism' | 'Destination, Culture, Creative and Tourism ' | 'Culture and Creative Recovery Fund' | 'NTCA'                          | 'North Of Tyne'  | 'MA'            | 'Closed'     |        3893945 | 2355632 | None                      | None                       |\n",
       "+----------------+---------+---------------------------------+-----------------------------------------------+--------------------------------------+---------------------------------+------------------+-----------------+--------------+----------------+---------+---------------------------+----------------------------+\n",
       "| 'I0089'        | 'Place' | 'Culture, creative and tourism' | 'Tourism Programme'                           | 'Lindisfarne Gospels'                | 'Newcastle City Council'        | 'Newcastle'      | 'MA'            | 'Closed'     |         800719 |  293824 |                    506895 | None                       |\n",
       "+----------------+---------+---------------------------------+-----------------------------------------------+--------------------------------------+---------------------------------+------------------+-----------------+--------------+----------------+---------+---------------------------+----------------------------+\n",
       "| 'I0090'        | 'Place' | 'Culture, creative and tourism' | 'Tourism Programme'                           | 'Illuminated Sheep'                  | 'Northumberland County Council' | 'Northumberland' | 'MA'            | 'Closed'     |          85000 |   60000 |                     25000 | None                       |\n",
       "+----------------+---------+---------------------------------+-----------------------------------------------+--------------------------------------+---------------------------------+------------------+-----------------+--------------+----------------+---------+---------------------------+----------------------------+\n",
       "..."
      ]
     },
     "execution_count": 25,
     "metadata": {},
     "output_type": "execute_result"
    }
   ],
   "source": [
    "allocations = etl.fromxlsx(\n",
    "    '../raw/Culture Projects Outputs.xlsx', sheet='Culture allocations'\n",
    ").selectnotnone(\n",
    "    'Project Number'\n",
    ").cache()\n",
    "\n",
    "allocations = allocations.cutout('Private Match funding (£) ')\n",
    "\n",
    "allocations\n",
    "\n"
   ]
  },
  {
   "cell_type": "markdown",
   "metadata": {},
   "source": [
    "The `normalise_names` function attempts to correct the names of the Local Authority to the canonical list we're using. It has to deal with missing area and the North of Type area, which is the whole combined Authority (approximately)."
   ]
  },
  {
   "cell_type": "code",
   "execution_count": 26,
   "metadata": {},
   "outputs": [],
   "source": [
    "def normalise_names(f):\n",
    "    if f == None:\n",
    "        return \"Unknown\"\n",
    "    try:\n",
    "        name = extractOne(f, la_names, score_cutoff=90)[0]\n",
    "    except:\n",
    "        return f\n",
    "    return name"
   ]
  },
  {
   "cell_type": "markdown",
   "metadata": {},
   "source": [
    "Now we prepare the report by cutting the columns we're interested in and renaming them, normalising the area and correcting the name of one of the areas."
   ]
  },
  {
   "cell_type": "code",
   "execution_count": 27,
   "metadata": {},
   "outputs": [],
   "source": [
    "\n",
    "# Create a new Total column, excluding Private Match Funding\n",
    "report = allocations.addfield(\n",
    "    'Total funding', \n",
    "    lambda row: (row['IF (£)'] or 0) + (row['Public Match funding (£) '] or 0) + (row['In-kind Match funding (£) '] or 0)\n",
    ").cut(\n",
    "    'Applicant',\n",
    "    'Area',\n",
    "    'Status',\n",
    "    'IF (£)',\n",
    "    'Public Match funding (£) ', \n",
    "    'In-kind Match funding (£) ',\n",
    "    'Total funding'\n",
    ").rename({\n",
    "    'IF (£)': 'Investment',\n",
    "}).convert(\n",
    "    'Area', normalise_names\n",
    ").replace(\n",
    "    'Area', 'North Of Tyne', 'North of Tyne'\n",
    ")"
   ]
  },
  {
   "cell_type": "markdown",
   "metadata": {},
   "source": [
    "The funding data is based on the `Area` and `Total funding` columns. It is aggregated by `len` (i.e. count of areas) and `sum` to create the Number and Total columns. An average is then created / rounded."
   ]
  },
  {
   "cell_type": "code",
   "execution_count": 29,
   "metadata": {},
   "outputs": [
    {
     "data": {
      "text/html": [
       "<table class='petl'>\n",
       "<thead>\n",
       "<tr>\n",
       "<th>Area</th>\n",
       "<th>Number</th>\n",
       "<th>Total</th>\n",
       "<th>Average</th>\n",
       "</tr>\n",
       "</thead>\n",
       "<tbody>\n",
       "<tr>\n",
       "<td>Newcastle upon Tyne</td>\n",
       "<td style='text-align: right'>7</td>\n",
       "<td style='text-align: right'>4681693</td>\n",
       "<td style='text-align: right'>668813</td>\n",
       "</tr>\n",
       "<tr>\n",
       "<td>North Tyneside</td>\n",
       "<td style='text-align: right'>6</td>\n",
       "<td style='text-align: right'>2403513</td>\n",
       "<td style='text-align: right'>400586</td>\n",
       "</tr>\n",
       "<tr>\n",
       "<td>North of Tyne</td>\n",
       "<td style='text-align: right'>10</td>\n",
       "<td style='text-align: right'>4755364</td>\n",
       "<td style='text-align: right'>475536</td>\n",
       "</tr>\n",
       "<tr>\n",
       "<td>Northumberland</td>\n",
       "<td style='text-align: right'>8</td>\n",
       "<td style='text-align: right'>3006800</td>\n",
       "<td style='text-align: right'>375850</td>\n",
       "</tr>\n",
       "<tr>\n",
       "<td>Unknown</td>\n",
       "<td style='text-align: right'>1</td>\n",
       "<td style='text-align: right'>180000</td>\n",
       "<td style='text-align: right'>180000</td>\n",
       "</tr>\n",
       "</tbody>\n",
       "</table>\n"
      ],
      "text/plain": [
       "+-----------------------+--------+---------+---------+\n",
       "| Area                  | Number | Total   | Average |\n",
       "+=======================+========+=========+=========+\n",
       "| 'Newcastle upon Tyne' |      7 | 4681693 |  668813 |\n",
       "+-----------------------+--------+---------+---------+\n",
       "| 'North Tyneside'      |      6 | 2403513 |  400586 |\n",
       "+-----------------------+--------+---------+---------+\n",
       "| 'North of Tyne'       |     10 | 4755364 |  475536 |\n",
       "+-----------------------+--------+---------+---------+\n",
       "| 'Northumberland'      |      8 | 3006800 |  375850 |\n",
       "+-----------------------+--------+---------+---------+\n",
       "| 'Unknown'             |      1 |  180000 |  180000 |\n",
       "+-----------------------+--------+---------+---------+"
      ]
     },
     "execution_count": 29,
     "metadata": {},
     "output_type": "execute_result"
    }
   ],
   "source": [
    "funding = report.cut(\n",
    "    'Area', 'Total funding'\n",
    ").replace(\n",
    "    'Total funding', None, 0\n",
    ").aggregate(\n",
    "    'Area',\n",
    "    {\n",
    "        'Number': len,\n",
    "        'Total': ('Total funding', sum),\n",
    "    }\n",
    ").addfield(\n",
    "    'Average', lambda r: r.Total / r.Number\n",
    ").convert(\n",
    "    'Average', round\n",
    ")\n",
    "\n",
    "funding"
   ]
  },
  {
   "cell_type": "markdown",
   "metadata": {},
   "source": [
    "Then we convert this to a Pandas Data Frame for plotting."
   ]
  },
  {
   "cell_type": "code",
   "execution_count": 41,
   "metadata": {},
   "outputs": [],
   "source": [
    "df = funding.todataframe().set_index('Area')\n",
    "df.to_csv(Path(OUT_DIR/'funding_by_area.csv'))"
   ]
  },
  {
   "cell_type": "code",
   "execution_count": 35,
   "metadata": {},
   "outputs": [
    {
     "data": {
      "image/png": "[encoded data removed]",
      "text/plain": [
       "<Figure size 640x480 with 1 Axes>"
      ]
     },
     "metadata": {},
     "output_type": "display_data"
    }
   ],
   "source": [
    "ax = df.Total.div(1e6).plot.barh(\n",
    "    title=\"NECA Overall Funding\",\n",
    "    xlabel=\"Total project funding £M\"\n",
    ")"
   ]
  },
  {
   "cell_type": "code",
   "execution_count": 32,
   "metadata": {},
   "outputs": [
    {
     "data": {
      "image/png": "[encoded data removed]",
      "text/plain": [
       "<Figure size 640x480 with 1 Axes>"
      ]
     },
     "metadata": {},
     "output_type": "display_data"
    }
   ],
   "source": [
    "ax = df.Number.plot.barh(\n",
    "    title=\"NECA funding project count\",\n",
    "    xlabel=\"Number of projects funded\"\n",
    ")"
   ]
  },
  {
   "cell_type": "code",
   "execution_count": 33,
   "metadata": {},
   "outputs": [
    {
     "data": {
      "image/png": "[encoded data removed]",
      "text/plain": [
       "<Figure size 640x480 with 1 Axes>"
      ]
     },
     "metadata": {},
     "output_type": "display_data"
    }
   ],
   "source": [
    "ax = df.Average.div(1e3).plot.barh(\n",
    "    title=\"NECA average grant size\",\n",
    "    xlabel=\"Average funding £000s\",\n",
    ")"
   ]
  },
  {
   "cell_type": "markdown",
   "metadata": {},
   "source": [
    "## Duplicate the Pivot table\n",
    "\n",
    "Read the outputs from the appropriate sheet of the spreadsheet, and apply numeric conversions."
   ]
  },
  {
   "cell_type": "code",
   "execution_count": 34,
   "metadata": {},
   "outputs": [],
   "source": [
    "outputs = etl.fromxlsx(\n",
    "    '../raw/Culture Projects Outputs.xlsx',\n",
    "    sheet='Culture Projects Outputs'\n",
    ").convertnumbers()"
   ]
  },
  {
   "cell_type": "code",
   "execution_count": null,
   "metadata": {},
   "outputs": [],
   "source": []
  }
 ],
 "metadata": {
  "kernelspec": {
   "display_name": "env",
   "language": "python",
   "name": "python3"
  },
  "language_info": {
   "codemirror_mode": {
    "name": "ipython",
    "version": 3
   },
   "file_extension": ".py",
   "mimetype": "text/x-python",
   "name": "python",
   "nbconvert_exporter": "python",
   "pygments_lexer": "ipython3",
   "version": "3.12.4"
  }
 },
 "nbformat": 4,
 "nbformat_minor": 2
}
