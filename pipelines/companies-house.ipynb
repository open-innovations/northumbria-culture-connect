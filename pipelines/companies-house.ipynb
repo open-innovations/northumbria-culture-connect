{
 "cells": [
  {
   "cell_type": "markdown",
   "metadata": {},
   "source": [
    "# Companies House cultural data\n",
    "\n",
    "Extracting data for cultural organisations from Companies House data based on SIC code."
   ]
  },
  {
   "cell_type": "markdown",
   "metadata": {},
   "source": [
    "## Setup environment"
   ]
  },
  {
   "cell_type": "code",
   "execution_count": 1,
   "metadata": {},
   "outputs": [],
   "source": [
    "import json\n",
    "\n",
    "import duckdb\n",
    "import pandas as pd\n",
    "import geopandas as gpd\n",
    "from pipeline_utils.filesystem.paths import DATA, RAW_DATA, SITE"
   ]
  },
  {
   "cell_type": "code",
   "execution_count": 2,
   "metadata": {},
   "outputs": [],
   "source": [
    "OUT = SITE / 'data/companies-house/_data/'\n",
    "OUT.mkdir(exist_ok=True, parents=True)"
   ]
  },
  {
   "cell_type": "markdown",
   "metadata": {},
   "source": [
    "## Extract Companies House data\n",
    "\n",
    "Using a  shortlist of SIC codes, extract data from Companies House."
   ]
  },
  {
   "cell_type": "code",
   "execution_count": 3,
   "metadata": {},
   "outputs": [],
   "source": [
    "db = duckdb.connect(RAW_DATA / 'company-data.db', read_only=True)"
   ]
  },
  {
   "cell_type": "markdown",
   "metadata": {},
   "source": [
    "Create temporary tables"
   ]
  },
  {
   "cell_type": "code",
   "execution_count": 4,
   "metadata": {},
   "outputs": [],
   "source": [
    "db.query('''\n",
    "    CREATE TEMP TABLE tSicCodes AS SELECT * FROM read_csv('../raw/sic_codes.csv');\n",
    "''')"
   ]
  },
  {
   "cell_type": "code",
   "execution_count": 5,
   "metadata": {},
   "outputs": [],
   "source": [
    "db.query('''\n",
    "    CREATE TEMP TABLE tPostcodes AS\n",
    "        SELECT pcds AS postcode, lat, long\n",
    "        FROM read_csv('../data/reference/onspd_extract.csv')\n",
    "        WHERE oslaua == 'E08000021';\n",
    "''')"
   ]
  },
  {
   "cell_type": "code",
   "execution_count": 6,
   "metadata": {},
   "outputs": [],
   "source": [
    "db.query('''\n",
    "    CREATE TEMP TABLE tCompanies AS SELECT \n",
    "        CompanyName as registered_name,\n",
    "        CompanyNumber as company_number,\n",
    "        \"RegAddress.PostCode\" as postcode,\n",
    "        [x for x in [\n",
    "            \"SICCode.SicText_1\",\n",
    "            \"SICCode.SicText_2\",\n",
    "            \"SICCode.SicText_3\",\n",
    "            \"SICCode.SicText_4\"\n",
    "        ] if x is not NULL] as sic_code,\n",
    "        lat, long\n",
    "    FROM CompanyData c\n",
    "    JOIN tPostcodes p\n",
    "    ON c.\"RegAddress.PostCode\" == p.postcode;\n",
    "''')"
   ]
  },
  {
   "cell_type": "markdown",
   "metadata": {},
   "source": [
    "Query the shortlist codes"
   ]
  },
  {
   "cell_type": "code",
   "execution_count": 7,
   "metadata": {},
   "outputs": [],
   "source": [
    "shortlist_sic_codes = db.query('''SELECT * FROM tSicCodes;''').df()"
   ]
  },
  {
   "cell_type": "markdown",
   "metadata": {},
   "source": [
    "Query the companies data"
   ]
  },
  {
   "cell_type": "code",
   "execution_count": 8,
   "metadata": {},
   "outputs": [],
   "source": [
    "culture_companies = db.query('''\n",
    "    SELECT DISTINCT c.*\n",
    "        FROM tCompanies c\n",
    "        JOIN tSicCodes s\n",
    "        ON list_contains(c.sic_code, s.sic_code)\n",
    "        ORDER BY c.company_number;\n",
    "''').df()"
   ]
  },
  {
   "cell_type": "code",
   "execution_count": 9,
   "metadata": {},
   "outputs": [],
   "source": [
    "db.close()"
   ]
  },
  {
   "cell_type": "code",
   "execution_count": 10,
   "metadata": {},
   "outputs": [
    {
     "data": {
      "text/html": [
       "<div>\n",
       "<style scoped>\n",
       "    .dataframe tbody tr th:only-of-type {\n",
       "        vertical-align: middle;\n",
       "    }\n",
       "\n",
       "    .dataframe tbody tr th {\n",
       "        vertical-align: top;\n",
       "    }\n",
       "\n",
       "    .dataframe thead th {\n",
       "        text-align: right;\n",
       "    }\n",
       "</style>\n",
       "<table border=\"1\" class=\"dataframe\">\n",
       "  <thead>\n",
       "    <tr style=\"text-align: right;\">\n",
       "      <th></th>\n",
       "      <th>registered_name</th>\n",
       "      <th>company_number</th>\n",
       "      <th>postcode</th>\n",
       "      <th>sic_code</th>\n",
       "      <th>lat</th>\n",
       "      <th>long</th>\n",
       "    </tr>\n",
       "  </thead>\n",
       "  <tbody>\n",
       "    <tr>\n",
       "      <th>0</th>\n",
       "      <td>PEOPLE'S THEATRE ARTS GROUP LIMITED</td>\n",
       "      <td>00242886</td>\n",
       "      <td>NE6 5QF</td>\n",
       "      <td>[90010 - Performing arts, 90030 - Artistic cre...</td>\n",
       "      <td>54.990445</td>\n",
       "      <td>-1.584953</td>\n",
       "    </tr>\n",
       "    <tr>\n",
       "      <th>1</th>\n",
       "      <td>INSTITUTE OF AMATEUR CINEMATOGRAPHERS LIMITED(...</td>\n",
       "      <td>00269085</td>\n",
       "      <td>NE3 2DT</td>\n",
       "      <td>[63990 - Other information service activities ...</td>\n",
       "      <td>55.023848</td>\n",
       "      <td>-1.620913</td>\n",
       "    </tr>\n",
       "    <tr>\n",
       "      <th>2</th>\n",
       "      <td>NEWCASTLE PEOPLE'S THEATRE ARTS TRUST LIMITED</td>\n",
       "      <td>00393739</td>\n",
       "      <td>NE6 5QF</td>\n",
       "      <td>[90040 - Operation of arts facilities]</td>\n",
       "      <td>54.990445</td>\n",
       "      <td>-1.584953</td>\n",
       "    </tr>\n",
       "    <tr>\n",
       "      <th>3</th>\n",
       "      <td>MAWSON &amp; WAREHAM (MUSIC) LIMITED</td>\n",
       "      <td>00957980</td>\n",
       "      <td>NE1 5BP</td>\n",
       "      <td>[58190 - Other publishing activities, 59112 - ...</td>\n",
       "      <td>54.973132</td>\n",
       "      <td>-1.613142</td>\n",
       "    </tr>\n",
       "    <tr>\n",
       "      <th>4</th>\n",
       "      <td>TYNESIDE CINEMA</td>\n",
       "      <td>01113101</td>\n",
       "      <td>NE1 6QG</td>\n",
       "      <td>[59140 - Motion picture projection activities]</td>\n",
       "      <td>54.973801</td>\n",
       "      <td>-1.611761</td>\n",
       "    </tr>\n",
       "    <tr>\n",
       "      <th>...</th>\n",
       "      <td>...</td>\n",
       "      <td>...</td>\n",
       "      <td>...</td>\n",
       "      <td>...</td>\n",
       "      <td>...</td>\n",
       "      <td>...</td>\n",
       "    </tr>\n",
       "    <tr>\n",
       "      <th>432</th>\n",
       "      <td>HARVEY DUCKMAN LTD</td>\n",
       "      <td>15879932</td>\n",
       "      <td>NE1 1JF</td>\n",
       "      <td>[90030 - Artistic creation]</td>\n",
       "      <td>54.969968</td>\n",
       "      <td>-1.613654</td>\n",
       "    </tr>\n",
       "    <tr>\n",
       "      <th>433</th>\n",
       "      <td>BUNNY RWLK LTD</td>\n",
       "      <td>15881018</td>\n",
       "      <td>NE1 5UD</td>\n",
       "      <td>[90010 - Performing arts, 90030 - Artistic cre...</td>\n",
       "      <td>54.971137</td>\n",
       "      <td>-1.618832</td>\n",
       "    </tr>\n",
       "    <tr>\n",
       "      <th>434</th>\n",
       "      <td>AVERIA AGENCY UK LTD</td>\n",
       "      <td>15888622</td>\n",
       "      <td>NE3 1YQ</td>\n",
       "      <td>[63120 - Web portals, 90030 - Artistic creation]</td>\n",
       "      <td>55.002906</td>\n",
       "      <td>-1.608369</td>\n",
       "    </tr>\n",
       "    <tr>\n",
       "      <th>435</th>\n",
       "      <td>GEORDIE VISION LTD</td>\n",
       "      <td>15906324</td>\n",
       "      <td>NE6 2HL</td>\n",
       "      <td>[59112 - Video production activities]</td>\n",
       "      <td>54.970149</td>\n",
       "      <td>-1.581302</td>\n",
       "    </tr>\n",
       "    <tr>\n",
       "      <th>436</th>\n",
       "      <td>PROG ON THE TYNE LIMITED</td>\n",
       "      <td>15918124</td>\n",
       "      <td>NE2 2PQ</td>\n",
       "      <td>[90020 - Support activities to performing arts]</td>\n",
       "      <td>54.990131</td>\n",
       "      <td>-1.601023</td>\n",
       "    </tr>\n",
       "  </tbody>\n",
       "</table>\n",
       "<p>437 rows × 6 columns</p>\n",
       "</div>"
      ],
      "text/plain": [
       "                                       registered_name company_number  \\\n",
       "0                  PEOPLE'S THEATRE ARTS GROUP LIMITED       00242886   \n",
       "1    INSTITUTE OF AMATEUR CINEMATOGRAPHERS LIMITED(...       00269085   \n",
       "2        NEWCASTLE PEOPLE'S THEATRE ARTS TRUST LIMITED       00393739   \n",
       "3                     MAWSON & WAREHAM (MUSIC) LIMITED       00957980   \n",
       "4                                      TYNESIDE CINEMA       01113101   \n",
       "..                                                 ...            ...   \n",
       "432                                 HARVEY DUCKMAN LTD       15879932   \n",
       "433                                     BUNNY RWLK LTD       15881018   \n",
       "434                               AVERIA AGENCY UK LTD       15888622   \n",
       "435                                 GEORDIE VISION LTD       15906324   \n",
       "436                           PROG ON THE TYNE LIMITED       15918124   \n",
       "\n",
       "    postcode                                           sic_code        lat  \\\n",
       "0    NE6 5QF  [90010 - Performing arts, 90030 - Artistic cre...  54.990445   \n",
       "1    NE3 2DT  [63990 - Other information service activities ...  55.023848   \n",
       "2    NE6 5QF             [90040 - Operation of arts facilities]  54.990445   \n",
       "3    NE1 5BP  [58190 - Other publishing activities, 59112 - ...  54.973132   \n",
       "4    NE1 6QG     [59140 - Motion picture projection activities]  54.973801   \n",
       "..       ...                                                ...        ...   \n",
       "432  NE1 1JF                        [90030 - Artistic creation]  54.969968   \n",
       "433  NE1 5UD  [90010 - Performing arts, 90030 - Artistic cre...  54.971137   \n",
       "434  NE3 1YQ   [63120 - Web portals, 90030 - Artistic creation]  55.002906   \n",
       "435  NE6 2HL              [59112 - Video production activities]  54.970149   \n",
       "436  NE2 2PQ    [90020 - Support activities to performing arts]  54.990131   \n",
       "\n",
       "         long  \n",
       "0   -1.584953  \n",
       "1   -1.620913  \n",
       "2   -1.584953  \n",
       "3   -1.613142  \n",
       "4   -1.611761  \n",
       "..        ...  \n",
       "432 -1.613654  \n",
       "433 -1.618832  \n",
       "434 -1.608369  \n",
       "435 -1.581302  \n",
       "436 -1.601023  \n",
       "\n",
       "[437 rows x 6 columns]"
      ]
     },
     "execution_count": 10,
     "metadata": {},
     "output_type": "execute_result"
    }
   ],
   "source": [
    "culture_companies"
   ]
  },
  {
   "cell_type": "code",
   "execution_count": null,
   "metadata": {},
   "outputs": [],
   "source": []
  },
  {
   "cell_type": "markdown",
   "metadata": {},
   "source": [
    "## Save the companies data"
   ]
  },
  {
   "cell_type": "code",
   "execution_count": 11,
   "metadata": {},
   "outputs": [],
   "source": [
    "culture_companies.sort_values('company_number').to_csv(OUT / 'list.csv', index=False)"
   ]
  },
  {
   "cell_type": "code",
   "execution_count": 12,
   "metadata": {},
   "outputs": [
    {
     "name": "stderr",
     "output_type": "stream",
     "text": [
      "/home/giles/.local/share/virtualenvs/northumbria-culture-connect-dQ7VTDtt/lib/python3.12/site-packages/pyogrio/raw.py:698: UserWarning: 'crs' was not provided.  The output dataset will not have projection information defined and may not be usable in other systems.\n",
      "  warnings.warn(\n"
     ]
    }
   ],
   "source": [
    "geo = gpd.GeoDataFrame(culture_companies, geometry=gpd.points_from_xy(culture_companies.long, culture_companies.lat))\n",
    "\n",
    "geo.set_crs(None).to_file(OUT / 'company_locations.geojson')"
   ]
  },
  {
   "cell_type": "markdown",
   "metadata": {},
   "source": [
    "## Process SIC codes"
   ]
  },
  {
   "cell_type": "code",
   "execution_count": 13,
   "metadata": {},
   "outputs": [],
   "source": [
    "all_sic_codes = culture_companies.explode('sic_code').groupby('sic_code').company_number.count().sort_values(ascending=False).reset_index().rename(columns={\n",
    "    'company_number': 'count'\n",
    "})\n",
    "all_sic_codes[all_sic_codes.sic_code.isin(shortlist_sic_codes.sic_code)].to_csv(OUT / 'sic_codes.csv')"
   ]
  },
  {
   "cell_type": "code",
   "execution_count": 14,
   "metadata": {},
   "outputs": [
    {
     "data": {
      "text/html": [
       "<div>\n",
       "<style scoped>\n",
       "    .dataframe tbody tr th:only-of-type {\n",
       "        vertical-align: middle;\n",
       "    }\n",
       "\n",
       "    .dataframe tbody tr th {\n",
       "        vertical-align: top;\n",
       "    }\n",
       "\n",
       "    .dataframe thead th {\n",
       "        text-align: right;\n",
       "    }\n",
       "</style>\n",
       "<table border=\"1\" class=\"dataframe\">\n",
       "  <thead>\n",
       "    <tr style=\"text-align: right;\">\n",
       "      <th></th>\n",
       "      <th>sic_code</th>\n",
       "      <th>count</th>\n",
       "    </tr>\n",
       "  </thead>\n",
       "  <tbody>\n",
       "    <tr>\n",
       "      <th>0</th>\n",
       "      <td>90030 - Artistic creation</td>\n",
       "      <td>123</td>\n",
       "    </tr>\n",
       "    <tr>\n",
       "      <th>1</th>\n",
       "      <td>90010 - Performing arts</td>\n",
       "      <td>93</td>\n",
       "    </tr>\n",
       "    <tr>\n",
       "      <th>2</th>\n",
       "      <td>59112 - Video production activities</td>\n",
       "      <td>72</td>\n",
       "    </tr>\n",
       "    <tr>\n",
       "      <th>3</th>\n",
       "      <td>90020 - Support activities to performing arts</td>\n",
       "      <td>64</td>\n",
       "    </tr>\n",
       "    <tr>\n",
       "      <th>4</th>\n",
       "      <td>59111 - Motion picture production activities</td>\n",
       "      <td>52</td>\n",
       "    </tr>\n",
       "    <tr>\n",
       "      <th>...</th>\n",
       "      <td>...</td>\n",
       "      <td>...</td>\n",
       "    </tr>\n",
       "    <tr>\n",
       "      <th>100</th>\n",
       "      <td>85320 - Technical and vocational secondary edu...</td>\n",
       "      <td>1</td>\n",
       "    </tr>\n",
       "    <tr>\n",
       "      <th>101</th>\n",
       "      <td>85410 - Post-secondary non-tertiary education</td>\n",
       "      <td>1</td>\n",
       "    </tr>\n",
       "    <tr>\n",
       "      <th>102</th>\n",
       "      <td>93130 - Fitness facilities</td>\n",
       "      <td>1</td>\n",
       "    </tr>\n",
       "    <tr>\n",
       "      <th>103</th>\n",
       "      <td>94120 - Activities of professional membership ...</td>\n",
       "      <td>1</td>\n",
       "    </tr>\n",
       "    <tr>\n",
       "      <th>104</th>\n",
       "      <td>98100 - Undifferentiated goods-producing activ...</td>\n",
       "      <td>1</td>\n",
       "    </tr>\n",
       "  </tbody>\n",
       "</table>\n",
       "<p>105 rows × 2 columns</p>\n",
       "</div>"
      ],
      "text/plain": [
       "                                              sic_code  count\n",
       "0                            90030 - Artistic creation    123\n",
       "1                              90010 - Performing arts     93\n",
       "2                  59112 - Video production activities     72\n",
       "3        90020 - Support activities to performing arts     64\n",
       "4         59111 - Motion picture production activities     52\n",
       "..                                                 ...    ...\n",
       "100  85320 - Technical and vocational secondary edu...      1\n",
       "101      85410 - Post-secondary non-tertiary education      1\n",
       "102                         93130 - Fitness facilities      1\n",
       "103  94120 - Activities of professional membership ...      1\n",
       "104  98100 - Undifferentiated goods-producing activ...      1\n",
       "\n",
       "[105 rows x 2 columns]"
      ]
     },
     "execution_count": 14,
     "metadata": {},
     "output_type": "execute_result"
    }
   ],
   "source": [
    "all_sic_codes"
   ]
  },
  {
   "cell_type": "markdown",
   "metadata": {},
   "source": [
    "## Calculate linked SIC codes"
   ]
  },
  {
   "cell_type": "code",
   "execution_count": 15,
   "metadata": {},
   "outputs": [],
   "source": [
    "d = culture_companies.loc[:, ['company_number', 'sic_code']]\n",
    "d['fingerprint'] = d.sic_code.apply(lambda x: '|'.join(sorted(x)))"
   ]
  },
  {
   "cell_type": "code",
   "execution_count": 16,
   "metadata": {},
   "outputs": [],
   "source": [
    "nodes = all_sic_codes.to_dict(orient='records')"
   ]
  },
  {
   "cell_type": "code",
   "execution_count": 17,
   "metadata": {},
   "outputs": [],
   "source": [
    "sources = [n['sic_code'] for n in nodes]"
   ]
  },
  {
   "cell_type": "code",
   "execution_count": 18,
   "metadata": {},
   "outputs": [],
   "source": [
    "network = culture_companies.loc[:, ['sic_code', 'company_number']]\n",
    "\n",
    "def count_others(v):\n",
    "    edges = (\n",
    "        network[network.sic_code.apply(lambda x: v in x)]\n",
    "        .explode('sic_code')\n",
    "        .groupby('sic_code')\n",
    "        .company_number.count()\n",
    "        .reset_index()\n",
    "        .rename(columns={'company_number': 'weight', 'sic_code': 'dst'})\\\n",
    "    )\n",
    "    edges['src'] = v\n",
    "\n",
    "    return edges.loc[(edges.src != edges.dst), ['src', 'dst', 'weight']].sort_values('weight', ascending=False)\n",
    "\n",
    "directed_pairs = pd.concat([count_others(s) for s in sources]).reset_index(drop=True)"
   ]
  },
  {
   "cell_type": "markdown",
   "metadata": {},
   "source": [
    "Edges will contain "
   ]
  },
  {
   "cell_type": "code",
   "execution_count": 19,
   "metadata": {},
   "outputs": [],
   "source": [
    "pairs = pd.DataFrame(\n",
    "    directed_pairs[['src', 'dst']]\n",
    "        .stack()\n",
    "        .reset_index(level=1, drop=True)\n",
    "        .pipe(lambda e: e.groupby(e.index).apply(lambda x: sorted(list(x))))\n",
    "        .pipe(lambda e: e[e.duplicated()])\n",
    "        .reset_index(drop=True)\n",
    "        .tolist(),\n",
    "    columns=['src', 'dst']\n",
    ")\n",
    "\n",
    "edges = pairs.merge(directed_pairs).sort_values('weight', ascending=False).to_dict(orient='records')"
   ]
  },
  {
   "cell_type": "code",
   "execution_count": 20,
   "metadata": {},
   "outputs": [
    {
     "data": {
      "text/html": [
       "<div>\n",
       "<style scoped>\n",
       "    .dataframe tbody tr th:only-of-type {\n",
       "        vertical-align: middle;\n",
       "    }\n",
       "\n",
       "    .dataframe tbody tr th {\n",
       "        vertical-align: top;\n",
       "    }\n",
       "\n",
       "    .dataframe thead th {\n",
       "        text-align: right;\n",
       "    }\n",
       "</style>\n",
       "<table border=\"1\" class=\"dataframe\">\n",
       "  <thead>\n",
       "    <tr style=\"text-align: right;\">\n",
       "      <th></th>\n",
       "      <th>src</th>\n",
       "      <th>dst</th>\n",
       "      <th>weight</th>\n",
       "    </tr>\n",
       "  </thead>\n",
       "  <tbody>\n",
       "    <tr>\n",
       "      <th>0</th>\n",
       "      <td>90010 - Performing arts</td>\n",
       "      <td>90030 - Artistic creation</td>\n",
       "      <td>15</td>\n",
       "    </tr>\n",
       "    <tr>\n",
       "      <th>1</th>\n",
       "      <td>85520 - Cultural education</td>\n",
       "      <td>85600 - Educational support services</td>\n",
       "      <td>13</td>\n",
       "    </tr>\n",
       "    <tr>\n",
       "      <th>2</th>\n",
       "      <td>85520 - Cultural education</td>\n",
       "      <td>85590 - Other education n.e.c.</td>\n",
       "      <td>12</td>\n",
       "    </tr>\n",
       "    <tr>\n",
       "      <th>3</th>\n",
       "      <td>90010 - Performing arts</td>\n",
       "      <td>90020 - Support activities to performing arts</td>\n",
       "      <td>12</td>\n",
       "    </tr>\n",
       "    <tr>\n",
       "      <th>4</th>\n",
       "      <td>59111 - Motion picture production activities</td>\n",
       "      <td>59112 - Video production activities</td>\n",
       "      <td>11</td>\n",
       "    </tr>\n",
       "    <tr>\n",
       "      <th>...</th>\n",
       "      <td>...</td>\n",
       "      <td>...</td>\n",
       "      <td>...</td>\n",
       "    </tr>\n",
       "    <tr>\n",
       "      <th>309</th>\n",
       "      <td>59113 - Television programme production activi...</td>\n",
       "      <td>74209 - Photographic activities not elsewhere ...</td>\n",
       "      <td>1</td>\n",
       "    </tr>\n",
       "    <tr>\n",
       "      <th>310</th>\n",
       "      <td>62011 - Ready-made interactive leisure and ent...</td>\n",
       "      <td>90030 - Artistic creation</td>\n",
       "      <td>1</td>\n",
       "    </tr>\n",
       "    <tr>\n",
       "      <th>311</th>\n",
       "      <td>59120 - Motion picture, video and television p...</td>\n",
       "      <td>62011 - Ready-made interactive leisure and ent...</td>\n",
       "      <td>1</td>\n",
       "    </tr>\n",
       "    <tr>\n",
       "      <th>312</th>\n",
       "      <td>59112 - Video production activities</td>\n",
       "      <td>62011 - Ready-made interactive leisure and ent...</td>\n",
       "      <td>1</td>\n",
       "    </tr>\n",
       "    <tr>\n",
       "      <th>313</th>\n",
       "      <td>73120 - Media representation services</td>\n",
       "      <td>74100 - specialised design activities</td>\n",
       "      <td>1</td>\n",
       "    </tr>\n",
       "  </tbody>\n",
       "</table>\n",
       "<p>314 rows × 3 columns</p>\n",
       "</div>"
      ],
      "text/plain": [
       "                                                   src  \\\n",
       "0                              90010 - Performing arts   \n",
       "1                           85520 - Cultural education   \n",
       "2                           85520 - Cultural education   \n",
       "3                              90010 - Performing arts   \n",
       "4         59111 - Motion picture production activities   \n",
       "..                                                 ...   \n",
       "309  59113 - Television programme production activi...   \n",
       "310  62011 - Ready-made interactive leisure and ent...   \n",
       "311  59120 - Motion picture, video and television p...   \n",
       "312                59112 - Video production activities   \n",
       "313              73120 - Media representation services   \n",
       "\n",
       "                                                   dst  weight  \n",
       "0                            90030 - Artistic creation      15  \n",
       "1                 85600 - Educational support services      13  \n",
       "2                       85590 - Other education n.e.c.      12  \n",
       "3        90020 - Support activities to performing arts      12  \n",
       "4                  59112 - Video production activities      11  \n",
       "..                                                 ...     ...  \n",
       "309  74209 - Photographic activities not elsewhere ...       1  \n",
       "310                          90030 - Artistic creation       1  \n",
       "311  62011 - Ready-made interactive leisure and ent...       1  \n",
       "312  62011 - Ready-made interactive leisure and ent...       1  \n",
       "313              74100 - specialised design activities       1  \n",
       "\n",
       "[314 rows x 3 columns]"
      ]
     },
     "execution_count": 20,
     "metadata": {},
     "output_type": "execute_result"
    }
   ],
   "source": [
    "pd.DataFrame(edges)"
   ]
  },
  {
   "cell_type": "code",
   "execution_count": 21,
   "metadata": {},
   "outputs": [],
   "source": [
    "with open(OUT / 'graph.json', 'w') as graph:\n",
    "    json.dump({ 'nodes': nodes, 'edges': edges }, fp=graph, indent=2)"
   ]
  },
  {
   "cell_type": "code",
   "execution_count": null,
   "metadata": {},
   "outputs": [],
   "source": []
  }
 ],
 "metadata": {
  "kernelspec": {
   "display_name": "northumbria-culture-connect-dQ7VTDtt",
   "language": "python",
   "name": "python3"
  },
  "language_info": {
   "codemirror_mode": {
    "name": "ipython",
    "version": 3
   },
   "file_extension": ".py",
   "mimetype": "text/x-python",
   "name": "python",
   "nbconvert_exporter": "python",
   "pygments_lexer": "ipython3",
   "version": "3.12.6"
  }
 },
 "nbformat": 4,
 "nbformat_minor": 2
}
