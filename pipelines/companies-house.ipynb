{
 "cells": [
  {
   "cell_type": "markdown",
   "metadata": {},
   "source": [
    "# Companies House cultural data\n",
    "\n",
    "Extracting data for cultural organisations from Companies House data based on SIC code."
   ]
  },
  {
   "cell_type": "markdown",
   "metadata": {},
   "source": [
    "## Setup environment"
   ]
  },
  {
   "cell_type": "code",
   "execution_count": 19,
   "metadata": {},
   "outputs": [],
   "source": [
    "import json\n",
    "\n",
    "import duckdb\n",
    "import pandas as pd\n",
    "import geopandas as gpd\n",
    "from pipeline_utils.filesystem.paths import DATA, RAW_DATA, SITE"
   ]
  },
  {
   "cell_type": "code",
   "execution_count": 20,
   "metadata": {},
   "outputs": [],
   "source": [
    "OUT = SITE / 'data/companies-house/_data/'\n",
    "OUT.mkdir(exist_ok=True, parents=True)"
   ]
  },
  {
   "cell_type": "markdown",
   "metadata": {},
   "source": [
    "## Extract Companies House data\n",
    "\n",
    "Using a  shortlist of SIC codes, extract data from Companies House."
   ]
  },
  {
   "cell_type": "code",
   "execution_count": 21,
   "metadata": {},
   "outputs": [],
   "source": [
    "db = duckdb.connect(RAW_DATA / 'company-data.db', read_only=True)"
   ]
  },
  {
   "cell_type": "markdown",
   "metadata": {},
   "source": [
    "Create temporary tables"
   ]
  },
  {
   "cell_type": "code",
   "execution_count": 22,
   "metadata": {},
   "outputs": [],
   "source": [
    "db.query('''\n",
    "    CREATE TEMP TABLE tSicCodes AS SELECT * FROM read_csv('../raw/sic_codes.csv');\n",
    "''')"
   ]
  },
  {
   "cell_type": "code",
   "execution_count": 23,
   "metadata": {},
   "outputs": [],
   "source": [
    "db.query('''\n",
    "    CREATE TEMP TABLE tPostcodes AS\n",
    "        SELECT pcds AS postcode, lat, long\n",
    "        FROM read_csv('../data/reference/onspd_extract.csv')\n",
    "        WHERE oslaua == 'E08000021';\n",
    "''')"
   ]
  },
  {
   "cell_type": "code",
   "execution_count": 24,
   "metadata": {},
   "outputs": [],
   "source": [
    "db.query('''\n",
    "    CREATE TEMP TABLE tCompanies AS SELECT \n",
    "        CompanyName as registered_name,\n",
    "        CompanyNumber as company_number,\n",
    "        \"RegAddress.PostCode\" as postcode,\n",
    "        [x for x in [\n",
    "            \"SICCode.SicText_1\",\n",
    "            \"SICCode.SicText_2\",\n",
    "            \"SICCode.SicText_3\",\n",
    "            \"SICCode.SicText_4\"\n",
    "        ] if x is not NULL] as sic_code,\n",
    "        lat, long\n",
    "    FROM CompanyData c\n",
    "    JOIN tPostcodes p\n",
    "    ON c.\"RegAddress.PostCode\" == p.postcode;\n",
    "''')"
   ]
  },
  {
   "cell_type": "markdown",
   "metadata": {},
   "source": [
    "Query the shortlist codes"
   ]
  },
  {
   "cell_type": "code",
   "execution_count": 25,
   "metadata": {},
   "outputs": [],
   "source": [
    "shortlist_sic_codes = db.query('''SELECT * FROM tSicCodes;''').df()"
   ]
  },
  {
   "cell_type": "markdown",
   "metadata": {},
   "source": [
    "Query the companies data"
   ]
  },
  {
   "cell_type": "code",
   "execution_count": 26,
   "metadata": {},
   "outputs": [],
   "source": [
    "culture_companies = db.query('''\n",
    "    SELECT DISTINCT c.*\n",
    "        FROM tCompanies c\n",
    "        JOIN tSicCodes s\n",
    "        ON list_contains(c.sic_code, s.sic_code)\n",
    "        ORDER BY c.company_number;\n",
    "''').df()"
   ]
  },
  {
   "cell_type": "code",
   "execution_count": 27,
   "metadata": {},
   "outputs": [],
   "source": [
    "db.close()"
   ]
  },
  {
   "cell_type": "markdown",
   "metadata": {},
   "source": [
    "## Save the companies data"
   ]
  },
  {
   "cell_type": "code",
   "execution_count": 28,
   "metadata": {},
   "outputs": [],
   "source": [
    "culture_companies.sort_values('company_number').to_csv(OUT / 'list.csv', index=False)"
   ]
  },
  {
   "cell_type": "code",
   "execution_count": 41,
   "metadata": {},
   "outputs": [
    {
     "name": "stderr",
     "output_type": "stream",
     "text": [
      "/home/giles/.local/share/virtualenvs/northumbria-culture-connect-dQ7VTDtt/lib/python3.12/site-packages/pyogrio/raw.py:698: UserWarning: 'crs' was not provided.  The output dataset will not have projection information defined and may not be usable in other systems.\n",
      "  warnings.warn(\n"
     ]
    }
   ],
   "source": [
    "geo = gpd.GeoDataFrame(culture_companies, geometry=gpd.points_from_xy(culture_companies.long, culture_companies.lat))\n",
    "\n",
    "geo.set_crs(None).to_file(OUT / 'company_locations.geojson')"
   ]
  },
  {
   "cell_type": "markdown",
   "metadata": {},
   "source": [
    "## Process SIC codes"
   ]
  },
  {
   "cell_type": "code",
   "execution_count": 11,
   "metadata": {},
   "outputs": [],
   "source": [
    "all_sic_codes = culture_companies.explode('sic_code').groupby('sic_code').company_number.count().sort_values(ascending=False).reset_index().rename(columns={\n",
    "    'company_number': 'count'\n",
    "})\n",
    "all_sic_codes[all_sic_codes.sic_code.isin(shortlist_sic_codes.sic_code)].to_csv(OUT / 'sic_codes.csv')"
   ]
  },
  {
   "cell_type": "markdown",
   "metadata": {},
   "source": [
    "## Calculate linked SIC codes"
   ]
  },
  {
   "cell_type": "code",
   "execution_count": 12,
   "metadata": {},
   "outputs": [],
   "source": [
    "d = culture_companies.loc[:, ['company_number', 'sic_code']]\n",
    "d['fingerprint'] = d.sic_code.apply(lambda x: '|'.join(sorted(x)))"
   ]
  },
  {
   "cell_type": "code",
   "execution_count": 13,
   "metadata": {},
   "outputs": [],
   "source": [
    "nodes = all_sic_codes.to_dict(orient='records')"
   ]
  },
  {
   "cell_type": "code",
   "execution_count": 193,
   "metadata": {},
   "outputs": [],
   "source": []
  },
  {
   "cell_type": "code",
   "execution_count": 14,
   "metadata": {},
   "outputs": [
    {
     "data": {
      "text/plain": [
       "'[{\"sic_code\": \"90030 - Artistic creation\", \"count\": 123}, {\"sic_code\": \"90010 - Performing arts\", \"count\": 93}, {\"sic_code\": \"93290 - Other amusement and recreation activities n.e.c.\", \"count\": 76}, {\"sic_code\": \"59112 - Video production activities\", \"count\": 72}, {\"sic_code\": \"90020 - Support activities to performing arts\", \"count\": 64}, {\"sic_code\": \"59111 - Motion picture production activities\", \"count\": 52}, {\"sic_code\": \"85520 - Cultural education\", \"count\": 49}, {\"sic_code\": \"90040 - Operation of arts facilities\", \"count\": 29}, {\"sic_code\": \"59200 - Sound recording and music publishing activities\", \"count\": 19}, {\"sic_code\": \"85600 - Educational support services\", \"count\": 15}, {\"sic_code\": \"85590 - Other education n.e.c.\", \"count\": 14}, {\"sic_code\": \"74202 - Other specialist photography\", \"count\": 11}, {\"sic_code\": \"74100 - specialised design activities\", \"count\": 10}, {\"sic_code\": \"59113 - Television programme production activities\", \"count\": 9}, {\"sic_code\": \"91020 - Museums activities\", \"count\": 8}, {\"sic_code\": \"70229 - Management consultancy activities other than financial management\", \"count\": 7}, {\"sic_code\": \"85510 - Sports and recreation education\", \"count\": 7}, {\"sic_code\": \"91011 - Library activities\", \"count\": 6}, {\"sic_code\": \"91012 - Archives activities\", \"count\": 6}, {\"sic_code\": \"91030 - Operation of historical sites and buildings and similar visitor attractions\", \"count\": 5}, {\"sic_code\": \"58110 - Book publishing\", \"count\": 5}, {\"sic_code\": \"96040 - Physical well-being activities\", \"count\": 5}, {\"sic_code\": \"96090 - Other service activities n.e.c.\", \"count\": 5}, {\"sic_code\": \"88990 - Other social work activities without accommodation n.e.c.\", \"count\": 5}, {\"sic_code\": \"70210 - Public relations and communications activities\", \"count\": 4}, {\"sic_code\": \"94910 - Activities of religious organizations\", \"count\": 4}, {\"sic_code\": \"59120 - Motion picture, video and television programme post-production activities\", \"count\": 4}, {\"sic_code\": \"73110 - Advertising agencies\", \"count\": 3}, {\"sic_code\": \"62020 - Information technology consultancy activities\", \"count\": 3}, {\"sic_code\": \"62011 - Ready-made interactive leisure and entertainment software development\", \"count\": 3}, {\"sic_code\": \"62012 - Business and domestic software development\", \"count\": 3}, {\"sic_code\": \"94990 - Activities of other membership organizations n.e.c.\", \"count\": 3}, {\"sic_code\": \"96020 - Hairdressing and other beauty treatment\", \"count\": 3}, {\"sic_code\": \"93110 - Operation of sports facilities\", \"count\": 3}, {\"sic_code\": \"86900 - Other human health activities\", \"count\": 3}, {\"sic_code\": \"62090 - Other information technology service activities\", \"count\": 3}, {\"sic_code\": \"73120 - Media representation services\", \"count\": 3}, {\"sic_code\": \"74209 - Photographic activities not elsewhere classified\", \"count\": 3}, {\"sic_code\": \"58290 - Other software publishing\", \"count\": 3}, {\"sic_code\": \"47781 - Retail sale in commercial art galleries\", \"count\": 3}, {\"sic_code\": \"60100 - Radio broadcasting\", \"count\": 3}, {\"sic_code\": \"56302 - Public houses and bars\", \"count\": 3}, {\"sic_code\": \"47630 - Retail sale of music and video recordings in specialised stores\", \"count\": 2}, {\"sic_code\": \"47990 - Other retail sale not in stores, stalls or markets\", \"count\": 2}, {\"sic_code\": \"46190 - Agents involved in the sale of a variety of goods\", \"count\": 2}, {\"sic_code\": \"20420 - Manufacture of perfumes and toilet preparations\", \"count\": 2}, {\"sic_code\": \"98200 - Undifferentiated service-producing activities of private households for own use\", \"count\": 2}, {\"sic_code\": \"82990 - Other business support service activities n.e.c.\", \"count\": 2}, {\"sic_code\": \"63990 - Other information service activities n.e.c.\", \"count\": 2}, {\"sic_code\": \"63910 - News agency activities\", \"count\": 2}, {\"sic_code\": \"74909 - Other professional, scientific and technical activities n.e.c.\", \"count\": 2}, {\"sic_code\": \"88910 - Child day-care activities\", \"count\": 2}, {\"sic_code\": \"93120 - Activities of sport clubs\", \"count\": 2}, {\"sic_code\": \"93130 - Fitness facilities\", \"count\": 2}, {\"sic_code\": \"47890 - Retail sale via stalls and markets of other goods\", \"count\": 2}, {\"sic_code\": \"59140 - Motion picture projection activities\", \"count\": 2}, {\"sic_code\": \"58190 - Other publishing activities\", \"count\": 2}, {\"sic_code\": \"59132 - Video distribution activities\", \"count\": 2}, {\"sic_code\": \"47760 - Retail sale of flowers, plants, seeds, fertilizers, pet animals and pet food in specialised stores\", \"count\": 1}, {\"sic_code\": \"47650 - Retail sale of games and toys in specialised stores\", \"count\": 1}, {\"sic_code\": \"47789 - Other retail sale of new goods in specialised stores (not commercial art galleries and opticians)\", \"count\": 1}, {\"sic_code\": \"47910 - Retail sale via mail order houses or via Internet\", \"count\": 1}, {\"sic_code\": \"20411 - Manufacture of soap and detergents\", \"count\": 1}, {\"sic_code\": \"18129 - Printing n.e.c.\", \"count\": 1}, {\"sic_code\": \"26511 - Manufacture of electronic measuring, testing etc. equipment, not for industrial process control\", \"count\": 1}, {\"sic_code\": \"23410 - Manufacture of ceramic household and ornamental articles\", \"count\": 1}, {\"sic_code\": \"02100 - Silviculture and other forestry activities\", \"count\": 1}, {\"sic_code\": \"16290 - Manufacture of other products of wood; manufacture of articles of cork, straw and plaiting materials\", \"count\": 1}, {\"sic_code\": \"01300 - Plant propagation\", \"count\": 1}, {\"sic_code\": \"01490 - Raising of other animals\", \"count\": 1}, {\"sic_code\": \"32120 - Manufacture of jewellery and related articles\", \"count\": 1}, {\"sic_code\": \"32990 - Other manufacturing n.e.c.\", \"count\": 1}, {\"sic_code\": \"46160 - Agents involved in the sale of textiles, clothing, fur, footwear and leather goods\", \"count\": 1}, {\"sic_code\": \"46180 - Agents specialized in the sale of other particular products\", \"count\": 1}, {\"sic_code\": \"56101 - Licensed restaurants\", \"count\": 1}, {\"sic_code\": \"56102 - Unlicensed restaurants and cafes\", \"count\": 1}, {\"sic_code\": \"56210 - Event catering activities\", \"count\": 1}, {\"sic_code\": \"56290 - Other food services\", \"count\": 1}, {\"sic_code\": \"60200 - Television programming and broadcasting activities\", \"count\": 1}, {\"sic_code\": \"59131 - Motion picture distribution activities\", \"count\": 1}, {\"sic_code\": \"58142 - Publishing of  consumer and business journals and periodicals\", \"count\": 1}, {\"sic_code\": \"58210 - Publishing of computer games\", \"count\": 1}, {\"sic_code\": \"47190 - Other retail sale in non-specialised stores\", \"count\": 1}, {\"sic_code\": \"46900 - Non-specialised wholesale trade\", \"count\": 1}, {\"sic_code\": \"46431 - Wholesale of audio tapes, records, CDs and video tapes and the equipment on which these are played\", \"count\": 1}, {\"sic_code\": \"46450 - Wholesale of perfume and cosmetics\", \"count\": 1}, {\"sic_code\": \"82302 - Activities of conference organisers\", \"count\": 1}, {\"sic_code\": \"74901 - Environmental consulting activities\", \"count\": 1}, {\"sic_code\": \"63120 - Web portals\", \"count\": 1}, {\"sic_code\": \"68209 - Other letting and operating of own or leased real estate\", \"count\": 1}, {\"sic_code\": \"68100 - Buying and selling of own real estate\", \"count\": 1}, {\"sic_code\": \"71111 - Architectural activities\", \"count\": 1}, {\"sic_code\": \"71112 - Urban planning and landscape architectural activities\", \"count\": 1}, {\"sic_code\": \"71121 - Engineering design activities for industrial process and production\", \"count\": 1}, {\"sic_code\": \"61300 - Satellite telecommunications activities\", \"count\": 1}, {\"sic_code\": \"82301 - Activities of exhibition and fair organisers\", \"count\": 1}, {\"sic_code\": \"79901 - Activities of tourist guides\", \"count\": 1}, {\"sic_code\": \"79120 - Tour operator activities\", \"count\": 1}, {\"sic_code\": \"78200 - Temporary employment agency activities\", \"count\": 1}, {\"sic_code\": \"79110 - Travel agency activities\", \"count\": 1}, {\"sic_code\": \"78109 - Other activities of employment placement agencies\", \"count\": 1}, {\"sic_code\": \"74990 - Non-trading company\", \"count\": 1}, {\"sic_code\": \"74201 - Portrait photographic activities\", \"count\": 1}, {\"sic_code\": \"85320 - Technical and vocational secondary education\", \"count\": 1}, {\"sic_code\": \"85200 - Primary education\", \"count\": 1}, {\"sic_code\": \"86220 - Specialists medical practice activities\", \"count\": 1}, {\"sic_code\": \"85410 - Post-secondary non-tertiary education\", \"count\": 1}, {\"sic_code\": \"93199 - Other sports activities\", \"count\": 1}, {\"sic_code\": \"94120 - Activities of professional membership organizations\", \"count\": 1}, {\"sic_code\": \"98100 - Undifferentiated goods-producing activities of private households for own use\", \"count\": 1}]'"
      ]
     },
     "execution_count": 14,
     "metadata": {},
     "output_type": "execute_result"
    }
   ],
   "source": [
    "json.dumps(nodes)"
   ]
  },
  {
   "cell_type": "code",
   "execution_count": 15,
   "metadata": {},
   "outputs": [
    {
     "data": {
      "text/plain": [
       "fingerprint\n",
       "90030 - Artistic creation                                                                                                                                                                             70\n",
       "93290 - Other amusement and recreation activities n.e.c.                                                                                                                                              60\n",
       "90010 - Performing arts                                                                                                                                                                               59\n",
       "90020 - Support activities to performing arts                                                                                                                                                         35\n",
       "59111 - Motion picture production activities                                                                                                                                                          34\n",
       "                                                                                                                                                                                                      ..\n",
       "90020 - Support activities to performing arts|90040 - Operation of arts facilities|91012 - Archives activities|91030 - Operation of historical sites and buildings and similar visitor attractions     1\n",
       "91011 - Library activities|91030 - Operation of historical sites and buildings and similar visitor attractions|93110 - Operation of sports facilities                                                  1\n",
       "93110 - Operation of sports facilities|93290 - Other amusement and recreation activities n.e.c.                                                                                                        1\n",
       "93199 - Other sports activities|93290 - Other amusement and recreation activities n.e.c.                                                                                                               1\n",
       "93290 - Other amusement and recreation activities n.e.c.|96090 - Other service activities n.e.c.                                                                                                       1\n",
       "Name: count, Length: 163, dtype: int64"
      ]
     },
     "execution_count": 15,
     "metadata": {},
     "output_type": "execute_result"
    }
   ],
   "source": [
    "pd.Series(d.groupby('fingerprint').company_number.count(), name='count').sort_values(ascending=False)"
   ]
  },
  {
   "cell_type": "code",
   "execution_count": 16,
   "metadata": {},
   "outputs": [
    {
     "ename": "TypeError",
     "evalue": "unhashable type: 'numpy.ndarray'",
     "output_type": "error",
     "traceback": [
      "\u001b[0;31m---------------------------------------------------------------------------\u001b[0m",
      "\u001b[0;31mTypeError\u001b[0m                                 Traceback (most recent call last)",
      "File \u001b[0;32m~/.local/share/virtualenvs/northumbria-culture-connect-dQ7VTDtt/lib/python3.12/site-packages/pandas/core/arrays/categorical.py:460\u001b[0m, in \u001b[0;36mCategorical.__init__\u001b[0;34m(self, values, categories, ordered, dtype, fastpath, copy)\u001b[0m\n\u001b[1;32m    459\u001b[0m \u001b[38;5;28;01mtry\u001b[39;00m:\n\u001b[0;32m--> 460\u001b[0m     codes, categories \u001b[38;5;241m=\u001b[39m \u001b[43mfactorize\u001b[49m\u001b[43m(\u001b[49m\u001b[43mvalues\u001b[49m\u001b[43m,\u001b[49m\u001b[43m \u001b[49m\u001b[43msort\u001b[49m\u001b[38;5;241;43m=\u001b[39;49m\u001b[38;5;28;43;01mTrue\u001b[39;49;00m\u001b[43m)\u001b[49m\n\u001b[1;32m    461\u001b[0m \u001b[38;5;28;01mexcept\u001b[39;00m \u001b[38;5;167;01mTypeError\u001b[39;00m \u001b[38;5;28;01mas\u001b[39;00m err:\n",
      "File \u001b[0;32m~/.local/share/virtualenvs/northumbria-culture-connect-dQ7VTDtt/lib/python3.12/site-packages/pandas/core/algorithms.py:795\u001b[0m, in \u001b[0;36mfactorize\u001b[0;34m(values, sort, use_na_sentinel, size_hint)\u001b[0m\n\u001b[1;32m    793\u001b[0m             values \u001b[38;5;241m=\u001b[39m np\u001b[38;5;241m.\u001b[39mwhere(null_mask, na_value, values)\n\u001b[0;32m--> 795\u001b[0m     codes, uniques \u001b[38;5;241m=\u001b[39m \u001b[43mfactorize_array\u001b[49m\u001b[43m(\u001b[49m\n\u001b[1;32m    796\u001b[0m \u001b[43m        \u001b[49m\u001b[43mvalues\u001b[49m\u001b[43m,\u001b[49m\n\u001b[1;32m    797\u001b[0m \u001b[43m        \u001b[49m\u001b[43muse_na_sentinel\u001b[49m\u001b[38;5;241;43m=\u001b[39;49m\u001b[43muse_na_sentinel\u001b[49m\u001b[43m,\u001b[49m\n\u001b[1;32m    798\u001b[0m \u001b[43m        \u001b[49m\u001b[43msize_hint\u001b[49m\u001b[38;5;241;43m=\u001b[39;49m\u001b[43msize_hint\u001b[49m\u001b[43m,\u001b[49m\n\u001b[1;32m    799\u001b[0m \u001b[43m    \u001b[49m\u001b[43m)\u001b[49m\n\u001b[1;32m    801\u001b[0m \u001b[38;5;28;01mif\u001b[39;00m sort \u001b[38;5;129;01mand\u001b[39;00m \u001b[38;5;28mlen\u001b[39m(uniques) \u001b[38;5;241m>\u001b[39m \u001b[38;5;241m0\u001b[39m:\n",
      "File \u001b[0;32m~/.local/share/virtualenvs/northumbria-culture-connect-dQ7VTDtt/lib/python3.12/site-packages/pandas/core/algorithms.py:595\u001b[0m, in \u001b[0;36mfactorize_array\u001b[0;34m(values, use_na_sentinel, size_hint, na_value, mask)\u001b[0m\n\u001b[1;32m    594\u001b[0m table \u001b[38;5;241m=\u001b[39m hash_klass(size_hint \u001b[38;5;129;01mor\u001b[39;00m \u001b[38;5;28mlen\u001b[39m(values))\n\u001b[0;32m--> 595\u001b[0m uniques, codes \u001b[38;5;241m=\u001b[39m \u001b[43mtable\u001b[49m\u001b[38;5;241;43m.\u001b[39;49m\u001b[43mfactorize\u001b[49m\u001b[43m(\u001b[49m\n\u001b[1;32m    596\u001b[0m \u001b[43m    \u001b[49m\u001b[43mvalues\u001b[49m\u001b[43m,\u001b[49m\n\u001b[1;32m    597\u001b[0m \u001b[43m    \u001b[49m\u001b[43mna_sentinel\u001b[49m\u001b[38;5;241;43m=\u001b[39;49m\u001b[38;5;241;43m-\u001b[39;49m\u001b[38;5;241;43m1\u001b[39;49m\u001b[43m,\u001b[49m\n\u001b[1;32m    598\u001b[0m \u001b[43m    \u001b[49m\u001b[43mna_value\u001b[49m\u001b[38;5;241;43m=\u001b[39;49m\u001b[43mna_value\u001b[49m\u001b[43m,\u001b[49m\n\u001b[1;32m    599\u001b[0m \u001b[43m    \u001b[49m\u001b[43mmask\u001b[49m\u001b[38;5;241;43m=\u001b[39;49m\u001b[43mmask\u001b[49m\u001b[43m,\u001b[49m\n\u001b[1;32m    600\u001b[0m \u001b[43m    \u001b[49m\u001b[43mignore_na\u001b[49m\u001b[38;5;241;43m=\u001b[39;49m\u001b[43muse_na_sentinel\u001b[49m\u001b[43m,\u001b[49m\n\u001b[1;32m    601\u001b[0m \u001b[43m\u001b[49m\u001b[43m)\u001b[49m\n\u001b[1;32m    603\u001b[0m \u001b[38;5;66;03m# re-cast e.g. i8->dt64/td64, uint8->bool\u001b[39;00m\n",
      "File \u001b[0;32mpandas/_libs/hashtable_class_helper.pxi:7281\u001b[0m, in \u001b[0;36mpandas._libs.hashtable.PyObjectHashTable.factorize\u001b[0;34m()\u001b[0m\n",
      "File \u001b[0;32mpandas/_libs/hashtable_class_helper.pxi:7195\u001b[0m, in \u001b[0;36mpandas._libs.hashtable.PyObjectHashTable._unique\u001b[0;34m()\u001b[0m\n",
      "\u001b[0;31mTypeError\u001b[0m: unhashable type: 'numpy.ndarray'",
      "\nDuring handling of the above exception, another exception occurred:\n",
      "\u001b[0;31mTypeError\u001b[0m                                 Traceback (most recent call last)",
      "Cell \u001b[0;32mIn[16], line 1\u001b[0m\n\u001b[0;32m----> 1\u001b[0m \u001b[43md\u001b[49m\u001b[38;5;241;43m.\u001b[39;49m\u001b[43mpivot\u001b[49m\u001b[43m(\u001b[49m\u001b[43mindex\u001b[49m\u001b[38;5;241;43m=\u001b[39;49m\u001b[38;5;124;43m\"\u001b[39;49m\u001b[38;5;124;43mcompany_number\u001b[39;49m\u001b[38;5;124;43m\"\u001b[39;49m\u001b[43m,\u001b[49m\u001b[43m \u001b[49m\u001b[43mcolumns\u001b[49m\u001b[38;5;241;43m=\u001b[39;49m\u001b[38;5;124;43m\"\u001b[39;49m\u001b[38;5;124;43msic_code\u001b[39;49m\u001b[38;5;124;43m\"\u001b[39;49m\u001b[43m,\u001b[49m\u001b[43m \u001b[49m\u001b[43mvalues\u001b[49m\u001b[38;5;241;43m=\u001b[39;49m\u001b[38;5;124;43m'\u001b[39;49m\u001b[38;5;124;43mcount\u001b[39;49m\u001b[38;5;124;43m'\u001b[39;49m\u001b[43m)\u001b[49m\n",
      "File \u001b[0;32m~/.local/share/virtualenvs/northumbria-culture-connect-dQ7VTDtt/lib/python3.12/site-packages/pandas/core/frame.py:9339\u001b[0m, in \u001b[0;36mDataFrame.pivot\u001b[0;34m(self, columns, index, values)\u001b[0m\n\u001b[1;32m   9332\u001b[0m \u001b[38;5;129m@Substitution\u001b[39m(\u001b[38;5;124m\"\u001b[39m\u001b[38;5;124m\"\u001b[39m)\n\u001b[1;32m   9333\u001b[0m \u001b[38;5;129m@Appender\u001b[39m(_shared_docs[\u001b[38;5;124m\"\u001b[39m\u001b[38;5;124mpivot\u001b[39m\u001b[38;5;124m\"\u001b[39m])\n\u001b[1;32m   9334\u001b[0m \u001b[38;5;28;01mdef\u001b[39;00m \u001b[38;5;21mpivot\u001b[39m(\n\u001b[1;32m   9335\u001b[0m     \u001b[38;5;28mself\u001b[39m, \u001b[38;5;241m*\u001b[39m, columns, index\u001b[38;5;241m=\u001b[39mlib\u001b[38;5;241m.\u001b[39mno_default, values\u001b[38;5;241m=\u001b[39mlib\u001b[38;5;241m.\u001b[39mno_default\n\u001b[1;32m   9336\u001b[0m ) \u001b[38;5;241m-\u001b[39m\u001b[38;5;241m>\u001b[39m DataFrame:\n\u001b[1;32m   9337\u001b[0m     \u001b[38;5;28;01mfrom\u001b[39;00m \u001b[38;5;21;01mpandas\u001b[39;00m\u001b[38;5;21;01m.\u001b[39;00m\u001b[38;5;21;01mcore\u001b[39;00m\u001b[38;5;21;01m.\u001b[39;00m\u001b[38;5;21;01mreshape\u001b[39;00m\u001b[38;5;21;01m.\u001b[39;00m\u001b[38;5;21;01mpivot\u001b[39;00m \u001b[38;5;28;01mimport\u001b[39;00m pivot\n\u001b[0;32m-> 9339\u001b[0m     \u001b[38;5;28;01mreturn\u001b[39;00m \u001b[43mpivot\u001b[49m\u001b[43m(\u001b[49m\u001b[38;5;28;43mself\u001b[39;49m\u001b[43m,\u001b[49m\u001b[43m \u001b[49m\u001b[43mindex\u001b[49m\u001b[38;5;241;43m=\u001b[39;49m\u001b[43mindex\u001b[49m\u001b[43m,\u001b[49m\u001b[43m \u001b[49m\u001b[43mcolumns\u001b[49m\u001b[38;5;241;43m=\u001b[39;49m\u001b[43mcolumns\u001b[49m\u001b[43m,\u001b[49m\u001b[43m \u001b[49m\u001b[43mvalues\u001b[49m\u001b[38;5;241;43m=\u001b[39;49m\u001b[43mvalues\u001b[49m\u001b[43m)\u001b[49m\n",
      "File \u001b[0;32m~/.local/share/virtualenvs/northumbria-culture-connect-dQ7VTDtt/lib/python3.12/site-packages/pandas/core/reshape/pivot.py:557\u001b[0m, in \u001b[0;36mpivot\u001b[0;34m(data, columns, index, values)\u001b[0m\n\u001b[1;32m    555\u001b[0m data_columns \u001b[38;5;241m=\u001b[39m [data[col] \u001b[38;5;28;01mfor\u001b[39;00m col \u001b[38;5;129;01min\u001b[39;00m columns_listlike]\n\u001b[1;32m    556\u001b[0m index_list\u001b[38;5;241m.\u001b[39mextend(data_columns)\n\u001b[0;32m--> 557\u001b[0m multiindex \u001b[38;5;241m=\u001b[39m \u001b[43mMultiIndex\u001b[49m\u001b[38;5;241;43m.\u001b[39;49m\u001b[43mfrom_arrays\u001b[49m\u001b[43m(\u001b[49m\u001b[43mindex_list\u001b[49m\u001b[43m)\u001b[49m\n\u001b[1;32m    559\u001b[0m \u001b[38;5;28;01mif\u001b[39;00m is_list_like(values) \u001b[38;5;129;01mand\u001b[39;00m \u001b[38;5;129;01mnot\u001b[39;00m \u001b[38;5;28misinstance\u001b[39m(values, \u001b[38;5;28mtuple\u001b[39m):\n\u001b[1;32m    560\u001b[0m     \u001b[38;5;66;03m# Exclude tuple because it is seen as a single column name\u001b[39;00m\n\u001b[1;32m    561\u001b[0m     values \u001b[38;5;241m=\u001b[39m cast(Sequence[Hashable], values)\n",
      "File \u001b[0;32m~/.local/share/virtualenvs/northumbria-culture-connect-dQ7VTDtt/lib/python3.12/site-packages/pandas/core/indexes/multi.py:533\u001b[0m, in \u001b[0;36mMultiIndex.from_arrays\u001b[0;34m(cls, arrays, sortorder, names)\u001b[0m\n\u001b[1;32m    530\u001b[0m     \u001b[38;5;28;01mif\u001b[39;00m \u001b[38;5;28mlen\u001b[39m(arrays[i]) \u001b[38;5;241m!=\u001b[39m \u001b[38;5;28mlen\u001b[39m(arrays[i \u001b[38;5;241m-\u001b[39m \u001b[38;5;241m1\u001b[39m]):\n\u001b[1;32m    531\u001b[0m         \u001b[38;5;28;01mraise\u001b[39;00m \u001b[38;5;167;01mValueError\u001b[39;00m(\u001b[38;5;124m\"\u001b[39m\u001b[38;5;124mall arrays must be same length\u001b[39m\u001b[38;5;124m\"\u001b[39m)\n\u001b[0;32m--> 533\u001b[0m codes, levels \u001b[38;5;241m=\u001b[39m \u001b[43mfactorize_from_iterables\u001b[49m\u001b[43m(\u001b[49m\u001b[43marrays\u001b[49m\u001b[43m)\u001b[49m\n\u001b[1;32m    534\u001b[0m \u001b[38;5;28;01mif\u001b[39;00m names \u001b[38;5;129;01mis\u001b[39;00m lib\u001b[38;5;241m.\u001b[39mno_default:\n\u001b[1;32m    535\u001b[0m     names \u001b[38;5;241m=\u001b[39m [\u001b[38;5;28mgetattr\u001b[39m(arr, \u001b[38;5;124m\"\u001b[39m\u001b[38;5;124mname\u001b[39m\u001b[38;5;124m\"\u001b[39m, \u001b[38;5;28;01mNone\u001b[39;00m) \u001b[38;5;28;01mfor\u001b[39;00m arr \u001b[38;5;129;01min\u001b[39;00m arrays]\n",
      "File \u001b[0;32m~/.local/share/virtualenvs/northumbria-culture-connect-dQ7VTDtt/lib/python3.12/site-packages/pandas/core/arrays/categorical.py:3069\u001b[0m, in \u001b[0;36mfactorize_from_iterables\u001b[0;34m(iterables)\u001b[0m\n\u001b[1;32m   3065\u001b[0m \u001b[38;5;28;01mif\u001b[39;00m \u001b[38;5;28mlen\u001b[39m(iterables) \u001b[38;5;241m==\u001b[39m \u001b[38;5;241m0\u001b[39m:\n\u001b[1;32m   3066\u001b[0m     \u001b[38;5;66;03m# For consistency, it should return two empty lists.\u001b[39;00m\n\u001b[1;32m   3067\u001b[0m     \u001b[38;5;28;01mreturn\u001b[39;00m [], []\n\u001b[0;32m-> 3069\u001b[0m codes, categories \u001b[38;5;241m=\u001b[39m \u001b[38;5;28;43mzip\u001b[39;49m\u001b[43m(\u001b[49m\u001b[38;5;241;43m*\u001b[39;49m\u001b[43m(\u001b[49m\u001b[43mfactorize_from_iterable\u001b[49m\u001b[43m(\u001b[49m\u001b[43mit\u001b[49m\u001b[43m)\u001b[49m\u001b[43m \u001b[49m\u001b[38;5;28;43;01mfor\u001b[39;49;00m\u001b[43m \u001b[49m\u001b[43mit\u001b[49m\u001b[43m \u001b[49m\u001b[38;5;129;43;01min\u001b[39;49;00m\u001b[43m \u001b[49m\u001b[43miterables\u001b[49m\u001b[43m)\u001b[49m\u001b[43m)\u001b[49m\n\u001b[1;32m   3070\u001b[0m \u001b[38;5;28;01mreturn\u001b[39;00m \u001b[38;5;28mlist\u001b[39m(codes), \u001b[38;5;28mlist\u001b[39m(categories)\n",
      "File \u001b[0;32m~/.local/share/virtualenvs/northumbria-culture-connect-dQ7VTDtt/lib/python3.12/site-packages/pandas/core/arrays/categorical.py:3069\u001b[0m, in \u001b[0;36m<genexpr>\u001b[0;34m(.0)\u001b[0m\n\u001b[1;32m   3065\u001b[0m \u001b[38;5;28;01mif\u001b[39;00m \u001b[38;5;28mlen\u001b[39m(iterables) \u001b[38;5;241m==\u001b[39m \u001b[38;5;241m0\u001b[39m:\n\u001b[1;32m   3066\u001b[0m     \u001b[38;5;66;03m# For consistency, it should return two empty lists.\u001b[39;00m\n\u001b[1;32m   3067\u001b[0m     \u001b[38;5;28;01mreturn\u001b[39;00m [], []\n\u001b[0;32m-> 3069\u001b[0m codes, categories \u001b[38;5;241m=\u001b[39m \u001b[38;5;28mzip\u001b[39m(\u001b[38;5;241m*\u001b[39m(\u001b[43mfactorize_from_iterable\u001b[49m\u001b[43m(\u001b[49m\u001b[43mit\u001b[49m\u001b[43m)\u001b[49m \u001b[38;5;28;01mfor\u001b[39;00m it \u001b[38;5;129;01min\u001b[39;00m iterables))\n\u001b[1;32m   3070\u001b[0m \u001b[38;5;28;01mreturn\u001b[39;00m \u001b[38;5;28mlist\u001b[39m(codes), \u001b[38;5;28mlist\u001b[39m(categories)\n",
      "File \u001b[0;32m~/.local/share/virtualenvs/northumbria-culture-connect-dQ7VTDtt/lib/python3.12/site-packages/pandas/core/arrays/categorical.py:3042\u001b[0m, in \u001b[0;36mfactorize_from_iterable\u001b[0;34m(values)\u001b[0m\n\u001b[1;32m   3037\u001b[0m     codes \u001b[38;5;241m=\u001b[39m values\u001b[38;5;241m.\u001b[39mcodes\n\u001b[1;32m   3038\u001b[0m \u001b[38;5;28;01melse\u001b[39;00m:\n\u001b[1;32m   3039\u001b[0m     \u001b[38;5;66;03m# The value of ordered is irrelevant since we don't use cat as such,\u001b[39;00m\n\u001b[1;32m   3040\u001b[0m     \u001b[38;5;66;03m# but only the resulting categories, the order of which is independent\u001b[39;00m\n\u001b[1;32m   3041\u001b[0m     \u001b[38;5;66;03m# from ordered. Set ordered to False as default. See GH #15457\u001b[39;00m\n\u001b[0;32m-> 3042\u001b[0m     cat \u001b[38;5;241m=\u001b[39m \u001b[43mCategorical\u001b[49m\u001b[43m(\u001b[49m\u001b[43mvalues\u001b[49m\u001b[43m,\u001b[49m\u001b[43m \u001b[49m\u001b[43mordered\u001b[49m\u001b[38;5;241;43m=\u001b[39;49m\u001b[38;5;28;43;01mFalse\u001b[39;49;00m\u001b[43m)\u001b[49m\n\u001b[1;32m   3043\u001b[0m     categories \u001b[38;5;241m=\u001b[39m cat\u001b[38;5;241m.\u001b[39mcategories\n\u001b[1;32m   3044\u001b[0m     codes \u001b[38;5;241m=\u001b[39m cat\u001b[38;5;241m.\u001b[39mcodes\n",
      "File \u001b[0;32m~/.local/share/virtualenvs/northumbria-culture-connect-dQ7VTDtt/lib/python3.12/site-packages/pandas/core/arrays/categorical.py:462\u001b[0m, in \u001b[0;36mCategorical.__init__\u001b[0;34m(self, values, categories, ordered, dtype, fastpath, copy)\u001b[0m\n\u001b[1;32m    460\u001b[0m     codes, categories \u001b[38;5;241m=\u001b[39m factorize(values, sort\u001b[38;5;241m=\u001b[39m\u001b[38;5;28;01mTrue\u001b[39;00m)\n\u001b[1;32m    461\u001b[0m \u001b[38;5;28;01mexcept\u001b[39;00m \u001b[38;5;167;01mTypeError\u001b[39;00m \u001b[38;5;28;01mas\u001b[39;00m err:\n\u001b[0;32m--> 462\u001b[0m     codes, categories \u001b[38;5;241m=\u001b[39m \u001b[43mfactorize\u001b[49m\u001b[43m(\u001b[49m\u001b[43mvalues\u001b[49m\u001b[43m,\u001b[49m\u001b[43m \u001b[49m\u001b[43msort\u001b[49m\u001b[38;5;241;43m=\u001b[39;49m\u001b[38;5;28;43;01mFalse\u001b[39;49;00m\u001b[43m)\u001b[49m\n\u001b[1;32m    463\u001b[0m     \u001b[38;5;28;01mif\u001b[39;00m dtype\u001b[38;5;241m.\u001b[39mordered:\n\u001b[1;32m    464\u001b[0m         \u001b[38;5;66;03m# raise, as we don't have a sortable data structure and so\u001b[39;00m\n\u001b[1;32m    465\u001b[0m         \u001b[38;5;66;03m# the user should give us one by specifying categories\u001b[39;00m\n\u001b[1;32m    466\u001b[0m         \u001b[38;5;28;01mraise\u001b[39;00m \u001b[38;5;167;01mTypeError\u001b[39;00m(\n\u001b[1;32m    467\u001b[0m             \u001b[38;5;124m\"\u001b[39m\u001b[38;5;124m'\u001b[39m\u001b[38;5;124mvalues\u001b[39m\u001b[38;5;124m'\u001b[39m\u001b[38;5;124m is not ordered, please \u001b[39m\u001b[38;5;124m\"\u001b[39m\n\u001b[1;32m    468\u001b[0m             \u001b[38;5;124m\"\u001b[39m\u001b[38;5;124mexplicitly specify the categories order \u001b[39m\u001b[38;5;124m\"\u001b[39m\n\u001b[1;32m    469\u001b[0m             \u001b[38;5;124m\"\u001b[39m\u001b[38;5;124mby passing in a categories argument.\u001b[39m\u001b[38;5;124m\"\u001b[39m\n\u001b[1;32m    470\u001b[0m         ) \u001b[38;5;28;01mfrom\u001b[39;00m \u001b[38;5;21;01merr\u001b[39;00m\n",
      "File \u001b[0;32m~/.local/share/virtualenvs/northumbria-culture-connect-dQ7VTDtt/lib/python3.12/site-packages/pandas/core/algorithms.py:795\u001b[0m, in \u001b[0;36mfactorize\u001b[0;34m(values, sort, use_na_sentinel, size_hint)\u001b[0m\n\u001b[1;32m    792\u001b[0m             \u001b[38;5;66;03m# Don't modify (potentially user-provided) array\u001b[39;00m\n\u001b[1;32m    793\u001b[0m             values \u001b[38;5;241m=\u001b[39m np\u001b[38;5;241m.\u001b[39mwhere(null_mask, na_value, values)\n\u001b[0;32m--> 795\u001b[0m     codes, uniques \u001b[38;5;241m=\u001b[39m \u001b[43mfactorize_array\u001b[49m\u001b[43m(\u001b[49m\n\u001b[1;32m    796\u001b[0m \u001b[43m        \u001b[49m\u001b[43mvalues\u001b[49m\u001b[43m,\u001b[49m\n\u001b[1;32m    797\u001b[0m \u001b[43m        \u001b[49m\u001b[43muse_na_sentinel\u001b[49m\u001b[38;5;241;43m=\u001b[39;49m\u001b[43muse_na_sentinel\u001b[49m\u001b[43m,\u001b[49m\n\u001b[1;32m    798\u001b[0m \u001b[43m        \u001b[49m\u001b[43msize_hint\u001b[49m\u001b[38;5;241;43m=\u001b[39;49m\u001b[43msize_hint\u001b[49m\u001b[43m,\u001b[49m\n\u001b[1;32m    799\u001b[0m \u001b[43m    \u001b[49m\u001b[43m)\u001b[49m\n\u001b[1;32m    801\u001b[0m \u001b[38;5;28;01mif\u001b[39;00m sort \u001b[38;5;129;01mand\u001b[39;00m \u001b[38;5;28mlen\u001b[39m(uniques) \u001b[38;5;241m>\u001b[39m \u001b[38;5;241m0\u001b[39m:\n\u001b[1;32m    802\u001b[0m     uniques, codes \u001b[38;5;241m=\u001b[39m safe_sort(\n\u001b[1;32m    803\u001b[0m         uniques,\n\u001b[1;32m    804\u001b[0m         codes,\n\u001b[0;32m   (...)\u001b[0m\n\u001b[1;32m    807\u001b[0m         verify\u001b[38;5;241m=\u001b[39m\u001b[38;5;28;01mFalse\u001b[39;00m,\n\u001b[1;32m    808\u001b[0m     )\n",
      "File \u001b[0;32m~/.local/share/virtualenvs/northumbria-culture-connect-dQ7VTDtt/lib/python3.12/site-packages/pandas/core/algorithms.py:595\u001b[0m, in \u001b[0;36mfactorize_array\u001b[0;34m(values, use_na_sentinel, size_hint, na_value, mask)\u001b[0m\n\u001b[1;32m    592\u001b[0m hash_klass, values \u001b[38;5;241m=\u001b[39m _get_hashtable_algo(values)\n\u001b[1;32m    594\u001b[0m table \u001b[38;5;241m=\u001b[39m hash_klass(size_hint \u001b[38;5;129;01mor\u001b[39;00m \u001b[38;5;28mlen\u001b[39m(values))\n\u001b[0;32m--> 595\u001b[0m uniques, codes \u001b[38;5;241m=\u001b[39m \u001b[43mtable\u001b[49m\u001b[38;5;241;43m.\u001b[39;49m\u001b[43mfactorize\u001b[49m\u001b[43m(\u001b[49m\n\u001b[1;32m    596\u001b[0m \u001b[43m    \u001b[49m\u001b[43mvalues\u001b[49m\u001b[43m,\u001b[49m\n\u001b[1;32m    597\u001b[0m \u001b[43m    \u001b[49m\u001b[43mna_sentinel\u001b[49m\u001b[38;5;241;43m=\u001b[39;49m\u001b[38;5;241;43m-\u001b[39;49m\u001b[38;5;241;43m1\u001b[39;49m\u001b[43m,\u001b[49m\n\u001b[1;32m    598\u001b[0m \u001b[43m    \u001b[49m\u001b[43mna_value\u001b[49m\u001b[38;5;241;43m=\u001b[39;49m\u001b[43mna_value\u001b[49m\u001b[43m,\u001b[49m\n\u001b[1;32m    599\u001b[0m \u001b[43m    \u001b[49m\u001b[43mmask\u001b[49m\u001b[38;5;241;43m=\u001b[39;49m\u001b[43mmask\u001b[49m\u001b[43m,\u001b[49m\n\u001b[1;32m    600\u001b[0m \u001b[43m    \u001b[49m\u001b[43mignore_na\u001b[49m\u001b[38;5;241;43m=\u001b[39;49m\u001b[43muse_na_sentinel\u001b[49m\u001b[43m,\u001b[49m\n\u001b[1;32m    601\u001b[0m \u001b[43m\u001b[49m\u001b[43m)\u001b[49m\n\u001b[1;32m    603\u001b[0m \u001b[38;5;66;03m# re-cast e.g. i8->dt64/td64, uint8->bool\u001b[39;00m\n\u001b[1;32m    604\u001b[0m uniques \u001b[38;5;241m=\u001b[39m _reconstruct_data(uniques, original\u001b[38;5;241m.\u001b[39mdtype, original)\n",
      "File \u001b[0;32mpandas/_libs/hashtable_class_helper.pxi:7281\u001b[0m, in \u001b[0;36mpandas._libs.hashtable.PyObjectHashTable.factorize\u001b[0;34m()\u001b[0m\n",
      "File \u001b[0;32mpandas/_libs/hashtable_class_helper.pxi:7195\u001b[0m, in \u001b[0;36mpandas._libs.hashtable.PyObjectHashTable._unique\u001b[0;34m()\u001b[0m\n",
      "\u001b[0;31mTypeError\u001b[0m: unhashable type: 'numpy.ndarray'"
     ]
    }
   ],
   "source": [
    "d.pivot(index=\"company_number\", columns=\"sic_code\", values='count')"
   ]
  },
  {
   "cell_type": "code",
   "execution_count": null,
   "metadata": {},
   "outputs": [],
   "source": []
  }
 ],
 "metadata": {
  "kernelspec": {
   "display_name": "northumbria-culture-connect-dQ7VTDtt",
   "language": "python",
   "name": "python3"
  },
  "language_info": {
   "codemirror_mode": {
    "name": "ipython",
    "version": 3
   },
   "file_extension": ".py",
   "mimetype": "text/x-python",
   "name": "python",
   "nbconvert_exporter": "python",
   "pygments_lexer": "ipython3",
   "version": "3.12.6"
  }
 },
 "nbformat": 4,
 "nbformat_minor": 2
}
