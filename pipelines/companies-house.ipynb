{
 "cells": [
  {
   "cell_type": "markdown",
   "metadata": {},
   "source": [
    "# Companies House cultural data\n",
    "\n",
    "Extracting data for cultural organisations from Companies House data based on SIC code."
   ]
  },
  {
   "cell_type": "markdown",
   "metadata": {},
   "source": [
    "## Setup environment"
   ]
  },
  {
   "cell_type": "code",
   "execution_count": 1,
   "metadata": {},
   "outputs": [],
   "source": [
    "import json\n",
    "\n",
    "import duckdb\n",
    "import pandas as pd\n",
    "import geopandas as gpd\n",
    "from pipeline_utils.filesystem.paths import DATA, RAW_DATA, SITE"
   ]
  },
  {
   "cell_type": "code",
   "execution_count": 2,
   "metadata": {},
   "outputs": [],
   "source": [
    "OUT = SITE / 'data/companies-house/_data/'\n",
    "OUT.mkdir(exist_ok=True, parents=True)"
   ]
  },
  {
   "cell_type": "markdown",
   "metadata": {},
   "source": [
    "## Extract Companies House data\n",
    "\n",
    "Using a  shortlist of SIC codes, extract data from Companies House."
   ]
  },
  {
   "cell_type": "code",
   "execution_count": 3,
   "metadata": {},
   "outputs": [],
   "source": [
    "db = duckdb.connect(RAW_DATA / 'company-data.db', read_only=True)"
   ]
  },
  {
   "cell_type": "markdown",
   "metadata": {},
   "source": [
    "Create temporary tables"
   ]
  },
  {
   "cell_type": "code",
   "execution_count": 4,
   "metadata": {},
   "outputs": [],
   "source": [
    "db.query('''\n",
    "    CREATE TEMP TABLE tSicCodes AS SELECT * FROM read_csv('../raw/sic_codes.csv');\n",
    "''')"
   ]
  },
  {
   "cell_type": "code",
   "execution_count": 5,
   "metadata": {},
   "outputs": [],
   "source": [
    "db.query('''\n",
    "    CREATE TEMP TABLE tPostcodes AS\n",
    "        SELECT pcds AS postcode, lat, long\n",
    "        FROM read_csv('../data/reference/onspd_extract.csv')\n",
    "        WHERE oslaua == 'E08000021';\n",
    "''')"
   ]
  },
  {
   "cell_type": "code",
   "execution_count": 6,
   "metadata": {},
   "outputs": [],
   "source": [
    "db.query('''\n",
    "    CREATE TEMP TABLE tCompanies AS SELECT \n",
    "        CompanyName as registered_name,\n",
    "        CompanyNumber as company_number,\n",
    "        \"RegAddress.PostCode\" as postcode,\n",
    "        [x for x in [\n",
    "            \"SICCode.SicText_1\",\n",
    "            \"SICCode.SicText_2\",\n",
    "            \"SICCode.SicText_3\",\n",
    "            \"SICCode.SicText_4\"\n",
    "        ] if x is not NULL] as sic_code,\n",
    "        lat, long\n",
    "    FROM CompanyData c\n",
    "    JOIN tPostcodes p\n",
    "    ON c.\"RegAddress.PostCode\" == p.postcode;\n",
    "''')"
   ]
  },
  {
   "cell_type": "markdown",
   "metadata": {},
   "source": [
    "Query the shortlist codes"
   ]
  },
  {
   "cell_type": "code",
   "execution_count": 7,
   "metadata": {},
   "outputs": [],
   "source": [
    "shortlist_sic_codes = db.query('''SELECT * FROM tSicCodes;''').df()"
   ]
  },
  {
   "cell_type": "markdown",
   "metadata": {},
   "source": [
    "Query the companies data"
   ]
  },
  {
   "cell_type": "code",
   "execution_count": 8,
   "metadata": {},
   "outputs": [],
   "source": [
    "culture_companies = db.query('''\n",
    "    SELECT DISTINCT c.*\n",
    "        FROM tCompanies c\n",
    "        JOIN tSicCodes s\n",
    "        ON list_contains(c.sic_code, s.sic_code)\n",
    "        ORDER BY c.company_number;\n",
    "''').df()"
   ]
  },
  {
   "cell_type": "code",
   "execution_count": 9,
   "metadata": {},
   "outputs": [],
   "source": [
    "db.close()"
   ]
  },
  {
   "cell_type": "markdown",
   "metadata": {},
   "source": [
    "## Save the companies data"
   ]
  },
  {
   "cell_type": "code",
   "execution_count": 10,
   "metadata": {},
   "outputs": [],
   "source": [
    "culture_companies.sort_values('company_number').to_csv(OUT / 'list.csv', index=False)"
   ]
  },
  {
   "cell_type": "code",
   "execution_count": 11,
   "metadata": {},
   "outputs": [
    {
     "name": "stderr",
     "output_type": "stream",
     "text": [
      "/home/giles/.local/share/virtualenvs/northumbria-culture-connect-dQ7VTDtt/lib/python3.12/site-packages/pyogrio/raw.py:698: UserWarning: 'crs' was not provided.  The output dataset will not have projection information defined and may not be usable in other systems.\n",
      "  warnings.warn(\n"
     ]
    }
   ],
   "source": [
    "geo = gpd.GeoDataFrame(culture_companies, geometry=gpd.points_from_xy(culture_companies.long, culture_companies.lat))\n",
    "\n",
    "geo.set_crs(None).to_file(OUT / 'company_locations.geojson')"
   ]
  },
  {
   "cell_type": "markdown",
   "metadata": {},
   "source": [
    "## Process SIC codes"
   ]
  },
  {
   "cell_type": "code",
   "execution_count": 12,
   "metadata": {},
   "outputs": [],
   "source": [
    "all_sic_codes = culture_companies.explode('sic_code').groupby('sic_code').company_number.count().sort_values(ascending=False).reset_index().rename(columns={\n",
    "    'company_number': 'count'\n",
    "})\n",
    "all_sic_codes[all_sic_codes.sic_code.isin(shortlist_sic_codes.sic_code)].to_csv(OUT / 'sic_codes.csv')"
   ]
  },
  {
   "cell_type": "markdown",
   "metadata": {},
   "source": [
    "## Calculate linked SIC codes"
   ]
  },
  {
   "cell_type": "code",
   "execution_count": 13,
   "metadata": {},
   "outputs": [],
   "source": [
    "d = culture_companies.loc[:, ['company_number', 'sic_code']]\n",
    "d['fingerprint'] = d.sic_code.apply(lambda x: '|'.join(sorted(x)))"
   ]
  },
  {
   "cell_type": "code",
   "execution_count": 14,
   "metadata": {},
   "outputs": [],
   "source": [
    "nodes = all_sic_codes.to_dict(orient='records')"
   ]
  },
  {
   "cell_type": "code",
   "execution_count": 15,
   "metadata": {},
   "outputs": [],
   "source": [
    "sources = [n['sic_code'] for n in nodes]"
   ]
  },
  {
   "cell_type": "code",
   "execution_count": 16,
   "metadata": {},
   "outputs": [],
   "source": [
    "network = culture_companies.loc[:, ['sic_code', 'company_number']]\n",
    "\n",
    "def count_others(v):\n",
    "    edges = (\n",
    "        network[network.sic_code.apply(lambda x: v in x)]\n",
    "        .explode('sic_code')\n",
    "        .groupby('sic_code')\n",
    "        .company_number.count()\n",
    "        .reset_index()\n",
    "        .rename(columns={'company_number': 'weight', 'sic_code': 'dst'})\\\n",
    "    )\n",
    "    edges['src'] = v\n",
    "\n",
    "    return edges.loc[(edges.src != edges.dst) & (edges.weight > 1), ['src', 'dst', 'weight']].sort_values('weight', ascending=False)\n",
    "\n",
    "directed_pairs = pd.concat([count_others(s) for s in sources]).reset_index(drop=True)"
   ]
  },
  {
   "cell_type": "markdown",
   "metadata": {},
   "source": [
    "Edges will contain "
   ]
  },
  {
   "cell_type": "code",
   "execution_count": 17,
   "metadata": {},
   "outputs": [],
   "source": [
    "pairs = pd.DataFrame(\n",
    "    directed_pairs[['src', 'dst']]\n",
    "        .stack()\n",
    "        .reset_index(level=1, drop=True)\n",
    "        .pipe(lambda e: e.groupby(e.index).apply(lambda x: sorted(list(x))))\n",
    "        .pipe(lambda e: e[e.duplicated()])\n",
    "        .reset_index(drop=True)\n",
    "        .tolist(),\n",
    "    columns=['src', 'dst']\n",
    ")\n",
    "\n",
    "edges = pairs.merge(directed_pairs).sort_values('weight', ascending=False).to_dict(orient='records')"
   ]
  },
  {
   "cell_type": "code",
   "execution_count": 18,
   "metadata": {},
   "outputs": [],
   "source": [
    "with open(OUT / 'graph.json', 'w') as graph:\n",
    "    json.dump({ 'nodes': nodes, 'edges': edges }, fp=graph, indent=2)"
   ]
  }
 ],
 "metadata": {
  "kernelspec": {
   "display_name": "northumbria-culture-connect-dQ7VTDtt",
   "language": "python",
   "name": "python3"
  },
  "language_info": {
   "codemirror_mode": {
    "name": "ipython",
    "version": 3
   },
   "file_extension": ".py",
   "mimetype": "text/x-python",
   "name": "python",
   "nbconvert_exporter": "python",
   "pygments_lexer": "ipython3",
   "version": "3.12.6"
  }
 },
 "nbformat": 4,
 "nbformat_minor": 2
}
