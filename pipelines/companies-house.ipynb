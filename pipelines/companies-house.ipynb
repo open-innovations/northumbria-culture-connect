{
 "cells": [
  {
   "cell_type": "markdown",
   "metadata": {},
   "source": [
    "# Companies House cultural data\n",
    "\n",
    "Extracting data for cultural organisations from Companies House data based on SIC code."
   ]
  },
  {
   "cell_type": "markdown",
   "metadata": {},
   "source": [
    "## Setup environment"
   ]
  },
  {
   "cell_type": "code",
   "execution_count": 14,
   "metadata": {},
   "outputs": [],
   "source": [
    "import json\n",
    "\n",
    "import geopandas as gpd\n",
    "import pandas as pd\n",
    "import pipeline_utils.db as db\n",
    "from pipeline_utils.filesystem.paths import DATA, RAW_DATA, REF_DATA, SITE"
   ]
  },
  {
   "cell_type": "code",
   "execution_count": 15,
   "metadata": {},
   "outputs": [],
   "source": [
    "OUT = SITE / 'data/companies-house/_data/'\n",
    "OUT.mkdir(exist_ok=True, parents=True)"
   ]
  },
  {
   "cell_type": "markdown",
   "metadata": {},
   "source": [
    "## Extract Companies House data\n",
    "\n",
    "Using a  shortlist of SIC codes, extract data from Companies House."
   ]
  },
  {
   "cell_type": "code",
   "execution_count": 16,
   "metadata": {},
   "outputs": [],
   "source": [
    "db = db.connect(read_only=True)"
   ]
  },
  {
   "cell_type": "markdown",
   "metadata": {},
   "source": [
    "Create temporary tables"
   ]
  },
  {
   "cell_type": "code",
   "execution_count": 17,
   "metadata": {},
   "outputs": [],
   "source": [
    "db.query('''\n",
    "    CREATE TEMP TABLE tSicCodes AS SELECT * FROM read_csv('../raw/sic_codes.csv');\n",
    "''')"
   ]
  },
  {
   "cell_type": "code",
   "execution_count": 18,
   "metadata": {},
   "outputs": [],
   "source": [
    "db.query('''\n",
    "    CREATE TEMP TABLE tPostcodes AS\n",
    "        SELECT pcds AS postcode, lat, long\n",
    "        FROM read_csv('../data/reference/onspd_extract.csv')\n",
    "        WHERE oslaua == 'E08000021';\n",
    "''')"
   ]
  },
  {
   "cell_type": "code",
   "execution_count": 19,
   "metadata": {},
   "outputs": [],
   "source": [
    "db.query('''\n",
    "    CREATE TEMP TABLE tCompanies AS SELECT \n",
    "        CompanyName as registered_name,\n",
    "        CompanyNumber as company_number,\n",
    "        \"RegAddress.PostCode\" as postcode,\n",
    "        [x for x in [\n",
    "            \"SICCode.SicText_1\",\n",
    "            \"SICCode.SicText_2\",\n",
    "            \"SICCode.SicText_3\",\n",
    "            \"SICCode.SicText_4\"\n",
    "        ] if x is not NULL] as sic_code,\n",
    "        lat, long\n",
    "    FROM CompanyData c\n",
    "    JOIN tPostcodes p\n",
    "    ON c.\"RegAddress.PostCode\" == p.postcode;\n",
    "''')"
   ]
  },
  {
   "cell_type": "markdown",
   "metadata": {},
   "source": [
    "Query the shortlist codes"
   ]
  },
  {
   "cell_type": "code",
   "execution_count": 20,
   "metadata": {},
   "outputs": [],
   "source": [
    "shortlist_sic_codes = db.query('''SELECT * FROM tSicCodes;''').df()"
   ]
  },
  {
   "cell_type": "markdown",
   "metadata": {},
   "source": [
    "Query the companies data"
   ]
  },
  {
   "cell_type": "code",
   "execution_count": 21,
   "metadata": {},
   "outputs": [],
   "source": [
    "culture_companies = db.query('''\n",
    "    SELECT DISTINCT c.*\n",
    "        FROM tCompanies c\n",
    "        JOIN tSicCodes s\n",
    "        ON list_contains(c.sic_code, s.sic_code)\n",
    "        ORDER BY c.company_number;\n",
    "''').df()"
   ]
  },
  {
   "cell_type": "code",
   "execution_count": 22,
   "metadata": {},
   "outputs": [],
   "source": [
    "db.close()"
   ]
  },
  {
   "cell_type": "code",
   "execution_count": 23,
   "metadata": {},
   "outputs": [],
   "source": [
    "culture_companies.sic_code = culture_companies.sic_code.map(lambda x: x.tolist())"
   ]
  },
  {
   "cell_type": "code",
   "execution_count": 24,
   "metadata": {},
   "outputs": [
    {
     "data": {
      "application/vnd.microsoft.datawrangler.viewer.v0+json": {
       "columns": [
        {
         "name": "index",
         "rawType": "int64",
         "type": "integer"
        },
        {
         "name": "registered_name",
         "rawType": "object",
         "type": "string"
        },
        {
         "name": "company_number",
         "rawType": "object",
         "type": "string"
        },
        {
         "name": "postcode",
         "rawType": "object",
         "type": "string"
        },
        {
         "name": "sic_code",
         "rawType": "object",
         "type": "unknown"
        },
        {
         "name": "lat",
         "rawType": "float64",
         "type": "float"
        },
        {
         "name": "long",
         "rawType": "float64",
         "type": "float"
        }
       ],
       "conversionMethod": "pd.DataFrame",
       "ref": "359e961d-0726-4441-b281-c5b7bf8b08f3",
       "rows": [
        [
         "0",
         "PEOPLE'S THEATRE ARTS GROUP LIMITED",
         "00242886",
         "NE6 5QF",
         "['90010 - Performing arts', '90030 - Artistic creation']",
         "54.990445",
         "-1.584953"
        ],
        [
         "1",
         "INSTITUTE OF AMATEUR CINEMATOGRAPHERS LIMITED(THE)",
         "00269085",
         "NE3 2DT",
         "['63990 - Other information service activities n.e.c.', '90030 - Artistic creation', '94990 - Activities of other membership organizations n.e.c.']",
         "55.023848",
         "-1.620913"
        ],
        [
         "2",
         "NEWCASTLE PEOPLE'S THEATRE ARTS TRUST LIMITED",
         "00393739",
         "NE6 5QF",
         "['90040 - Operation of arts facilities']",
         "54.990445",
         "-1.584953"
        ],
        [
         "3",
         "MAWSON & WAREHAM (MUSIC) LIMITED",
         "00957980",
         "NE1 5BP",
         "['58190 - Other publishing activities', '59112 - Video production activities', '59200 - Sound recording and music publishing activities']",
         "54.973132",
         "-1.613142"
        ],
        [
         "4",
         "TYNESIDE CINEMA",
         "01113101",
         "NE1 6QG",
         "['59140 - Motion picture projection activities']",
         "54.973801",
         "-1.611761"
        ],
        [
         "5",
         "NEWCASTLE THEATRE ROYAL TRUST LIMITED",
         "01217427",
         "NE1 6BR",
         "['90020 - Support activities to performing arts', '90040 - Operation of arts facilities']",
         "54.972706",
         "-1.612021"
        ],
        [
         "6",
         "JAZZ NORTH-EAST LIMITED",
         "01357300",
         "NE7 7AN",
         "['90020 - Support activities to performing arts']",
         "54.998678",
         "-1.59331"
        ],
        [
         "7",
         "TYNE AND WEAR BUILDING PRESERVATION TRUST LIMITED",
         "01444058",
         "NE3 3LS",
         "['91030 - Operation of historical sites and buildings and similar visitor attractions']",
         "55.010031",
         "-1.622138"
        ],
        [
         "8",
         "AN:ARTISTS INFORMATION COMPANY",
         "01626331",
         "NE1 1EW",
         "['58190 - Other publishing activities']",
         "54.97181",
         "-1.612827"
        ],
        [
         "9",
         "AWAY WITH THE FOG LIMITED",
         "01645465",
         "NE1 2PQ",
         "['90030 - Artistic creation']",
         "54.974814",
         "-1.592361"
        ],
        [
         "10",
         "NORTH EAST THEATRE TRUST LIMITED",
         "01697756",
         "NE1 3DQ",
         "['90030 - Artistic creation', '90040 - Operation of arts facilities']",
         "54.96966",
         "-1.604285"
        ],
        [
         "11",
         "KENSINGTON WEST PRODUCTIONS LIMITED",
         "01844574",
         "NE1 1RJ",
         "['58110 - Book publishing']",
         "54.969652",
         "-1.612301"
        ],
        [
         "12",
         "LIVE THEATRE CO. LIMITED",
         "01981484",
         "NE1 3DQ",
         "['90030 - Artistic creation']",
         "54.96966",
         "-1.604285"
        ],
        [
         "13",
         "EQUAL ARTS LTD.",
         "01992359",
         "NE1 8AX",
         "['90040 - Operation of arts facilities']",
         "54.974992",
         "-1.610437"
        ],
        [
         "14",
         "A M C D (PUBLISHERS) LIMITED",
         "02049025",
         "NE3 4XE",
         "['58110 - Book publishing']",
         "55.000977",
         "-1.63526"
        ],
        [
         "15",
         "NORTHERN STAGE (THEATRICAL PRODUCTIONS) LIMITED",
         "02187213",
         "NE1 7RH",
         "['90010 - Performing arts', '90040 - Operation of arts facilities']",
         "54.979335",
         "-1.614082"
        ],
        [
         "16",
         "ALPHA COMMUNICATION LIMITED",
         "02187790",
         "NE4 5TF",
         "['58142 - Publishing of  consumer and business journals and periodicals', '59112 - Video production activities', '70210 - Public relations and communications activities', '73110 - Advertising agencies']",
         "54.972382",
         "-1.623428"
        ],
        [
         "17",
         "NEWCASTLE ARTS CENTRE TRUST LIMITED",
         "02383592",
         "NE1 1SG",
         "['90040 - Operation of arts facilities']",
         "54.970002",
         "-1.617999"
        ],
        [
         "18",
         "DANCE NORTH",
         "02490618",
         "NE1 4BR",
         "['90040 - Operation of arts facilities']",
         "54.970186",
         "-1.622246"
        ],
        [
         "19",
         "D6 CULTURE LTD",
         "02632544",
         "NE1 4XF",
         "['90030 - Artistic creation']",
         "54.971291",
         "-1.619905"
        ],
        [
         "20",
         "FIRST ACT THEATRE",
         "02742066",
         "NE13 9AR",
         "['90010 - Performing arts', '90030 - Artistic creation']",
         "55.02368",
         "-1.655091"
        ],
        [
         "21",
         "BRUVVERS THEATRE COMPANY",
         "02837215",
         "NE1 2PQ",
         "['90010 - Performing arts']",
         "54.974814",
         "-1.592361"
        ],
        [
         "22",
         "TYNESIDE IRISH CULTURAL SOCIETY LIMITED",
         "02892258",
         "NE1 4SG",
         "['90030 - Artistic creation']",
         "54.973938",
         "-1.618133"
        ],
        [
         "23",
         "NORTHERN PRINT STUDIO LIMITED",
         "02899117",
         "NE1 2NP",
         "['18129 - Printing n.e.c.', '90040 - Operation of arts facilities']",
         "54.974867",
         "-1.594657"
        ],
        [
         "24",
         "BOULEVARD MEDIA LIMITED",
         "02933813",
         "NE3 3HR",
         "['90030 - Artistic creation']",
         "55.012664",
         "-1.634169"
        ],
        [
         "25",
         "LOCUS +",
         "02939638",
         "NE1 5UD",
         "['90020 - Support activities to performing arts']",
         "54.971137",
         "-1.618832"
        ],
        [
         "26",
         "NORTH EAST MUSIC CO-OPERATIVE LIMITED",
         "03079979",
         "NE3 2DT",
         "['85520 - Cultural education', '85590 - Other education n.e.c.']",
         "55.023848",
         "-1.620913"
        ],
        [
         "27",
         "LIVE TRADING LIMITED",
         "03100229",
         "NE1 3DQ",
         "['90040 - Operation of arts facilities']",
         "54.96966",
         "-1.604285"
        ],
        [
         "28",
         "VINE SOLUTIONS LIMITED",
         "03131148",
         "NE5 1NB",
         "['59200 - Sound recording and music publishing activities', '62012 - Business and domestic software development', '62020 - Information technology consultancy activities', '90030 - Artistic creation']",
         "55.00311",
         "-1.695524"
        ],
        [
         "29",
         "NEW WRITING NORTH",
         "03166037",
         "NE1 8ST",
         "['90020 - Support activities to performing arts']",
         "54.976634",
         "-1.60745"
        ],
        [
         "30",
         "SEVEN STORIES, THE NATIONAL CENTRE FOR CHILDREN’S BOOKS LIMITED",
         "03209411",
         "NE1 2PQ",
         "['85520 - Cultural education', '91012 - Archives activities', '91020 - Museums activities']",
         "54.974814",
         "-1.592361"
        ],
        [
         "31",
         "INTERNATIONAL CENTRE FOR LIFE TRUST",
         "03225820",
         "NE1 4EP",
         "['74909 - Other professional, scientific and technical activities n.e.c.', '85590 - Other education n.e.c.', '91030 - Operation of historical sites and buildings and similar visitor attractions']",
         "54.967662",
         "-1.620548"
        ],
        [
         "32",
         "NORTH NEWS & PICTURES LIMITED",
         "03263624",
         "NE6 1TZ",
         "['59112 - Video production activities', '63910 - News agency activities']",
         "54.96625",
         "-1.573782"
        ],
        [
         "33",
         "JAY TV LIMITED",
         "03368347",
         "NE1 3DX",
         "['59112 - Video production activities', '74202 - Other specialist photography', '96040 - Physical well-being activities']",
         "54.970984",
         "-1.599307"
        ],
        [
         "34",
         "MSLEXIA PUBLICATIONS LIMITED",
         "03374941",
         "NE1 4JE",
         "['58190 - Other publishing activities']",
         "54.972816",
         "-1.621424"
        ],
        [
         "35",
         "JANET PLATER MANAGEMENT LIMITED",
         "03417954",
         "NE1 1LF",
         "['78101 - Motion picture, television and other theatrical casting activities']",
         "54.969796",
         "-1.610328"
        ],
        [
         "36",
         "NEWCASTLE UPON TYNE CHAMBER MUSIC SOCIETY LIMITED",
         "03433055",
         "NE2 1HE",
         "['90010 - Performing arts']",
         "54.986768",
         "-1.589758"
        ],
        [
         "37",
         "PRIBRO INTERNATIONAL LIMITED",
         "03482236",
         "NE3 3HR",
         "['59111 - Motion picture production activities']",
         "55.012664",
         "-1.634169"
        ],
        [
         "38",
         "NORTHERN ROOTS",
         "03539586",
         "NE1 6BX",
         "['90040 - Operation of arts facilities']",
         "54.972398",
         "-1.611337"
        ],
        [
         "39",
         "YIPP FILMS LIMITED",
         "03549317",
         "NE2 1JR",
         "['90030 - Artistic creation']",
         "54.987872",
         "-1.600045"
        ],
        [
         "40",
         "TRINITY YOUTH ASSOCIATION",
         "03557279",
         "NE3 3LS",
         "['85510 - Sports and recreation education', '88910 - Child day-care activities', '90030 - Artistic creation']",
         "55.010031",
         "-1.622138"
        ],
        [
         "41",
         "ANKETELL TRAINING LIMITED",
         "03661827",
         "NE3 1UT",
         "['58190 - Other publishing activities']",
         "55.009076",
         "-1.618519"
        ],
        [
         "42",
         "GENERATOR NORTH EAST LIMITED",
         "03670235",
         "NE1 3DE",
         "['82990 - Other business support service activities n.e.c.', '90020 - Support activities to performing arts']",
         "54.969265",
         "-1.604554"
        ],
        [
         "43",
         "PINBALL FILMS LIMITED",
         "03739500",
         "NE1 4XF",
         "['59111 - Motion picture production activities']",
         "54.971291",
         "-1.619905"
        ],
        [
         "44",
         "TAYLOR FREDERICKS LIMITED",
         "03812484",
         "NE1 1RN",
         "['70229 - Management consultancy activities other than financial management', '74100 - specialised design activities', '74202 - Other specialist photography', '90030 - Artistic creation']",
         "54.968147",
         "-1.611144"
        ],
        [
         "45",
         "NOSTALGIA STEEL BAND AND CARNIVAL CLUB LIMITED",
         "03816660",
         "NE3 3AT",
         "['85520 - Cultural education', '90010 - Performing arts']",
         "55.006555",
         "-1.649734"
        ],
        [
         "46",
         "TYNE THEATRE AND OPERA HOUSE PRESERVATION TRUST",
         "03874271",
         "NE1 4AG",
         "['90020 - Support activities to performing arts', '90040 - Operation of arts facilities', '91012 - Archives activities', '91030 - Operation of historical sites and buildings and similar visitor attractions']",
         "54.970588",
         "-1.621539"
        ],
        [
         "47",
         "THE CRACK LIMITED",
         "03949330",
         "NE6 5PH",
         "['58190 - Other publishing activities']",
         "54.979187",
         "-1.587929"
        ],
        [
         "48",
         "LAURA JOHNSTON LIGHTWORKS LTD",
         "03972743",
         "NE1 2PQ",
         "['90030 - Artistic creation']",
         "54.974814",
         "-1.592361"
        ],
        [
         "49",
         "GALLIVANTING PICTURES LIMITED",
         "04141934",
         "NE3 3HR",
         "['59111 - Motion picture production activities', '59112 - Video production activities', '90030 - Artistic creation']",
         "55.012664",
         "-1.634169"
        ]
       ],
       "shape": {
        "columns": 6,
        "rows": 507
       }
      },
      "text/html": [
       "<div>\n",
       "<style scoped>\n",
       "    .dataframe tbody tr th:only-of-type {\n",
       "        vertical-align: middle;\n",
       "    }\n",
       "\n",
       "    .dataframe tbody tr th {\n",
       "        vertical-align: top;\n",
       "    }\n",
       "\n",
       "    .dataframe thead th {\n",
       "        text-align: right;\n",
       "    }\n",
       "</style>\n",
       "<table border=\"1\" class=\"dataframe\">\n",
       "  <thead>\n",
       "    <tr style=\"text-align: right;\">\n",
       "      <th></th>\n",
       "      <th>registered_name</th>\n",
       "      <th>company_number</th>\n",
       "      <th>postcode</th>\n",
       "      <th>sic_code</th>\n",
       "      <th>lat</th>\n",
       "      <th>long</th>\n",
       "    </tr>\n",
       "  </thead>\n",
       "  <tbody>\n",
       "    <tr>\n",
       "      <th>0</th>\n",
       "      <td>PEOPLE'S THEATRE ARTS GROUP LIMITED</td>\n",
       "      <td>00242886</td>\n",
       "      <td>NE6 5QF</td>\n",
       "      <td>[90010 - Performing arts, 90030 - Artistic cre...</td>\n",
       "      <td>54.990445</td>\n",
       "      <td>-1.584953</td>\n",
       "    </tr>\n",
       "    <tr>\n",
       "      <th>1</th>\n",
       "      <td>INSTITUTE OF AMATEUR CINEMATOGRAPHERS LIMITED(...</td>\n",
       "      <td>00269085</td>\n",
       "      <td>NE3 2DT</td>\n",
       "      <td>[63990 - Other information service activities ...</td>\n",
       "      <td>55.023848</td>\n",
       "      <td>-1.620913</td>\n",
       "    </tr>\n",
       "    <tr>\n",
       "      <th>2</th>\n",
       "      <td>NEWCASTLE PEOPLE'S THEATRE ARTS TRUST LIMITED</td>\n",
       "      <td>00393739</td>\n",
       "      <td>NE6 5QF</td>\n",
       "      <td>[90040 - Operation of arts facilities]</td>\n",
       "      <td>54.990445</td>\n",
       "      <td>-1.584953</td>\n",
       "    </tr>\n",
       "    <tr>\n",
       "      <th>3</th>\n",
       "      <td>MAWSON &amp; WAREHAM (MUSIC) LIMITED</td>\n",
       "      <td>00957980</td>\n",
       "      <td>NE1 5BP</td>\n",
       "      <td>[58190 - Other publishing activities, 59112 - ...</td>\n",
       "      <td>54.973132</td>\n",
       "      <td>-1.613142</td>\n",
       "    </tr>\n",
       "    <tr>\n",
       "      <th>4</th>\n",
       "      <td>TYNESIDE CINEMA</td>\n",
       "      <td>01113101</td>\n",
       "      <td>NE1 6QG</td>\n",
       "      <td>[59140 - Motion picture projection activities]</td>\n",
       "      <td>54.973801</td>\n",
       "      <td>-1.611761</td>\n",
       "    </tr>\n",
       "    <tr>\n",
       "      <th>...</th>\n",
       "      <td>...</td>\n",
       "      <td>...</td>\n",
       "      <td>...</td>\n",
       "      <td>...</td>\n",
       "      <td>...</td>\n",
       "      <td>...</td>\n",
       "    </tr>\n",
       "    <tr>\n",
       "      <th>502</th>\n",
       "      <td>HARVEY DUCKMAN LTD</td>\n",
       "      <td>15879932</td>\n",
       "      <td>NE1 1JF</td>\n",
       "      <td>[90030 - Artistic creation]</td>\n",
       "      <td>54.969968</td>\n",
       "      <td>-1.613654</td>\n",
       "    </tr>\n",
       "    <tr>\n",
       "      <th>503</th>\n",
       "      <td>BUNNY RWLK LTD</td>\n",
       "      <td>15881018</td>\n",
       "      <td>NE1 5UD</td>\n",
       "      <td>[90010 - Performing arts, 90030 - Artistic cre...</td>\n",
       "      <td>54.971137</td>\n",
       "      <td>-1.618832</td>\n",
       "    </tr>\n",
       "    <tr>\n",
       "      <th>504</th>\n",
       "      <td>AVERIA AGENCY UK LTD</td>\n",
       "      <td>15888622</td>\n",
       "      <td>NE3 1YQ</td>\n",
       "      <td>[63120 - Web portals, 90030 - Artistic creation]</td>\n",
       "      <td>55.002906</td>\n",
       "      <td>-1.608369</td>\n",
       "    </tr>\n",
       "    <tr>\n",
       "      <th>505</th>\n",
       "      <td>GEORDIE VISION LTD</td>\n",
       "      <td>15906324</td>\n",
       "      <td>NE6 2HL</td>\n",
       "      <td>[59112 - Video production activities]</td>\n",
       "      <td>54.970149</td>\n",
       "      <td>-1.581302</td>\n",
       "    </tr>\n",
       "    <tr>\n",
       "      <th>506</th>\n",
       "      <td>PROG ON THE TYNE LIMITED</td>\n",
       "      <td>15918124</td>\n",
       "      <td>NE2 2PQ</td>\n",
       "      <td>[90020 - Support activities to performing arts]</td>\n",
       "      <td>54.990131</td>\n",
       "      <td>-1.601023</td>\n",
       "    </tr>\n",
       "  </tbody>\n",
       "</table>\n",
       "<p>507 rows × 6 columns</p>\n",
       "</div>"
      ],
      "text/plain": [
       "                                       registered_name company_number  \\\n",
       "0                  PEOPLE'S THEATRE ARTS GROUP LIMITED       00242886   \n",
       "1    INSTITUTE OF AMATEUR CINEMATOGRAPHERS LIMITED(...       00269085   \n",
       "2        NEWCASTLE PEOPLE'S THEATRE ARTS TRUST LIMITED       00393739   \n",
       "3                     MAWSON & WAREHAM (MUSIC) LIMITED       00957980   \n",
       "4                                      TYNESIDE CINEMA       01113101   \n",
       "..                                                 ...            ...   \n",
       "502                                 HARVEY DUCKMAN LTD       15879932   \n",
       "503                                     BUNNY RWLK LTD       15881018   \n",
       "504                               AVERIA AGENCY UK LTD       15888622   \n",
       "505                                 GEORDIE VISION LTD       15906324   \n",
       "506                           PROG ON THE TYNE LIMITED       15918124   \n",
       "\n",
       "    postcode                                           sic_code        lat  \\\n",
       "0    NE6 5QF  [90010 - Performing arts, 90030 - Artistic cre...  54.990445   \n",
       "1    NE3 2DT  [63990 - Other information service activities ...  55.023848   \n",
       "2    NE6 5QF             [90040 - Operation of arts facilities]  54.990445   \n",
       "3    NE1 5BP  [58190 - Other publishing activities, 59112 - ...  54.973132   \n",
       "4    NE1 6QG     [59140 - Motion picture projection activities]  54.973801   \n",
       "..       ...                                                ...        ...   \n",
       "502  NE1 1JF                        [90030 - Artistic creation]  54.969968   \n",
       "503  NE1 5UD  [90010 - Performing arts, 90030 - Artistic cre...  54.971137   \n",
       "504  NE3 1YQ   [63120 - Web portals, 90030 - Artistic creation]  55.002906   \n",
       "505  NE6 2HL              [59112 - Video production activities]  54.970149   \n",
       "506  NE2 2PQ    [90020 - Support activities to performing arts]  54.990131   \n",
       "\n",
       "         long  \n",
       "0   -1.584953  \n",
       "1   -1.620913  \n",
       "2   -1.584953  \n",
       "3   -1.613142  \n",
       "4   -1.611761  \n",
       "..        ...  \n",
       "502 -1.613654  \n",
       "503 -1.618832  \n",
       "504 -1.608369  \n",
       "505 -1.581302  \n",
       "506 -1.601023  \n",
       "\n",
       "[507 rows x 6 columns]"
      ]
     },
     "execution_count": 24,
     "metadata": {},
     "output_type": "execute_result"
    }
   ],
   "source": [
    "culture_companies"
   ]
  },
  {
   "cell_type": "markdown",
   "metadata": {},
   "source": [
    "## Save the companies data"
   ]
  },
  {
   "cell_type": "code",
   "execution_count": 25,
   "metadata": {},
   "outputs": [],
   "source": [
    "culture_companies.sort_values('company_number').to_csv(OUT / 'list.csv', index=False)"
   ]
  },
  {
   "cell_type": "code",
   "execution_count": 26,
   "metadata": {},
   "outputs": [
    {
     "name": "stderr",
     "output_type": "stream",
     "text": [
      "/home/giles/.local/share/virtualenvs/northumbria-culture-connect-dQ7VTDtt/lib/python3.12/site-packages/pyogrio/geopandas.py:662: UserWarning: 'crs' was not provided.  The output dataset will not have projection information defined and may not be usable in other systems.\n",
      "  write(\n"
     ]
    }
   ],
   "source": [
    "geo = gpd.GeoDataFrame(\n",
    "    culture_companies,\n",
    "    geometry=gpd.points_from_xy(culture_companies.long, culture_companies.lat, crs='epsg:4326')\n",
    ")\n",
    "\n",
    "geo.set_crs(None, allow_override=True).to_file(OUT / 'company_locations.geojson')"
   ]
  },
  {
   "cell_type": "markdown",
   "metadata": {},
   "source": [
    "## Process SIC codes"
   ]
  },
  {
   "cell_type": "code",
   "execution_count": 27,
   "metadata": {},
   "outputs": [],
   "source": [
    "sic_lookup = pd.read_csv(REF_DATA / 'sic-lookup.csv', dtype=str).set_index('code')"
   ]
  },
  {
   "cell_type": "code",
   "execution_count": 28,
   "metadata": {},
   "outputs": [],
   "source": [
    "all_sic_codes = (\n",
    "    culture_companies\n",
    "        .explode('sic_code')\n",
    "        .groupby('sic_code')\n",
    "        .company_number.count()\n",
    "        .sort_values(ascending=False)\n",
    "        .reset_index()\n",
    "        .rename(columns={ 'company_number': 'count'})\n",
    ")\n",
    "\n",
    "all_sic_codes[all_sic_codes.sic_code.isin(shortlist_sic_codes.sic_code)].to_csv(OUT / 'sic_codes.csv')\n",
    "\n",
    "all_sic_codes['id'] = all_sic_codes.sic_code.str.extract(r'^(\\d+)')\n",
    "\n",
    "all_sic_codes = (\n",
    "    all_sic_codes\n",
    "        .merge(sic_lookup, left_on='id', right_index=True)\n",
    "        .drop(['sic_code'], axis=1)\n",
    "        .rename(columns={'section': 'group'})\n",
    ")"
   ]
  },
  {
   "cell_type": "markdown",
   "metadata": {},
   "source": [
    "## Calculate linked SIC codes"
   ]
  },
  {
   "cell_type": "code",
   "execution_count": 29,
   "metadata": {},
   "outputs": [],
   "source": [
    "nodes = all_sic_codes.to_dict(orient='records')"
   ]
  },
  {
   "cell_type": "code",
   "execution_count": 30,
   "metadata": {},
   "outputs": [],
   "source": [
    "sources = [n['id'] for n in nodes]"
   ]
  },
  {
   "cell_type": "code",
   "execution_count": 31,
   "metadata": {},
   "outputs": [],
   "source": [
    "network = culture_companies.loc[:, ['sic_code', 'company_number']]\n",
    "network.sic_code = network.sic_code.apply(lambda v: [x.split(' ')[0] for x in v])"
   ]
  },
  {
   "cell_type": "code",
   "execution_count": 32,
   "metadata": {},
   "outputs": [],
   "source": [
    "def count_others(v):\n",
    "    edges = (\n",
    "        network[network.sic_code.apply(lambda x: v in x)]\n",
    "        .explode('sic_code')\n",
    "        .groupby('sic_code')\n",
    "        .company_number.count()\n",
    "        .reset_index()\n",
    "        .rename(columns={'company_number': 'weight', 'sic_code': 'target'})\\\n",
    "    )\n",
    "    edges['source'] = v\n",
    "\n",
    "    return edges.loc[(edges.source != edges.target), ['source', 'target', 'weight']].sort_values('weight', ascending=False)\n",
    "\n",
    "directed_pairs = pd.concat([count_others(s) for s in sources]).reset_index(drop=True)"
   ]
  },
  {
   "cell_type": "markdown",
   "metadata": {},
   "source": [
    "Edges will contain "
   ]
  },
  {
   "cell_type": "code",
   "execution_count": 33,
   "metadata": {},
   "outputs": [],
   "source": [
    "pairs = pd.DataFrame(\n",
    "    directed_pairs[['source', 'target']]\n",
    "        .stack()\n",
    "        .reset_index(level=1, drop=True)\n",
    "        .pipe(lambda e: e.groupby(e.index).apply(lambda x: sorted(list(x))))\n",
    "        .pipe(lambda e: e[e.duplicated()])\n",
    "        .reset_index(drop=True)\n",
    "        .tolist(),\n",
    "    columns=['source', 'target']\n",
    ")\n",
    "\n",
    "edges = pairs.merge(directed_pairs).sort_values('weight', ascending=False).to_dict(orient='records')"
   ]
  },
  {
   "cell_type": "code",
   "execution_count": 34,
   "metadata": {},
   "outputs": [
    {
     "data": {
      "application/vnd.microsoft.datawrangler.viewer.v0+json": {
       "columns": [
        {
         "name": "index",
         "rawType": "int64",
         "type": "integer"
        },
        {
         "name": "source",
         "rawType": "object",
         "type": "string"
        },
        {
         "name": "target",
         "rawType": "object",
         "type": "string"
        },
        {
         "name": "weight",
         "rawType": "int64",
         "type": "integer"
        }
       ],
       "conversionMethod": "pd.DataFrame",
       "ref": "7aedf24d-9fd6-4ee0-ab2b-651c33946ffc",
       "rows": [
        [
         "0",
         "90010",
         "90030",
         "15"
        ],
        [
         "1",
         "85520",
         "85600",
         "13"
        ],
        [
         "2",
         "90010",
         "90020",
         "12"
        ],
        [
         "3",
         "85520",
         "85590",
         "12"
        ],
        [
         "4",
         "59111",
         "59112",
         "11"
        ],
        [
         "5",
         "59112",
         "74202",
         "8"
        ],
        [
         "6",
         "90020",
         "90030",
         "7"
        ],
        [
         "7",
         "59200",
         "90030",
         "6"
        ],
        [
         "8",
         "85590",
         "85600",
         "6"
        ],
        [
         "9",
         "90010",
         "90040",
         "6"
        ],
        [
         "10",
         "74100",
         "90030",
         "5"
        ],
        [
         "11",
         "59112",
         "59113",
         "5"
        ],
        [
         "12",
         "59112",
         "59200",
         "5"
        ],
        [
         "13",
         "90020",
         "90040",
         "5"
        ],
        [
         "14",
         "59200",
         "90010",
         "4"
        ],
        [
         "15",
         "59112",
         "59120",
         "4"
        ],
        [
         "16",
         "59111",
         "59113",
         "4"
        ],
        [
         "17",
         "91012",
         "91020",
         "4"
        ],
        [
         "18",
         "85520",
         "94910",
         "4"
        ],
        [
         "19",
         "85510",
         "85520",
         "4"
        ],
        [
         "20",
         "90030",
         "90040",
         "3"
        ],
        [
         "21",
         "47781",
         "90030",
         "3"
        ],
        [
         "22",
         "59112",
         "73120",
         "3"
        ],
        [
         "23",
         "59112",
         "74209",
         "3"
        ],
        [
         "24",
         "59200",
         "90020",
         "3"
        ],
        [
         "25",
         "59112",
         "90030",
         "3"
        ],
        [
         "26",
         "85520",
         "90010",
         "3"
        ],
        [
         "27",
         "85520",
         "88990",
         "3"
        ],
        [
         "28",
         "85520",
         "96040",
         "3"
        ],
        [
         "29",
         "90020",
         "93290",
         "2"
        ],
        [
         "30",
         "88990",
         "93290",
         "2"
        ],
        [
         "31",
         "20420",
         "90030",
         "2"
        ],
        [
         "32",
         "58110",
         "59112",
         "2"
        ],
        [
         "33",
         "90010",
         "93120",
         "2"
        ],
        [
         "34",
         "90030",
         "93120",
         "2"
        ],
        [
         "35",
         "47890",
         "90030",
         "2"
        ],
        [
         "36",
         "47990",
         "90030",
         "2"
        ],
        [
         "37",
         "59112",
         "59132",
         "2"
        ],
        [
         "38",
         "58142",
         "73110",
         "2"
        ],
        [
         "39",
         "74100",
         "74202",
         "2"
        ],
        [
         "40",
         "59112",
         "60100",
         "2"
        ],
        [
         "41",
         "59111",
         "74202",
         "2"
        ],
        [
         "42",
         "58110",
         "85590",
         "2"
        ],
        [
         "43",
         "58290",
         "62012",
         "2"
        ],
        [
         "44",
         "47910",
         "82990",
         "2"
        ],
        [
         "45",
         "90030",
         "94990",
         "2"
        ],
        [
         "46",
         "56302",
         "90020",
         "2"
        ],
        [
         "47",
         "59112",
         "63910",
         "2"
        ],
        [
         "48",
         "90030",
         "96020",
         "2"
        ],
        [
         "49",
         "47910",
         "58110",
         "2"
        ]
       ],
       "shape": {
        "columns": 3,
        "rows": 348
       }
      },
      "text/html": [
       "<div>\n",
       "<style scoped>\n",
       "    .dataframe tbody tr th:only-of-type {\n",
       "        vertical-align: middle;\n",
       "    }\n",
       "\n",
       "    .dataframe tbody tr th {\n",
       "        vertical-align: top;\n",
       "    }\n",
       "\n",
       "    .dataframe thead th {\n",
       "        text-align: right;\n",
       "    }\n",
       "</style>\n",
       "<table border=\"1\" class=\"dataframe\">\n",
       "  <thead>\n",
       "    <tr style=\"text-align: right;\">\n",
       "      <th></th>\n",
       "      <th>source</th>\n",
       "      <th>target</th>\n",
       "      <th>weight</th>\n",
       "    </tr>\n",
       "  </thead>\n",
       "  <tbody>\n",
       "    <tr>\n",
       "      <th>0</th>\n",
       "      <td>90010</td>\n",
       "      <td>90030</td>\n",
       "      <td>15</td>\n",
       "    </tr>\n",
       "    <tr>\n",
       "      <th>1</th>\n",
       "      <td>85520</td>\n",
       "      <td>85600</td>\n",
       "      <td>13</td>\n",
       "    </tr>\n",
       "    <tr>\n",
       "      <th>2</th>\n",
       "      <td>90010</td>\n",
       "      <td>90020</td>\n",
       "      <td>12</td>\n",
       "    </tr>\n",
       "    <tr>\n",
       "      <th>3</th>\n",
       "      <td>85520</td>\n",
       "      <td>85590</td>\n",
       "      <td>12</td>\n",
       "    </tr>\n",
       "    <tr>\n",
       "      <th>4</th>\n",
       "      <td>59111</td>\n",
       "      <td>59112</td>\n",
       "      <td>11</td>\n",
       "    </tr>\n",
       "    <tr>\n",
       "      <th>...</th>\n",
       "      <td>...</td>\n",
       "      <td>...</td>\n",
       "      <td>...</td>\n",
       "    </tr>\n",
       "    <tr>\n",
       "      <th>343</th>\n",
       "      <td>74990</td>\n",
       "      <td>94990</td>\n",
       "      <td>1</td>\n",
       "    </tr>\n",
       "    <tr>\n",
       "      <th>344</th>\n",
       "      <td>59112</td>\n",
       "      <td>74901</td>\n",
       "      <td>1</td>\n",
       "    </tr>\n",
       "    <tr>\n",
       "      <th>345</th>\n",
       "      <td>74901</td>\n",
       "      <td>79120</td>\n",
       "      <td>1</td>\n",
       "    </tr>\n",
       "    <tr>\n",
       "      <th>346</th>\n",
       "      <td>59200</td>\n",
       "      <td>86220</td>\n",
       "      <td>1</td>\n",
       "    </tr>\n",
       "    <tr>\n",
       "      <th>347</th>\n",
       "      <td>86220</td>\n",
       "      <td>90010</td>\n",
       "      <td>1</td>\n",
       "    </tr>\n",
       "  </tbody>\n",
       "</table>\n",
       "<p>348 rows × 3 columns</p>\n",
       "</div>"
      ],
      "text/plain": [
       "    source target  weight\n",
       "0    90010  90030      15\n",
       "1    85520  85600      13\n",
       "2    90010  90020      12\n",
       "3    85520  85590      12\n",
       "4    59111  59112      11\n",
       "..     ...    ...     ...\n",
       "343  74990  94990       1\n",
       "344  59112  74901       1\n",
       "345  74901  79120       1\n",
       "346  59200  86220       1\n",
       "347  86220  90010       1\n",
       "\n",
       "[348 rows x 3 columns]"
      ]
     },
     "execution_count": 34,
     "metadata": {},
     "output_type": "execute_result"
    }
   ],
   "source": [
    "pd.DataFrame(edges)"
   ]
  },
  {
   "cell_type": "code",
   "execution_count": 35,
   "metadata": {},
   "outputs": [],
   "source": [
    "with open(OUT / 'graph.json', 'w') as graph:\n",
    "    json.dump({ 'nodes': nodes, 'edges': edges }, fp=graph, indent=2)"
   ]
  },
  {
   "cell_type": "code",
   "execution_count": null,
   "metadata": {},
   "outputs": [],
   "source": []
  }
 ],
 "metadata": {
  "kernelspec": {
   "display_name": "northumbria-culture-connect-dQ7VTDtt",
   "language": "python",
   "name": "python3"
  },
  "language_info": {
   "codemirror_mode": {
    "name": "ipython",
    "version": 3
   },
   "file_extension": ".py",
   "mimetype": "text/x-python",
   "name": "python",
   "nbconvert_exporter": "python",
   "pygments_lexer": "ipython3",
   "version": "3.12.3"
  }
 },
 "nbformat": 4,
 "nbformat_minor": 2
}
