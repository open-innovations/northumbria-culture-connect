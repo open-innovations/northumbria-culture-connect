{
 "cells": [
  {
   "cell_type": "markdown",
   "metadata": {},
   "source": [
    "# Landscape map - stage 3\n",
    "\n",
    "This stage merges the raw longlist with the candidate data from the reference sources to create the new list.\n",
    "\n",
    "It round-trips the data from the existing landscape list to ensure that any manual overrides are included."
   ]
  },
  {
   "cell_type": "code",
   "execution_count": 1,
   "metadata": {},
   "outputs": [],
   "source": [
    "import duckdb\n",
    "import petl as etl\n",
    "from pipeline_utils.reference.geo import la_code_lookup\n",
    "from pipeline_utils.reference.onspd import normalise_postcode, postcode_lookup\n",
    "from pipeline_utils.filesystem.paths import RAW_DATA, DATA"
   ]
  },
  {
   "cell_type": "markdown",
   "metadata": {},
   "source": [
    "Load the spelling corrections we have inferred from the matching stage."
   ]
  },
  {
   "cell_type": "code",
   "execution_count": 2,
   "metadata": {},
   "outputs": [],
   "source": [
    "corrections = etl.fromcsv(RAW_DATA / 'landscape-map-corrections.csv').lookupone('organisation', 'match')"
   ]
  },
  {
   "cell_type": "markdown",
   "metadata": {},
   "source": [
    "Load the untagged longlist from the raw directory and perform the following operations:\n",
    "\n",
    "1. Convert numeric data to numbers\n",
    "2. Correct the spellings of the organisational data\n",
    "3. Augment with local authority data"
   ]
  },
  {
   "cell_type": "code",
   "execution_count": 3,
   "metadata": {},
   "outputs": [
    {
     "data": {
      "text/html": [
       "<table class='petl'>\n",
       "<thead>\n",
       "<tr>\n",
       "<th>organisation</th>\n",
       "<th>Source</th>\n",
       "<th>Number</th>\n",
       "<th>funding_geo_code</th>\n",
       "<th>funding_geo_name</th>\n",
       "</tr>\n",
       "</thead>\n",
       "<tbody>\n",
       "<tr>\n",
       "<td>4M Puppets</td>\n",
       "<td>Project Grant</td>\n",
       "<td style='text-align: right'>1</td>\n",
       "<td>E08000021</td>\n",
       "<td>Newcastle upon Tyne</td>\n",
       "</tr>\n",
       "<tr>\n",
       "<td>Abdulrahman Abu - Zayd</td>\n",
       "<td>Project Grant</td>\n",
       "<td style='text-align: right'>1</td>\n",
       "<td>E08000037</td>\n",
       "<td>Gateshead</td>\n",
       "</tr>\n",
       "<tr>\n",
       "<td>Action for Children</td>\n",
       "<td>Project Grant</td>\n",
       "<td style='text-align: right'>1</td>\n",
       "<td>E06000057</td>\n",
       "<td>Northumberland</td>\n",
       "</tr>\n",
       "<tr>\n",
       "<td>Adam Phillips</td>\n",
       "<td>Project Grant</td>\n",
       "<td style='text-align: right'>3</td>\n",
       "<td>E08000037</td>\n",
       "<td>Gateshead</td>\n",
       "</tr>\n",
       "<tr>\n",
       "<td>Adam Shield</td>\n",
       "<td>Project Grant</td>\n",
       "<td style='text-align: right'>1</td>\n",
       "<td>E08000021</td>\n",
       "<td>Newcastle upon Tyne</td>\n",
       "</tr>\n",
       "</tbody>\n",
       "</table>\n",
       "<p><strong>...</strong></p>"
      ],
      "text/plain": [
       "+--------------------------+-----------------+--------+------------------+-----------------------+\n",
       "| organisation             | Source          | Number | funding_geo_code | funding_geo_name      |\n",
       "+==========================+=================+========+==================+=======================+\n",
       "| '4M Puppets'             | 'Project Grant' |      1 | 'E08000021'      | 'Newcastle upon Tyne' |\n",
       "+--------------------------+-----------------+--------+------------------+-----------------------+\n",
       "| 'Abdulrahman Abu - Zayd' | 'Project Grant' |      1 | 'E08000037'      | 'Gateshead'           |\n",
       "+--------------------------+-----------------+--------+------------------+-----------------------+\n",
       "| 'Action for Children'    | 'Project Grant' |      1 | 'E06000057'      | 'Northumberland'      |\n",
       "+--------------------------+-----------------+--------+------------------+-----------------------+\n",
       "| 'Adam Phillips'          | 'Project Grant' |      3 | 'E08000037'      | 'Gateshead'           |\n",
       "+--------------------------+-----------------+--------+------------------+-----------------------+\n",
       "| 'Adam Shield'            | 'Project Grant' |      1 | 'E08000021'      | 'Newcastle upon Tyne' |\n",
       "+--------------------------+-----------------+--------+------------------+-----------------------+\n",
       "..."
      ]
     },
     "execution_count": 3,
     "metadata": {},
     "output_type": "execute_result"
    }
   ],
   "source": [
    "raw = etl.fromcsv(\n",
    "    RAW_DATA / 'landscape-longlist-raw.csv'\n",
    ").convertnumbers(\n",
    ").convert(\n",
    "    'organisation', lambda x: corrections.get(x, x)\n",
    ").convert(\n",
    "    'Local authority', la_code_lookup\n",
    ").unpackdict(\n",
    "    'Local authority'\n",
    ").rename({\n",
    "    'LAD24CD': 'funding_geo_code',\n",
    "    'LAD24NM': 'funding_geo_name',\n",
    "}).cache()\n",
    "\n",
    "raw"
   ]
  },
  {
   "cell_type": "markdown",
   "metadata": {},
   "source": [
    "Get the list of sources in the longlist. We'll use this to update the values in the columns later on."
   ]
  },
  {
   "cell_type": "code",
   "execution_count": 4,
   "metadata": {},
   "outputs": [
    {
     "data": {
      "text/plain": [
       "('IPSO', 'NPO', 'Project Grant')"
      ]
     },
     "execution_count": 4,
     "metadata": {},
     "output_type": "execute_result"
    }
   ],
   "source": [
    "sources = tuple(raw.cut('Source').distinct().values('Source'))\n",
    "sources"
   ]
  },
  {
   "cell_type": "markdown",
   "metadata": {},
   "source": [
    "Recast the longlist to convert the Source column into a column per entry, and convert any non-None values into True"
   ]
  },
  {
   "cell_type": "code",
   "execution_count": 5,
   "metadata": {},
   "outputs": [
    {
     "data": {
      "text/html": [
       "<table class='petl'>\n",
       "<thead>\n",
       "<tr>\n",
       "<th>organisation</th>\n",
       "<th>funding_geo_code</th>\n",
       "<th>funding_geo_name</th>\n",
       "<th>IPSO</th>\n",
       "<th>NPO</th>\n",
       "<th>Project Grant</th>\n",
       "</tr>\n",
       "</thead>\n",
       "<tbody>\n",
       "<tr>\n",
       "<td>4M Puppets</td>\n",
       "<td>E08000021</td>\n",
       "<td>Newcastle upon Tyne</td>\n",
       "<td>None</td>\n",
       "<td>None</td>\n",
       "<td>True</td>\n",
       "</tr>\n",
       "<tr>\n",
       "<td>Abdulrahman Abu - Zayd</td>\n",
       "<td>E08000037</td>\n",
       "<td>Gateshead</td>\n",
       "<td>None</td>\n",
       "<td>None</td>\n",
       "<td>True</td>\n",
       "</tr>\n",
       "<tr>\n",
       "<td>Action for Children</td>\n",
       "<td>E06000057</td>\n",
       "<td>Northumberland</td>\n",
       "<td>None</td>\n",
       "<td>None</td>\n",
       "<td>True</td>\n",
       "</tr>\n",
       "<tr>\n",
       "<td>Adam Phillips</td>\n",
       "<td>E08000037</td>\n",
       "<td>Gateshead</td>\n",
       "<td>None</td>\n",
       "<td>None</td>\n",
       "<td>True</td>\n",
       "</tr>\n",
       "<tr>\n",
       "<td>Adam Shield</td>\n",
       "<td>E08000021</td>\n",
       "<td>Newcastle upon Tyne</td>\n",
       "<td>None</td>\n",
       "<td>None</td>\n",
       "<td>True</td>\n",
       "</tr>\n",
       "</tbody>\n",
       "</table>\n",
       "<p><strong>...</strong></p>"
      ],
      "text/plain": [
       "+--------------------------+------------------+-----------------------+------+------+---------------+\n",
       "| organisation             | funding_geo_code | funding_geo_name      | IPSO | NPO  | Project Grant |\n",
       "+==========================+==================+=======================+======+======+===============+\n",
       "| '4M Puppets'             | 'E08000021'      | 'Newcastle upon Tyne' | None | None | True          |\n",
       "+--------------------------+------------------+-----------------------+------+------+---------------+\n",
       "| 'Abdulrahman Abu - Zayd' | 'E08000037'      | 'Gateshead'           | None | None | True          |\n",
       "+--------------------------+------------------+-----------------------+------+------+---------------+\n",
       "| 'Action for Children'    | 'E06000057'      | 'Northumberland'      | None | None | True          |\n",
       "+--------------------------+------------------+-----------------------+------+------+---------------+\n",
       "| 'Adam Phillips'          | 'E08000037'      | 'Gateshead'           | None | None | True          |\n",
       "+--------------------------+------------------+-----------------------+------+------+---------------+\n",
       "| 'Adam Shield'            | 'E08000021'      | 'Newcastle upon Tyne' | None | None | True          |\n",
       "+--------------------------+------------------+-----------------------+------+------+---------------+\n",
       "..."
      ]
     },
     "execution_count": 5,
     "metadata": {},
     "output_type": "execute_result"
    }
   ],
   "source": [
    "wide_table = raw.recast(\n",
    "    variablefield=\"Source\",\n",
    "    valuefield=\"Number\"\n",
    ").convert(\n",
    "    sources,\n",
    "    lambda x: True if x is not None else None\n",
    ")\n",
    "wide_table"
   ]
  },
  {
   "cell_type": "markdown",
   "metadata": {},
   "source": [
    "At this point we will also add in new data from the result of stage 2.\n",
    "\n",
    "1. `location` Manually set locations \n",
    "2. `companies` Company data from Companies house (direct and fuzzy matched)"
   ]
  },
  {
   "cell_type": "code",
   "execution_count": 6,
   "metadata": {},
   "outputs": [],
   "source": [
    "location = etl.fromcsv(RAW_DATA / 'landscape-locations.csv').lookupone('organisation', ['latitude', 'longitude'])"
   ]
  },
  {
   "cell_type": "markdown",
   "metadata": {},
   "source": [
    "Direct and fuzzy data is loaded from the database."
   ]
  },
  {
   "cell_type": "code",
   "execution_count": 7,
   "metadata": {},
   "outputs": [],
   "source": [
    "db = duckdb.connect(RAW_DATA / 'company-data.db', read_only=True)\n",
    "db.query('''\n",
    "         CREATE OR REPLACE TEMP TABLE tCompanies AS\n",
    "              SELECT match as organisation, CompanyNumber as company_number, type, score\n",
    "                     FROM read_csv('../raw/landscape-map-company-fuzzy.csv')\n",
    "              UNION ALL\n",
    "              SELECT organisation, charity_company_registration_number AS company_number, 'charity' AS type, 100 AS score\n",
    "                     FROM read_csv('../raw/landscape-map-charity-direct.csv')\n",
    "              UNION ALL\n",
    "              SELECT *, 'direct' AS type, 100 as score\n",
    "                     FROM read_csv('../raw/landscape-map-company-direct.csv');\n",
    "         CREATE OR REPLACE TEMP TABLE tCharities AS\n",
    "              SELECT *\n",
    "                     FROM read_csv('../raw/landscape-map-charity-direct.csv');\n",
    "         ''')\n"
   ]
  },
  {
   "cell_type": "code",
   "execution_count": 8,
   "metadata": {},
   "outputs": [],
   "source": [
    "companies = etl.fromdataframe(\n",
    "    db.query('''\n",
    "             SELECT m.organisation as organisation,\n",
    "                c.CompanyName as registered_name,\n",
    "                c.CompanyNumber as company_number,\n",
    "                m.type,\n",
    "                m.score,\n",
    "                \"URI\" as uri,\n",
    "                \"RegAddress.PostTown\" as post_town,\n",
    "                \"RegAddress.PostCode\" as postcode,\n",
    "                CompanyCategory as company_category,\n",
    "                CompanyStatus as company_status,\n",
    "                [x for x in [\n",
    "                        \"SICCode.SicText_1\",\n",
    "                        \"SICCode.SicText_2\",\n",
    "                        \"SICCode.SicText_3\",\n",
    "                        \"SICCode.SicText_4\"\n",
    "                ] if x is not NULL] as sic_code,\n",
    "                IncorporationDate as incorporation_date,\n",
    "                DissolutionDate as dissolution_date,\n",
    "                \"Accounts.AccountCategory\" as accounts_category\n",
    "             FROM tCompanies m\n",
    "             JOIN CompanyData c\n",
    "             ON m.company_number == c.CompanyNumber;\n",
    "             ''').df())"
   ]
  },
  {
   "cell_type": "code",
   "execution_count": 9,
   "metadata": {},
   "outputs": [],
   "source": [
    "charities = etl.fromdataframe(\n",
    "    db.query('''\n",
    "             SELECT\n",
    "             l.organisation,\n",
    "             c.charity_name,\n",
    "             c.registered_charity_number,\n",
    "             c.charity_company_registration_number,\n",
    "             charity_contact_postcode,\n",
    "             charity_contact_web,\n",
    "             latest_income AS charity_latest_income,\n",
    "             latest_expenditure AS charity_latest_expenditure\n",
    "             FROM Charities c\n",
    "             JOIN tCharities l\n",
    "             ON c.registered_charity_number == l.registered_charity_number\n",
    "             ''').df()\n",
    ")"
   ]
  },
  {
   "cell_type": "code",
   "execution_count": 10,
   "metadata": {},
   "outputs": [],
   "source": [
    "db.close()"
   ]
  },
  {
   "cell_type": "code",
   "execution_count": 11,
   "metadata": {},
   "outputs": [],
   "source": [
    "company_data = companies.dictlookupone('organisation')\n",
    "charity_data = charities.dictlookupone('organisation')"
   ]
  },
  {
   "cell_type": "markdown",
   "metadata": {},
   "source": [
    "Create the new landscape table"
   ]
  },
  {
   "cell_type": "code",
   "execution_count": 12,
   "metadata": {},
   "outputs": [
    {
     "data": {
      "text/html": [
       "<table class='petl'>\n",
       "<thead>\n",
       "<tr>\n",
       "<th>organisation</th>\n",
       "<th>funding_geo_code</th>\n",
       "<th>funding_geo_name</th>\n",
       "<th>IPSO</th>\n",
       "<th>NPO</th>\n",
       "<th>Project Grant</th>\n",
       "<th>latitude</th>\n",
       "<th>longitude</th>\n",
       "<th>company_category</th>\n",
       "<th>accounts_category</th>\n",
       "<th>company_number</th>\n",
       "<th>company_status</th>\n",
       "<th>dissolution_date</th>\n",
       "<th>incorporation_date</th>\n",
       "<th>post_town</th>\n",
       "<th>sic_code</th>\n",
       "<th>uri</th>\n",
       "<th>type</th>\n",
       "<th>score</th>\n",
       "<th>charity_name</th>\n",
       "<th>registered_charity_number</th>\n",
       "<th>charity_company_registration_number</th>\n",
       "<th>charity_contact_postcode</th>\n",
       "<th>charity_contact_web</th>\n",
       "<th>charity_latest_expenditure</th>\n",
       "<th>charity_latest_income</th>\n",
       "<th>pcds</th>\n",
       "<th>oslaua</th>\n",
       "</tr>\n",
       "</thead>\n",
       "<tbody>\n",
       "<tr>\n",
       "<td>Sangini</td>\n",
       "<td>E08000023</td>\n",
       "<td>South Tyneside</td>\n",
       "<td>None</td>\n",
       "<td>None</td>\n",
       "<td>True</td>\n",
       "<td>None</td>\n",
       "<td>None</td>\n",
       "<td>None</td>\n",
       "<td>None</td>\n",
       "<td>None</td>\n",
       "<td>None</td>\n",
       "<td>None</td>\n",
       "<td>None</td>\n",
       "<td>None</td>\n",
       "<td>None</td>\n",
       "<td>None</td>\n",
       "<td>None</td>\n",
       "<td>None</td>\n",
       "<td>SANGINI</td>\n",
       "<td style='text-align: right'>1124769</td>\n",
       "<td>01124769</td>\n",
       "<td>NE34 0RG</td>\n",
       "<td>https://sanginiafriend.wordpress.com</td>\n",
       "<td>43660</td>\n",
       "<td>86708</td>\n",
       "<td>None</td>\n",
       "<td>None</td>\n",
       "</tr>\n",
       "</tbody>\n",
       "</table>\n"
      ],
      "text/plain": [
       "+--------------+------------------+------------------+------+------+---------------+----------+-----------+------------------+-------------------+----------------+----------------+------------------+--------------------+-----------+----------+------+------+-------+--------------+---------------------------+-------------------------------------+--------------------------+----------------------------------------+----------------------------+-----------------------+------+--------+\n",
       "| organisation | funding_geo_code | funding_geo_name | IPSO | NPO  | Project Grant | latitude | longitude | company_category | accounts_category | company_number | company_status | dissolution_date | incorporation_date | post_town | sic_code | uri  | type | score | charity_name | registered_charity_number | charity_company_registration_number | charity_contact_postcode | charity_contact_web                    | charity_latest_expenditure | charity_latest_income | pcds | oslaua |\n",
       "+==============+==================+==================+======+======+===============+==========+===========+==================+===================+================+================+==================+====================+===========+==========+======+======+=======+==============+===========================+=====================================+==========================+========================================+============================+=======================+======+========+\n",
       "| 'Sangini'    | 'E08000023'      | 'South Tyneside' | None | None | True          | None     | None      | None             | None              | None           | None           | None             | None               | None      | None     | None | None | None  | 'SANGINI'    |                   1124769 | '01124769'                          | 'NE34 0RG'               | 'https://sanginiafriend.wordpress.com' | '43660'                    | '86708'               | None | None   |\n",
       "+--------------+------------------+------------------+------+------+---------------+----------+-----------+------------------+-------------------+----------------+----------------+------------------+--------------------+-----------+----------+------+------+-------+--------------+---------------------------+-------------------------------------+--------------------------+----------------------------------------+----------------------------+-----------------------+------+--------+"
      ]
     },
     "execution_count": 12,
     "metadata": {},
     "output_type": "execute_result"
    }
   ],
   "source": [
    "landscape = (\n",
    "    wide_table\n",
    "    .addfield('location', lambda r: location.get(r.organisation, ()))\n",
    "    .unpack('location', newfields=['latitude', 'longitude'])\n",
    "    .addfield('company_data', lambda r: company_data.get(r.organisation, {}))\n",
    "    .unpackdict('company_data', keys=[\n",
    "        'company_category',\n",
    "        'accounts_category',\n",
    "        'company_number',\n",
    "        'company_status',\n",
    "        'dissolution_date',\n",
    "        'incorporation_date',\n",
    "        'post_town',\n",
    "        'postcode',\n",
    "        'sic_code',\n",
    "        'uri',\n",
    "        'type', 'score'\n",
    "    ])\n",
    "    .convert('postcode', normalise_postcode)\n",
    "    .addfield('charity_data', lambda r: charity_data.get(r.organisation, {}))\n",
    "    .unpackdict('charity_data', keys=[\n",
    "        'charity_name',\n",
    "        'registered_charity_number',\n",
    "        'charity_company_registration_number',\n",
    "        'charity_contact_postcode',\n",
    "        'charity_contact_web',\n",
    "        'charity_latest_expenditure',\n",
    "        'charity_latest_income',\n",
    "    ])\n",
    "    .convert('postcode', lambda x: postcode_lookup.get(x, { 'pcds': x }))\n",
    "    .unpackdict('postcode', keys=['pcds', 'lat', 'long', 'oslaua'])\n",
    "    .convert('latitude', lambda x, r: r['lat'], pass_row=True, where=lambda r: r['latitude'] == None and r['lat'] != None)\n",
    "    .convert('longitude', lambda x, r: r['long'], pass_row=True, where=lambda r: r['longitude'] == None and r['long'] != None)\n",
    "    .cutout('lat', 'long')\n",
    "    .sort('organisation')\n",
    ")\n",
    "landscape.selectnotnone('registered_charity_number').select(lambda r: r.company_number != r.charity_company_registration_number)"
   ]
  },
  {
   "cell_type": "markdown",
   "metadata": {},
   "source": [
    "Finally, write the CSV file"
   ]
  },
  {
   "cell_type": "code",
   "execution_count": 13,
   "metadata": {},
   "outputs": [],
   "source": [
    "landscape.tocsv(DATA / 'culture_landscape.csv')"
   ]
  },
  {
   "cell_type": "code",
   "execution_count": null,
   "metadata": {},
   "outputs": [],
   "source": []
  }
 ],
 "metadata": {
  "kernelspec": {
   "display_name": "northumbria-culture-connect-dQ7VTDtt",
   "language": "python",
   "name": "python3"
  },
  "language_info": {
   "codemirror_mode": {
    "name": "ipython",
    "version": 3
   },
   "file_extension": ".py",
   "mimetype": "text/x-python",
   "name": "python",
   "nbconvert_exporter": "python",
   "pygments_lexer": "ipython3",
   "version": "3.12.6"
  }
 },
 "nbformat": 4,
 "nbformat_minor": 2
}
