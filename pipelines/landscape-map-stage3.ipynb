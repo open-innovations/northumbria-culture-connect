{
 "cells": [
  {
   "cell_type": "markdown",
   "metadata": {},
   "source": [
    "# Landscape map - stage 3\n",
    "\n",
    "This stage merges the raw longlist with the candidate data from the reference sources to create the new list.\n",
    "\n",
    "It round-trips the data from the existing landscape list to ensure that any manual overrides are included."
   ]
  },
  {
   "cell_type": "code",
   "execution_count": 1,
   "metadata": {},
   "outputs": [],
   "source": [
    "from pathlib import Path\n",
    "\n",
    "import petl as etl\n",
    "from pipeline_utils.reference.geo import la_code_lookup"
   ]
  },
  {
   "cell_type": "code",
   "execution_count": 2,
   "metadata": {},
   "outputs": [],
   "source": [
    "RAW_DATA = Path('../raw/')\n",
    "DATA = Path('../data/')"
   ]
  },
  {
   "cell_type": "markdown",
   "metadata": {},
   "source": [
    "Load the untagged longlist from the raw directory and augment with local authority data"
   ]
  },
  {
   "cell_type": "code",
   "execution_count": 3,
   "metadata": {},
   "outputs": [
    {
     "data": {
      "text/html": [
       "<table class='petl'>\n",
       "<thead>\n",
       "<tr>\n",
       "<th>organisation</th>\n",
       "<th>Source</th>\n",
       "<th>Number</th>\n",
       "<th>LAD24CD</th>\n",
       "<th>LAD24NM</th>\n",
       "</tr>\n",
       "</thead>\n",
       "<tbody>\n",
       "<tr>\n",
       "<td>4M Puppets</td>\n",
       "<td>Project Grant</td>\n",
       "<td style='text-align: right'>1</td>\n",
       "<td>E08000021</td>\n",
       "<td>Newcastle upon Tyne</td>\n",
       "</tr>\n",
       "<tr>\n",
       "<td>Abdulrahman Abu - Zayd</td>\n",
       "<td>Project Grant</td>\n",
       "<td style='text-align: right'>1</td>\n",
       "<td>E08000037</td>\n",
       "<td>Gateshead</td>\n",
       "</tr>\n",
       "<tr>\n",
       "<td>Action for Children</td>\n",
       "<td>Project Grant</td>\n",
       "<td style='text-align: right'>1</td>\n",
       "<td>E06000057</td>\n",
       "<td>Northumberland</td>\n",
       "</tr>\n",
       "<tr>\n",
       "<td>Adam Phillips</td>\n",
       "<td>Project Grant</td>\n",
       "<td style='text-align: right'>3</td>\n",
       "<td>E08000037</td>\n",
       "<td>Gateshead</td>\n",
       "</tr>\n",
       "<tr>\n",
       "<td>Adam Shield</td>\n",
       "<td>Project Grant</td>\n",
       "<td style='text-align: right'>1</td>\n",
       "<td>E08000021</td>\n",
       "<td>Newcastle upon Tyne</td>\n",
       "</tr>\n",
       "</tbody>\n",
       "</table>\n",
       "<p><strong>...</strong></p>"
      ],
      "text/plain": [
       "+--------------------------+-----------------+--------+-------------+-----------------------+\n",
       "| organisation             | Source          | Number | LAD24CD     | LAD24NM               |\n",
       "+==========================+=================+========+=============+=======================+\n",
       "| '4M Puppets'             | 'Project Grant' |      1 | 'E08000021' | 'Newcastle upon Tyne' |\n",
       "+--------------------------+-----------------+--------+-------------+-----------------------+\n",
       "| 'Abdulrahman Abu - Zayd' | 'Project Grant' |      1 | 'E08000037' | 'Gateshead'           |\n",
       "+--------------------------+-----------------+--------+-------------+-----------------------+\n",
       "| 'Action for Children'    | 'Project Grant' |      1 | 'E06000057' | 'Northumberland'      |\n",
       "+--------------------------+-----------------+--------+-------------+-----------------------+\n",
       "| 'Adam Phillips'          | 'Project Grant' |      3 | 'E08000037' | 'Gateshead'           |\n",
       "+--------------------------+-----------------+--------+-------------+-----------------------+\n",
       "| 'Adam Shield'            | 'Project Grant' |      1 | 'E08000021' | 'Newcastle upon Tyne' |\n",
       "+--------------------------+-----------------+--------+-------------+-----------------------+\n",
       "..."
      ]
     },
     "execution_count": 3,
     "metadata": {},
     "output_type": "execute_result"
    }
   ],
   "source": [
    "raw = etl.fromcsv(\n",
    "    RAW_DATA / 'landscape-longlist-raw.csv'\n",
    ").convertnumbers(\n",
    ").convert(\n",
    "    'Local authority', la_code_lookup\n",
    ").unpackdict(\n",
    "    'Local authority'\n",
    ").cache()\n",
    "\n",
    "raw"
   ]
  },
  {
   "cell_type": "markdown",
   "metadata": {},
   "source": [
    "Get the list of sources in the longlist. We'll use this to update the values in the columns later on."
   ]
  },
  {
   "cell_type": "code",
   "execution_count": 4,
   "metadata": {},
   "outputs": [
    {
     "data": {
      "text/plain": [
       "('IPSO', 'NPO', 'Project Grant')"
      ]
     },
     "execution_count": 4,
     "metadata": {},
     "output_type": "execute_result"
    }
   ],
   "source": [
    "sources = tuple(raw.cut('Source').distinct().values('Source'))\n",
    "\n",
    "sources"
   ]
  },
  {
   "cell_type": "markdown",
   "metadata": {},
   "source": [
    "Recast the longlist to convert the Source column into a column per entry, and convert any non-None values into True"
   ]
  },
  {
   "cell_type": "code",
   "execution_count": 5,
   "metadata": {},
   "outputs": [],
   "source": [
    "updates = raw.recast(\n",
    "    variablefield=\"Source\",\n",
    "    valuefield=\"Number\"\n",
    ").convert(\n",
    "    sources,\n",
    "    lambda x: True if x is not None else None\n",
    ")"
   ]
  },
  {
   "cell_type": "markdown",
   "metadata": {},
   "source": [
    "At this point we will also add in new data from the result of stage 2."
   ]
  },
  {
   "cell_type": "code",
   "execution_count": 6,
   "metadata": {},
   "outputs": [],
   "source": [
    "location = etl.fromcsv(RAW_DATA / 'landscape-locations.csv').lookupone('organisation', ['latitude', 'longitude'])"
   ]
  },
  {
   "cell_type": "markdown",
   "metadata": {},
   "source": [
    "Set the path to the longlist"
   ]
  },
  {
   "cell_type": "code",
   "execution_count": 7,
   "metadata": {},
   "outputs": [],
   "source": [
    "CULTURE_LANDSCAPE_CSV = Path('../data/culture_landscape.csv')"
   ]
  },
  {
   "cell_type": "markdown",
   "metadata": {},
   "source": [
    "Create the new landscape file"
   ]
  },
  {
   "cell_type": "code",
   "execution_count": 8,
   "metadata": {},
   "outputs": [
    {
     "data": {
      "text/html": [
       "<table class='petl'>\n",
       "<thead>\n",
       "<tr>\n",
       "<th>organisation</th>\n",
       "<th>LAD24CD</th>\n",
       "<th>LAD24NM</th>\n",
       "<th>IPSO</th>\n",
       "<th>NPO</th>\n",
       "<th>Project Grant</th>\n",
       "<th>latitude</th>\n",
       "<th>longitude</th>\n",
       "</tr>\n",
       "</thead>\n",
       "<tbody>\n",
       "<tr>\n",
       "<td>4M Puppets</td>\n",
       "<td>E08000021</td>\n",
       "<td>Newcastle upon Tyne</td>\n",
       "<td>None</td>\n",
       "<td>None</td>\n",
       "<td>True</td>\n",
       "<td>None</td>\n",
       "<td>None</td>\n",
       "</tr>\n",
       "<tr>\n",
       "<td>Abdulrahman Abu - Zayd</td>\n",
       "<td>E08000037</td>\n",
       "<td>Gateshead</td>\n",
       "<td>None</td>\n",
       "<td>None</td>\n",
       "<td>True</td>\n",
       "<td>None</td>\n",
       "<td>None</td>\n",
       "</tr>\n",
       "<tr>\n",
       "<td>Action for Children</td>\n",
       "<td>E06000057</td>\n",
       "<td>Northumberland</td>\n",
       "<td>None</td>\n",
       "<td>None</td>\n",
       "<td>True</td>\n",
       "<td>None</td>\n",
       "<td>None</td>\n",
       "</tr>\n",
       "<tr>\n",
       "<td>Adam Phillips</td>\n",
       "<td>E08000037</td>\n",
       "<td>Gateshead</td>\n",
       "<td>None</td>\n",
       "<td>None</td>\n",
       "<td>True</td>\n",
       "<td>None</td>\n",
       "<td>None</td>\n",
       "</tr>\n",
       "<tr>\n",
       "<td>Adam Shield</td>\n",
       "<td>E08000021</td>\n",
       "<td>Newcastle upon Tyne</td>\n",
       "<td>None</td>\n",
       "<td>None</td>\n",
       "<td>True</td>\n",
       "<td>None</td>\n",
       "<td>None</td>\n",
       "</tr>\n",
       "</tbody>\n",
       "</table>\n",
       "<p><strong>...</strong></p>"
      ],
      "text/plain": [
       "+--------------------------+-------------+-----------------------+------+------+---------------+----------+-----------+\n",
       "| organisation             | LAD24CD     | LAD24NM               | IPSO | NPO  | Project Grant | latitude | longitude |\n",
       "+==========================+=============+=======================+======+======+===============+==========+===========+\n",
       "| '4M Puppets'             | 'E08000021' | 'Newcastle upon Tyne' | None | None | True          | None     | None      |\n",
       "+--------------------------+-------------+-----------------------+------+------+---------------+----------+-----------+\n",
       "| 'Abdulrahman Abu - Zayd' | 'E08000037' | 'Gateshead'           | None | None | True          | None     | None      |\n",
       "+--------------------------+-------------+-----------------------+------+------+---------------+----------+-----------+\n",
       "| 'Action for Children'    | 'E06000057' | 'Northumberland'      | None | None | True          | None     | None      |\n",
       "+--------------------------+-------------+-----------------------+------+------+---------------+----------+-----------+\n",
       "| 'Adam Phillips'          | 'E08000037' | 'Gateshead'           | None | None | True          | None     | None      |\n",
       "+--------------------------+-------------+-----------------------+------+------+---------------+----------+-----------+\n",
       "| 'Adam Shield'            | 'E08000021' | 'Newcastle upon Tyne' | None | None | True          | None     | None      |\n",
       "+--------------------------+-------------+-----------------------+------+------+---------------+----------+-----------+\n",
       "..."
      ]
     },
     "execution_count": 8,
     "metadata": {},
     "output_type": "execute_result"
    }
   ],
   "source": [
    "landscape = (\n",
    "    updates\n",
    "    .addfield('location', lambda r: location.get(r.organisation, ()))\n",
    "    .unpack('location', newfields=['latitude', 'longitude'])\n",
    ")\n",
    "landscape"
   ]
  },
  {
   "cell_type": "markdown",
   "metadata": {},
   "source": [
    "Finally, write back out to the CSV file"
   ]
  },
  {
   "cell_type": "code",
   "execution_count": 9,
   "metadata": {},
   "outputs": [],
   "source": [
    "landscape.tocsv(DATA / 'culture_landscape.csv')"
   ]
  }
 ],
 "metadata": {
  "kernelspec": {
   "display_name": "northumbria-culture-connect-dQ7VTDtt",
   "language": "python",
   "name": "python3"
  },
  "language_info": {
   "codemirror_mode": {
    "name": "ipython",
    "version": 3
   },
   "file_extension": ".py",
   "mimetype": "text/x-python",
   "name": "python",
   "nbconvert_exporter": "python",
   "pygments_lexer": "ipython3",
   "version": "3.12.6"
  }
 },
 "nbformat": 4,
 "nbformat_minor": 2
}
